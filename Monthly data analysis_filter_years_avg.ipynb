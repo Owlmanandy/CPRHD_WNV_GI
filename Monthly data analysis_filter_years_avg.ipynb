{
 "cells": [
  {
   "cell_type": "code",
   "execution_count": 19,
   "metadata": {},
   "outputs": [
    {
     "data": {
      "application/javascript": [
       "\n",
       "Jupyter.keyboard_manager.command_shortcuts.add_shortcut('r', {\n",
       "    help : 'run all cells',\n",
       "    help_index : 'zz',\n",
       "    handler : function (event) {\n",
       "        IPython.notebook.execute_all_cells();\n",
       "        return false;\n",
       "    }}\n",
       ");\n"
      ],
      "text/plain": [
       "<IPython.core.display.Javascript object>"
      ]
     },
     "metadata": {},
     "output_type": "display_data"
    }
   ],
   "source": [
    "%%javascript\n",
    "\n",
    "Jupyter.keyboard_manager.command_shortcuts.add_shortcut('r', {\n",
    "    help : 'run all cells',\n",
    "    help_index : 'zz',\n",
    "    handler : function (event) {\n",
    "        IPython.notebook.execute_all_cells();\n",
    "        return false;\n",
    "    }}\n",
    ");"
   ]
  },
  {
   "cell_type": "code",
   "execution_count": 20,
   "metadata": {},
   "outputs": [],
   "source": [
    "%matplotlib inline\n",
    "import pandas as pd\n",
    "import numpy as np\n",
    "import matplotlib.pyplot as plt\n",
    "#from loess.Loess import Loess\n",
    "from sklearn.neighbors.kde import KernelDensity\n",
    "import statsmodels.api as sm\n",
    "import seaborn as sns\n",
    "import loess"
   ]
  },
  {
   "cell_type": "code",
   "execution_count": 21,
   "metadata": {},
   "outputs": [],
   "source": [
    "# Defining Virus tramission temperarture range(in Fahrenheit)\n",
    "a=60\n",
    "b=95\n",
    "# Converting Fahrenheit to Kelvin\n",
    "a=(a-32)*5/9 + 273\n",
    "b=(b-32)*5/9 + 273"
   ]
  },
  {
   "cell_type": "code",
   "execution_count": 22,
   "metadata": {},
   "outputs": [],
   "source": [
    "wnv_file_path= \"/Users/sparshagarwal/Downloads/WMV_data/Arbovirus_risk_modeling_US/WNV_human_cases/WNV_NI_NNI_1999to2015_prevalence_incidence_final_20180530.csv\"\n",
    "weather_data_path=\"/Users/sparshagarwal/Downloads/WMV_data/intersections/narr_urban_county_data_masked/\""
   ]
  },
  {
   "cell_type": "code",
   "execution_count": 23,
   "metadata": {},
   "outputs": [],
   "source": [
    "variable=\"air.2m_masked\"\n",
    "#variable=\"air.sfc_masked\"\n",
    "#variable=\"apcp_masked\"\n",
    "#variable=\"rhum.2m_masked\""
   ]
  },
  {
   "cell_type": "code",
   "execution_count": 24,
   "metadata": {},
   "outputs": [],
   "source": [
    "variables= [\"air.2m\", \"air.sfc\", \"apcp\", \"rhum.2m\"]"
   ]
  },
  {
   "cell_type": "code",
   "execution_count": 25,
   "metadata": {},
   "outputs": [],
   "source": [
    "months=[\"01\", \"02\", \"03\", \"04\", \"05\", \"06\", \"07\", \"08\", \"09\", \"10\", \"11\", \"12\"]\n",
    "years=range(1999, 2016)\n",
    "summer_mon=[\"05\", \"06\", \"07\", \"08\", \"09\"]   #Summer months for WNV transmission\n",
    "months_desc={\"01\": \"Jan\", \"02\": \"Feb\", \"03\": \"Mar\", \"04\": \"Apr\", \"05\": \"May\", \"06\": \"Jun\", \"07\" :\"Jul\", \"08\": \"Aug\", \"09\": \"Sep\", \"10\": \"Oct\", \"11\" : \"Nov\", \"12\" : \"Dec\" }"
   ]
  },
  {
   "cell_type": "code",
   "execution_count": 26,
   "metadata": {},
   "outputs": [],
   "source": [
    "# Defining socio-economic zones/regions\n",
    "socio_regions={\"WA\":1, \"OR\":1, \"CA\":1, \"MT\":2, \"ID\":2, \"WY\":2, \"NV\":2, \"UT\":2, \"CO\":2, \"AZ\":2, \"NM\":2,\"ND\":3, \"SD\":3, \"MN\":3, \"NE\":3, \"IA\":3,\"KS\":3, \"MO\":3, \"OK\":4 , \"TX\":4, \"AR\":4, \"LA\":4, \"WI\":5, \"MI\":5, \"IL\":5, \"IN\":5, \"OH\":5, \"KY\":6, \"TN\":6, \"AL\":6, \"MS\":6, \"WV\":7, \"VA\":7, \"NC\":7, \"SC\":7, \"DC\":7, \"MD\":7, \"DE\":7, \"GA\":7, \"FL\":7, \"PA\":8, \"NJ\":8, \"NY\":8, \"MA\":9, \"CT\":9, \"NH\":9, \"VT\":9, \"ME\":9, \"RI\":9}\n",
    "socio_key={1:\"Pacific\", 2:\"Mountain\", 3:\"West North Central\", 4: \"West South Central\", 5: \"East North Central\", 6: \"East South Central\", 7: \"South Atlantic\", 8: \"Middle Atlantic\", 9: \"New England\"}"
   ]
  },
  {
   "cell_type": "code",
   "execution_count": 27,
   "metadata": {},
   "outputs": [],
   "source": [
    "# Defining climatic zones/regions\n",
    "weather_regions={\"WA\":1, \"OR\":1, \"ID\":1, \"NV\":2, \"CA\":2, \"MT\":3, \"WY\":3,\"ND\":3, \"SD\":3, \"NE\":3,\"UT\":4, \"CO\":4, \"AZ\":4, \"NM\":4, \"MN\":5,\"WI\":5, \"MI\":5, \"IA\":5,\"KS\":6, \"OK\":6 , \"TX\":6, \"AR\":6, \"LA\":6, \"MS\":6, \"MO\":7 , \"IL\":7, \"IN\":7, \"OH\":7, \"KY\":7, \"TN\":7, \"WV\":7, \"AL\":8, \"VA\":8, \"NC\":8, \"SC\":8, \"GA\":8, \"FL\":8, \"DE\":9, \"DC\":9, \"MD\":9, \"PA\":9, \"NJ\":9, \"NY\":9, \"MA\":9, \"CT\":9, \"NH\":9, \"VT\":9, \"ME\":9, \"RI\":9}\n",
    "weather_key={1: \"Northwest\", 2: \"West\", 3: \"West North Central\", 4: \"Southwest\", 5: \"East North Central\", 6: \"South\", 7: \"Central\", 8: \"Southeast\", 9:\"Northeast\"}"
   ]
  },
  {
   "cell_type": "code",
   "execution_count": 28,
   "metadata": {},
   "outputs": [],
   "source": [
    "# socio_zone={1: \"Pacific\", 2: \"Mountain\", 3: \"West North Central\", 4: \"West South Central\", 5: \"East North Central\", 6: \"East South Central\", 7: \"South Atlantic\", 8: \"Middle Atlantic\", 9: \"New England\"}\n",
    "# weather_zone={1: \"Northwest\", 2: \"West\", 3: \"West North Central\", 4: \"SouthWest\", 5: \"Upper Midwest\", 6: \"South\", 7: \"Ohio Valley\", 8: \"Southeast\", 9: \"Northeast\"}\n",
    "# temp=pd.DataFrame()\n",
    "# temp[\"Code\"]= socio_zone.keys()\n",
    "# temp[\"Zone\"]= socio_zone.values()"
   ]
  },
  {
   "cell_type": "code",
   "execution_count": 29,
   "metadata": {},
   "outputs": [],
   "source": [
    "#Importing WNV yearly data\n",
    "df= pd.read_csv(wnv_file_path, encoding='latin-1')\n",
    "df=df[df[\"Select_County\"]==1]\n",
    "df.rename(columns = {'GEOID10':'GEOID'}, inplace = True)\n",
    "df=df[df[\"STNAME\"]!=\"California\"]"
   ]
  },
  {
   "cell_type": "code",
   "execution_count": 30,
   "metadata": {},
   "outputs": [],
   "source": [
    "# Adding a column for incident year\n",
    "incident_year=[years[-1] for i in range(len(df))]\n",
    "for j in range(len(df)):\n",
    "    for i in years:\n",
    "        if(df.iloc[j][\"NI_IR_\" + str(i)]!=0):\n",
    "            incident_year[j]=i\n",
    "            break\n",
    "df[\"Incident_year\"]=incident_year"
   ]
  },
  {
   "cell_type": "code",
   "execution_count": 31,
   "metadata": {},
   "outputs": [],
   "source": [
    "# Adding temp, precp, and humidity data\n",
    "df_mod=df.copy()\n",
    "for i in variables:\n",
    "    for j in years:\n",
    "        for k in range(len(months)):\n",
    "            #Importing monthly Variable data\n",
    "            data= pd.read_csv(weather_data_path + i +\"_masked/\"+ str(j) + \"_\" + months[k] + \"_masked.csv\")\n",
    "            data=data[[\"GEOID\", \"mean\"]]\n",
    "            data.rename(columns = {'mean': i + '_' + str(j) + \"_\" + months[k]}, inplace = True)\n",
    "            df_mod=df_mod.join(data.set_index('GEOID'), on='GEOID')"
   ]
  },
  {
   "cell_type": "code",
   "execution_count": 32,
   "metadata": {},
   "outputs": [],
   "source": [
    "#Adding socioeconomic and weather regions classification column\n",
    "sc=[]\n",
    "we=[]\n",
    "for i in range(len(df_mod)):\n",
    "    sc.append(socio_regions[df_mod.iloc[i][\"STUSPS\"]])\n",
    "    we.append(weather_regions[df_mod.iloc[i][\"STUSPS\"]])\n",
    "df_mod[\"Socio_econ_class\"]=sc \n",
    "df_mod[\"Weather_class\"]=we"
   ]
  },
  {
   "cell_type": "code",
   "execution_count": 33,
   "metadata": {},
   "outputs": [],
   "source": [
    "# #Calculating average of mean summer temperature, precipitaion, humidity,  for every county and storing \n",
    "# #all the corresponding attributes in different lists so that a simplified dataframe can be made.\n",
    "##Months considered are May-Sept.\n",
    "# geo_id=[]\n",
    "# mean_temp_2m=[]\n",
    "# mean_temp_sfc=[]\n",
    "# mean_prec=[]\n",
    "# mean_hum=[]\n",
    "# mean_ir=[]\n",
    "# w_cl=[]\n",
    "# s_cl=[]\n",
    "# for i in range(len(df_mod)):\n",
    "#     summer_temp_2m=[]\n",
    "#     summer_temp_sfc=[]    \n",
    "#     summer_prec=[]\n",
    "#     summer_hum=[]\n",
    "#     summer_ir=[]\n",
    "#     inc_year= df_mod.iloc[i][\"Incident_year\"]  # 1st year of WNV incidence\n",
    "                                     \n",
    "#     for j in range(inc_year+1, years[-1]+1):\n",
    "#         avg_temp_2m=[]\n",
    "#         avg_temp_sfc=[]    \n",
    "#         avg_prec=[]\n",
    "#         avg_hum=[]\n",
    "#         for k in summer_mon:\n",
    "#             #Storing summer temp/prec/hum values for a certain year.\n",
    "#             avg_temp_2m.append(df_mod.iloc[i][variables[0] + \"_\" + str(j) + \"_\" + k] -273)\n",
    "#             avg_temp_sfc.append(df_mod.iloc[i][variables[1] + \"_\" + str(j) + \"_\" + k] -273)\n",
    "#             avg_prec.append(df_mod.iloc[i][variables[2] + \"_\" + str(j) + \"_\" + k])\n",
    "#             avg_hum.append(df_mod.iloc[i][variables[3] + \"_\" + str(j) + \"_\" + k])\n",
    "#         #Calculating and storing the average summer temp/prec/hum value for a certain year.\n",
    "#         summer_temp_2m.append(np.mean(avg_temp_2m))    \n",
    "#         summer_temp_sfc.append(np.mean(avg_temp_sfc))\n",
    "#         summer_prec.append(np.mean(avg_prec))\n",
    "#         summer_hum.append(np.mean(avg_hum))\n",
    "#         summer_ir.append(df_mod.iloc[i][\"NI_IR_\" + str(j)])\n",
    "                                   \n",
    "#     if(inc_year!=years[-1]):\n",
    "#         # Calculating mean of varaibles across all the years\n",
    "#         mean_temp_2m.append(np.mean(summer_temp_2m))\n",
    "#         mean_temp_sfc.append(np.mean(summer_temp_sfc))\n",
    "#         mean_prec.append(np.mean(summer_prec))\n",
    "#         mean_hum.append(np.mean(summer_hum))\n",
    "#         mean_ir.append(np.mean(summer_ir))\n",
    "#         geo_id.append(df_mod.iloc[i][\"GEOID\"])\n",
    "#         w_cl.append(df_mod.iloc[i][\"Weather_class\"])\n",
    "#         s_cl.append(df_mod.iloc[i][\"Socio_econ_class\"])\n",
    "        "
   ]
  },
  {
   "cell_type": "code",
   "execution_count": 320,
   "metadata": {},
   "outputs": [],
   "source": [
    "#Calculating average of mean summer temperature, precipitaion, humidity,  for every county and storing \n",
    "#all the corresponding attributes in different lists so that a simplified dataframe can be made.\n",
    "#Months considered with temperature lying in CDD_temp range, not just May-Sept.\n",
    "geo_id=[]\n",
    "mean_temp_2m=[]\n",
    "mean_temp_sfc=[]\n",
    "mean_prec=[]\n",
    "mean_hum=[]\n",
    "mean_ir=[]\n",
    "w_cl=[]\n",
    "s_cl=[]\n",
    "for i in range(len(df_mod)):\n",
    "    summer_temp_2m=[]\n",
    "    summer_temp_sfc=[]    \n",
    "    summer_prec=[]\n",
    "    summer_hum=[]\n",
    "    summer_ir=[]\n",
    "    inc_year= df_mod.iloc[i][\"Incident_year\"]  # 1st year of WNV incidence\n",
    "                                     \n",
    "    for j in range(inc_year+1, years[-1]+1):\n",
    "        cdd_mon=[]\n",
    "        for k in months:\n",
    "            if(df_mod.iloc[i][variables[0]+ \"_\" + str(j) + \"_\" + k]>=a and df_mod.iloc[i][variables[0]+ \"_\" + str(j) + \"_\" + k]<=b):\n",
    "                cdd_mon.append(k)\n",
    "\n",
    "        avg_temp_2m=[]\n",
    "        avg_temp_sfc=[]    \n",
    "        avg_prec=[]\n",
    "        avg_hum=[]\n",
    "        for k in cdd_mon:\n",
    "            #Storing summer temp/prec/hum values for a certain year.\n",
    "            avg_temp_2m.append(df_mod.iloc[i][variables[0] + \"_\" + str(j) + \"_\" + k] -273)\n",
    "            avg_temp_sfc.append(df_mod.iloc[i][variables[1] + \"_\" + str(j) + \"_\" + k] -273)\n",
    "            avg_prec.append(df_mod.iloc[i][variables[2] + \"_\" + str(j) + \"_\" + k])\n",
    "            avg_hum.append(df_mod.iloc[i][variables[3] + \"_\" + str(j) + \"_\" + k])\n",
    "        #Calculating and storing the average summer temp/prec/hum value for a certain year.\n",
    "        summer_temp_2m.append(np.mean(avg_temp_2m))    \n",
    "        summer_temp_sfc.append(np.mean(avg_temp_sfc))\n",
    "        summer_prec.append(np.mean(avg_prec))\n",
    "        summer_hum.append(np.mean(avg_hum))\n",
    "        summer_ir.append(df_mod.iloc[i][\"NI_IR_\" + str(j)])\n",
    "                                   \n",
    "    if(inc_year!=years[-1]):\n",
    "        # Calculating mean of varaibles across all the years\n",
    "        mean_temp_2m.append(np.mean(summer_temp_2m))\n",
    "        mean_temp_sfc.append(np.mean(summer_temp_sfc))\n",
    "        mean_prec.append(np.mean(summer_prec))\n",
    "        mean_hum.append(np.mean(summer_hum))\n",
    "        mean_ir.append(np.mean(summer_ir))\n",
    "        geo_id.append(df_mod.iloc[i][\"GEOID\"])\n",
    "        w_cl.append(df_mod.iloc[i][\"Weather_class\"])\n",
    "        s_cl.append(df_mod.iloc[i][\"Socio_econ_class\"])\n",
    "        "
   ]
  },
  {
   "cell_type": "code",
   "execution_count": 321,
   "metadata": {},
   "outputs": [],
   "source": [
    "#For average across all the years\n",
    "df_combined=pd.DataFrame()\n",
    "df_combined[\"GEOID\"]=geo_id\n",
    "df_combined[\"IR\"]=mean_ir\n",
    "df_combined[\"Temp_2m\"]=mean_temp_2m\n",
    "df_combined[\"Temp_sfc\"]=mean_temp_sfc\n",
    "df_combined[\"Prec\"]=mean_prec\n",
    "df_combined[\"Hum\"]=mean_hum\n",
    "df_combined[\"Weather_class\"]=w_cl\n",
    "df_combined[\"Socio_econ_class\"]=s_cl"
   ]
  },
  {
   "cell_type": "code",
   "execution_count": 323,
   "metadata": {},
   "outputs": [],
   "source": [
    "#For every individual year (To use this, first run the code after the the code for plotting the graphs)\n",
    "df_combined=pd.DataFrame()\n",
    "df_combined[\"GEOID\"]=geo_id_1\n",
    "df_combined[\"IR\"]=ir\n",
    "df_combined[\"Temp_2m\"]=temp_2m\n",
    "df_combined[\"Temp_sfc\"]=temp_sfc\n",
    "df_combined[\"Prec\"]=prec\n",
    "df_combined[\"Hum\"]=hum\n",
    "df_combined[\"Weather_class\"]=w_cl_1\n",
    "df_combined[\"Socio_econ_class\"]=s_cl_1"
   ]
  },
  {
   "cell_type": "code",
   "execution_count": 324,
   "metadata": {},
   "outputs": [],
   "source": [
    "# #To export data\n",
    "# df_combined.to_csv(r'/Users/sparshagarwal/Desktop/Dataframe.csv')"
   ]
  },
  {
   "cell_type": "code",
   "execution_count": 305,
   "metadata": {},
   "outputs": [],
   "source": [
    "#df_combined=df_combined[df_combined[\"Weather_class\"]==9]\n",
    "#df_combined=df_combined[df_combined[\"Socio_econ_class\"]==9]"
   ]
  },
  {
   "cell_type": "code",
   "execution_count": 306,
   "metadata": {},
   "outputs": [],
   "source": [
    "#Variable for which the trend has to be plotted\n",
    "var='Temp_2m'\n",
    "#var='Temp_sfc'\n",
    "#var='Prec'\n",
    "#var='Hum'"
   ]
  },
  {
   "cell_type": "code",
   "execution_count": 307,
   "metadata": {},
   "outputs": [
    {
     "data": {
      "text/plain": [
       "<matplotlib.axes._subplots.AxesSubplot at 0x12c7b6550>"
      ]
     },
     "execution_count": 307,
     "metadata": {},
     "output_type": "execute_result"
    },
    {
     "data": {
      "image/png": "[encoded data removed]",
      "text/plain": [
       "<Figure size 432x288 with 1 Axes>"
      ]
     },
     "metadata": {
      "needs_background": "light"
     },
     "output_type": "display_data"
    }
   ],
   "source": [
    "df_combined.plot(kind='scatter',x=var,y='IR',color=\"None\", edgecolors='red')"
   ]
  },
  {
   "cell_type": "code",
   "execution_count": 308,
   "metadata": {},
   "outputs": [],
   "source": [
    "#Creating bins\n",
    "if(var==\"Temp_2m\"):\n",
    "    bin_size=0.05\n",
    "    start=10   #Starting value for binning\n",
    "    stop=35    #Ending value for binning\n",
    "    bins=list(range(start*100,stop*100,int(bin_size*100)))\n",
    "    bins=[i/100 for i in bins]\n",
    "elif(var==\"Prec\"):\n",
    "    bin_size=0.05\n",
    "    start=0\n",
    "    stop=6\n",
    "    bins=list(range(start*100,stop*100,int(bin_size*100)))\n",
    "    bins=[i/100 for i in bins]\n",
    "elif(var==\"Hum\"):\n",
    "    bin_size=1\n",
    "    start=0\n",
    "    stop=100\n",
    "    bins=list(range(start*100,stop*100,int(bin_size*100)))\n",
    "    bins=[i/100 for i in bins]"
   ]
  },
  {
   "cell_type": "code",
   "execution_count": 309,
   "metadata": {},
   "outputs": [],
   "source": [
    "df_bin=df_combined[df_combined[\"IR\"]!=0]   # Removing entries with IR=0 \n",
    "df_bin=df_bin[[\"IR\", var]]\n",
    "df_bin[\"bin\"]=pd.cut(x=df_bin[var], bins=bins)\n",
    "df_bin=df_bin.sort_values(by=var).copy()\n",
    "df_bin_count=df_bin.sort_values(by=var).copy()   #df_bin_count is used for weighting the data.\n",
    "df_bin=df_bin.groupby(\"bin\").mean()\n",
    "df_bin_count=df_bin_count.groupby(\"bin\").count()\n",
    "df_bin=df_bin[df_bin[\"IR\"]>0]\n",
    "df_bin_count=df_bin_count[df_bin_count[\"IR\"]>0]"
   ]
  },
  {
   "cell_type": "code",
   "execution_count": 310,
   "metadata": {},
   "outputs": [],
   "source": [
    "#For storing repetitive rows as a way of weighting points\n",
    "IR_temp=[]\n",
    "Var_temp=[]"
   ]
  },
  {
   "cell_type": "code",
   "execution_count": 311,
   "metadata": {},
   "outputs": [],
   "source": [
    "for i in range(len(df_bin)):\n",
    "    for j in range(df_bin_count.iloc[i][\"IR\"]):\n",
    "        IR_temp.append(df_bin.iloc[i][\"IR\"])\n",
    "        Var_temp.append(df_bin.iloc[i][var])"
   ]
  },
  {
   "cell_type": "code",
   "execution_count": 312,
   "metadata": {},
   "outputs": [],
   "source": [
    "# #Making new datatframe having repetitive points in every bin\n",
    "# df_bin=pd.DataFrame()\n",
    "# df_bin[\"IR\"]=IR_temp\n",
    "# df_bin[var]=Var_temp"
   ]
  },
  {
   "cell_type": "code",
   "execution_count": 313,
   "metadata": {},
   "outputs": [
    {
     "data": {
      "text/html": [
       "<div>\n",
       "<style scoped>\n",
       "    .dataframe tbody tr th:only-of-type {\n",
       "        vertical-align: middle;\n",
       "    }\n",
       "\n",
       "    .dataframe tbody tr th {\n",
       "        vertical-align: top;\n",
       "    }\n",
       "\n",
       "    .dataframe thead th {\n",
       "        text-align: right;\n",
       "    }\n",
       "</style>\n",
       "<table border=\"1\" class=\"dataframe\">\n",
       "  <thead>\n",
       "    <tr style=\"text-align: right;\">\n",
       "      <th></th>\n",
       "      <th>IR</th>\n",
       "      <th>Temp_2m</th>\n",
       "    </tr>\n",
       "    <tr>\n",
       "      <th>bin</th>\n",
       "      <th></th>\n",
       "      <th></th>\n",
       "    </tr>\n",
       "  </thead>\n",
       "  <tbody>\n",
       "    <tr>\n",
       "      <td>(16.85, 16.9]</td>\n",
       "      <td>0.035131</td>\n",
       "      <td>16.886241</td>\n",
       "    </tr>\n",
       "    <tr>\n",
       "      <td>(17.05, 17.1]</td>\n",
       "      <td>0.006872</td>\n",
       "      <td>17.067629</td>\n",
       "    </tr>\n",
       "    <tr>\n",
       "      <td>(17.95, 18.0]</td>\n",
       "      <td>1.648018</td>\n",
       "      <td>17.955697</td>\n",
       "    </tr>\n",
       "    <tr>\n",
       "      <td>(18.2, 18.25]</td>\n",
       "      <td>1.439605</td>\n",
       "      <td>18.221645</td>\n",
       "    </tr>\n",
       "    <tr>\n",
       "      <td>(18.25, 18.3]</td>\n",
       "      <td>0.164066</td>\n",
       "      <td>18.284435</td>\n",
       "    </tr>\n",
       "    <tr>\n",
       "      <td>...</td>\n",
       "      <td>...</td>\n",
       "      <td>...</td>\n",
       "    </tr>\n",
       "    <tr>\n",
       "      <td>(25.4, 25.45]</td>\n",
       "      <td>0.766660</td>\n",
       "      <td>25.424134</td>\n",
       "    </tr>\n",
       "    <tr>\n",
       "      <td>(25.5, 25.55]</td>\n",
       "      <td>0.162682</td>\n",
       "      <td>25.524832</td>\n",
       "    </tr>\n",
       "    <tr>\n",
       "      <td>(25.6, 25.65]</td>\n",
       "      <td>0.165925</td>\n",
       "      <td>25.638383</td>\n",
       "    </tr>\n",
       "    <tr>\n",
       "      <td>(25.8, 25.85]</td>\n",
       "      <td>1.499318</td>\n",
       "      <td>25.808726</td>\n",
       "    </tr>\n",
       "    <tr>\n",
       "      <td>(25.95, 26.0]</td>\n",
       "      <td>0.289792</td>\n",
       "      <td>25.973088</td>\n",
       "    </tr>\n",
       "  </tbody>\n",
       "</table>\n",
       "<p>127 rows × 2 columns</p>\n",
       "</div>"
      ],
      "text/plain": [
       "                     IR    Temp_2m\n",
       "bin                               \n",
       "(16.85, 16.9]  0.035131  16.886241\n",
       "(17.05, 17.1]  0.006872  17.067629\n",
       "(17.95, 18.0]  1.648018  17.955697\n",
       "(18.2, 18.25]  1.439605  18.221645\n",
       "(18.25, 18.3]  0.164066  18.284435\n",
       "...                 ...        ...\n",
       "(25.4, 25.45]  0.766660  25.424134\n",
       "(25.5, 25.55]  0.162682  25.524832\n",
       "(25.6, 25.65]  0.165925  25.638383\n",
       "(25.8, 25.85]  1.499318  25.808726\n",
       "(25.95, 26.0]  0.289792  25.973088\n",
       "\n",
       "[127 rows x 2 columns]"
      ]
     },
     "execution_count": 313,
     "metadata": {},
     "output_type": "execute_result"
    }
   ],
   "source": [
    "df_bin"
   ]
  },
  {
   "cell_type": "code",
   "execution_count": 314,
   "metadata": {},
   "outputs": [
    {
     "data": {
      "text/plain": [
       "<matplotlib.axes._subplots.AxesSubplot at 0x12eac8f50>"
      ]
     },
     "execution_count": 314,
     "metadata": {},
     "output_type": "execute_result"
    },
    {
     "data": {
      "image/png": "[encoded data removed]",
      "text/plain": [
       "<Figure size 432x288 with 1 Axes>"
      ]
     },
     "metadata": {
      "needs_background": "light"
     },
     "output_type": "display_data"
    }
   ],
   "source": [
    "df_bin.plot(kind='scatter',x=var,y='IR',color=\"None\", edgecolors='red')"
   ]
  },
  {
   "cell_type": "code",
   "execution_count": 315,
   "metadata": {},
   "outputs": [],
   "source": [
    "#LOWESS smoothing"
   ]
  },
  {
   "cell_type": "code",
   "execution_count": 316,
   "metadata": {},
   "outputs": [],
   "source": [
    "\"\"\"\n",
    "Local Regression (LOESS) estimation routine. No need to read through the function.\n",
    "\"\"\"\n",
    "import numpy as np\n",
    "import pandas as pd\n",
    "import scipy\n",
    "\n",
    "\n",
    "def loc_eval(x, b):\n",
    "    \"\"\"\n",
    "    Evaluate `x` using locally-weighted regression parameters.\n",
    "    Degree of polynomial used in loess is inferred from b. `x`\n",
    "    is assumed to be a scalar.\n",
    "    \"\"\"\n",
    "    loc_est = 0\n",
    "    for i in enumerate(b): loc_est+=i[1]*(x**i[0])\n",
    "    return(loc_est)\n",
    "\n",
    "\n",
    "\n",
    "def loess(xvals, yvals, alpha, poly_degree=1):\n",
    "    \"\"\"\n",
    "    Perform locally-weighted regression on xvals & yvals.\n",
    "    Variables used inside `loess` function:\n",
    "\n",
    "        n         => number of data points in xvals\n",
    "        m         => nbr of LOESS evaluation points\n",
    "        q         => number of data points used for each\n",
    "                     locally-weighted regression\n",
    "        v         => x-value locations for evaluating LOESS\n",
    "        locsDF    => contains local regression details for each\n",
    "                     location v\n",
    "        evalDF    => contains actual LOESS output for each v\n",
    "        X         => n-by-(poly_degree+1) design matrix\n",
    "        W         => n-by-n diagonal weight matrix for each\n",
    "                     local regression\n",
    "        y         => yvals\n",
    "        b         => local regression coefficient estimates.\n",
    "                     b = `(X^T*W*X)^-1*X^T*W*y`. Note that `@`\n",
    "                     replaces `np.dot` in recent numpy versions.\n",
    "        local_est => response for local regression\n",
    "    \"\"\"\n",
    "    # Sort dataset by xvals.\n",
    "    all_data = sorted(zip(xvals, yvals), key=lambda x: x[0])\n",
    "    xvals, yvals = zip(*all_data)\n",
    "\n",
    "    locsDF = pd.DataFrame(\n",
    "                columns=[\n",
    "                  'loc','x','weights','v','y','raw_dists',\n",
    "                  'scale_factor','scaled_dists'\n",
    "                  ])\n",
    "    evalDF = pd.DataFrame(\n",
    "                columns=[\n",
    "                  'loc','est','b','v','g'\n",
    "                  ])\n",
    "\n",
    "    n = len(xvals)\n",
    "    m = n + 1\n",
    "    q = int(np.floor(n * alpha) if alpha <= 1.0 else n)\n",
    "    avg_interval = ((max(xvals)-min(xvals))/len(xvals))\n",
    "    v_lb = max(0,min(xvals)-(.5*avg_interval))\n",
    "    v_ub = (max(xvals)+(.5*avg_interval))\n",
    "    v = enumerate(np.linspace(start=v_lb, stop=v_ub, num=m), start=1)\n",
    "\n",
    "    # Generate design matrix based on poly_degree.\n",
    "    xcols = [np.ones_like(xvals)]\n",
    "    for j in range(1, (poly_degree + 1)):\n",
    "        xcols.append([i ** j for i in xvals])\n",
    "    X = np.vstack(xcols).T\n",
    "\n",
    "\n",
    "    for i in v:\n",
    "\n",
    "        iterpos = i[0]\n",
    "        iterval = i[1]\n",
    "\n",
    "        # Determine q-nearest xvals to iterval.\n",
    "        iterdists = sorted([(j, np.abs(j-iterval)) \\\n",
    "                           for j in xvals], key=lambda x: x[1])\n",
    "\n",
    "        _, raw_dists = zip(*iterdists)\n",
    "\n",
    "        # Scale local observations by qth-nearest raw_dist.\n",
    "        scale_fact = raw_dists[q-1]\n",
    "        scaled_dists = [(j[0],(j[1]/scale_fact)) for j in iterdists]\n",
    "        weights = [(j[0],((1-np.abs(j[1]**3))**3 \\\n",
    "                      if j[1]<=1 else 0)) for j in scaled_dists]\n",
    "\n",
    "        # Remove xvals from each tuple:\n",
    "        _, weights      = zip(*sorted(weights,     key=lambda x: x[0]))\n",
    "        _, raw_dists    = zip(*sorted(iterdists,   key=lambda x: x[0]))\n",
    "        _, scaled_dists = zip(*sorted(scaled_dists,key=lambda x: x[0]))\n",
    "\n",
    "        iterDF1 = pd.DataFrame({\n",
    "                    'loc'         :iterpos,\n",
    "                    'x'           :xvals,\n",
    "                    'v'           :iterval,\n",
    "                    'weights'     :weights,\n",
    "                    'y'           :yvals,\n",
    "                    'raw_dists'   :raw_dists,\n",
    "                    'scale_fact'  :scale_fact,\n",
    "                    'scaled_dists':scaled_dists\n",
    "                    })\n",
    "\n",
    "        locsDF    = pd.concat([locsDF, iterDF1])\n",
    "        W         = np.diag(weights)\n",
    "        y         = yvals\n",
    "        b         = np.linalg.inv(X.T @ W @ X) @ (X.T @ W @ y)\n",
    "        local_est = loc_eval(iterval, b)\n",
    "        iterDF2   = pd.DataFrame({\n",
    "                       'loc':[iterpos],\n",
    "                       'b'  :[b],\n",
    "                       'v'  :[iterval],\n",
    "                       'g'  :[local_est]\n",
    "                       })\n",
    "\n",
    "        evalDF = pd.concat([evalDF, iterDF2])\n",
    "\n",
    "    # Reset indicies for returned DataFrames.\n",
    "    locsDF.reset_index(inplace=True)\n",
    "    locsDF.drop('index', axis=1, inplace=True)\n",
    "    locsDF['est'] = 0; evalDF['est'] = 0\n",
    "    locsDF = locsDF[['loc','est','v','x','y','raw_dists',\n",
    "                     'scale_fact','scaled_dists','weights']]\n",
    "\n",
    "    # Reset index for evalDF.\n",
    "    evalDF.reset_index(inplace=True)\n",
    "    evalDF.drop('index', axis=1, inplace=True)\n",
    "    evalDF = evalDF[['loc','est', 'v', 'b', 'g']]\n",
    "\n",
    "    return(locsDF, evalDF)"
   ]
  },
  {
   "cell_type": "code",
   "execution_count": 317,
   "metadata": {},
   "outputs": [
    {
     "name": "stderr",
     "output_type": "stream",
     "text": [
      "/Library/Frameworks/Python.framework/Versions/3.7/lib/python3.7/site-packages/ipykernel_launcher.py:105: FutureWarning: Sorting because non-concatenation axis is not aligned. A future version\n",
      "of pandas will change to not sort by default.\n",
      "\n",
      "To accept the future behavior, pass 'sort=False'.\n",
      "\n",
      "To retain the current behavior and silence the warning, pass 'sort=True'.\n",
      "\n",
      "/Library/Frameworks/Python.framework/Versions/3.7/lib/python3.7/site-packages/ipykernel_launcher.py:117: FutureWarning: Sorting because non-concatenation axis is not aligned. A future version\n",
      "of pandas will change to not sort by default.\n",
      "\n",
      "To accept the future behavior, pass 'sort=False'.\n",
      "\n",
      "To retain the current behavior and silence the warning, pass 'sort=True'.\n",
      "\n"
     ]
    }
   ],
   "source": [
    "#Implementing LOESS smoothing\n",
    "xvals=list(df_bin[var])\n",
    "yvals=list(df_bin[\"IR\"])\n",
    "regsDF, evalDF = loess(xvals, yvals, alpha=0.4, poly_degree=1)  # Value of alpha can be varied for varying smoothness."
   ]
  },
  {
   "cell_type": "code",
   "execution_count": 318,
   "metadata": {},
   "outputs": [
    {
     "data": {
      "image/png": "[encoded data removed]",
      "text/plain": [
       "<Figure size 432x288 with 1 Axes>"
      ]
     },
     "metadata": {
      "needs_background": "light"
     },
     "output_type": "display_data"
    }
   ],
   "source": [
    "l_x  = evalDF['v'].values\n",
    "l_y  = evalDF['g'].values\n",
    "\n",
    "# Generate x-y scatterplot with loess estimate overlaid.\n",
    "fig = plt.figure()\n",
    "ax1 = fig.add_subplot(111)\n",
    "ax1.grid(True)\n",
    "ax1.minorticks_on()\n",
    "#plt.xlabel('hi')\n",
    "ax1.scatter(xvals, yvals, label=\"Original Data\",color=\"None\", edgecolors='red')\n",
    "ax1.plot(l_x, l_y, color='black', label=\"1st-degree Polynomial LOESS\")\n",
    "ax1.set_title(\"Linear LOESS Estimator\", loc=\"left\", fontsize=14)\n",
    "ax1.legend(loc=\"upper left\",\n",
    "           scatterpoints=1,\n",
    "           fontsize=11,\n",
    "           frameon=True,\n",
    "           fancybox=True,\n",
    "           facecolor=\"#FFFFFF\",\n",
    "           edgecolor=\"#000000\")\n",
    "ax1.set_xlabel(var)\n",
    "ax1.set_ylabel(\"IR\")\n",
    "plt.tight_layout()\n",
    "plt.show()"
   ]
  },
  {
   "cell_type": "code",
   "execution_count": null,
   "metadata": {},
   "outputs": [],
   "source": []
  },
  {
   "cell_type": "code",
   "execution_count": null,
   "metadata": {},
   "outputs": [],
   "source": []
  },
  {
   "cell_type": "code",
   "execution_count": null,
   "metadata": {},
   "outputs": [],
   "source": []
  },
  {
   "cell_type": "code",
   "execution_count": null,
   "metadata": {},
   "outputs": [],
   "source": [
    "#The code below is for all the years separately, plotting IR vs average summer value of the variable."
   ]
  },
  {
   "cell_type": "code",
   "execution_count": null,
   "metadata": {},
   "outputs": [],
   "source": [
    "###Months considered are May-Sept.\n",
    "# geo_id_1=[]\n",
    "# temp_2m=[]\n",
    "# temp_sfc=[]\n",
    "# prec=[]\n",
    "# hum=[]\n",
    "# ir=[]\n",
    "# w_cl_1=[]\n",
    "# s_cl_1=[]\n",
    "# for i in range(len(df_mod)):\n",
    "#     inc_year= df_mod.iloc[i][\"Incident_year\"]  # 1st year of WNV incidence\n",
    "                                     \n",
    "#     for j in range(inc_year+1, years[-1]+1):\n",
    "#         avg_temp_2m=[]\n",
    "#         avg_temp_sfc=[]    \n",
    "#         avg_prec=[]\n",
    "#         avg_hum=[]\n",
    "#         for k in summer_mon:\n",
    "#             avg_temp_2m.append(df_mod.iloc[i][variables[0] + \"_\" + str(j) + \"_\" + k] -273)\n",
    "#             avg_temp_sfc.append(df_mod.iloc[i][variables[1] + \"_\" + str(j) + \"_\" + k] -273)\n",
    "#             avg_prec.append(df_mod.iloc[i][variables[2] + \"_\" + str(j) + \"_\" + k])\n",
    "#             avg_hum.append(df_mod.iloc[i][variables[3] + \"_\" + str(j) + \"_\" + k])\n",
    "#         temp_2m.append(np.mean(avg_temp_2m))    \n",
    "#         temp_sfc.append(np.mean(avg_temp_sfc))\n",
    "#         prec.append(np.mean(avg_prec))\n",
    "#         hum.append(np.mean(avg_hum))\n",
    "#         ir.append(df_mod.iloc[i][\"NI_IR_\" + str(j)])\n",
    "#         geo_id_1.append(df_mod.iloc[i][\"GEOID\"])\n",
    "#         w_cl_1.append(df_mod.iloc[i][\"Weather_class\"])\n",
    "#         s_cl_1.append(df_mod.iloc[i][\"Socio_econ_class\"])"
   ]
  },
  {
   "cell_type": "code",
   "execution_count": 237,
   "metadata": {},
   "outputs": [],
   "source": [
    "#Months considered with temperature lying in CDD_temp range, not just May-Sept.\n",
    "geo_id_1=[]\n",
    "temp_2m=[]\n",
    "temp_sfc=[]\n",
    "prec=[]\n",
    "hum=[]\n",
    "ir=[]\n",
    "w_cl_1=[]\n",
    "s_cl_1=[]\n",
    "for i in range(len(df_mod)):\n",
    "    inc_year= df_mod.iloc[i][\"Incident_year\"]  # 1st year of WNV incidence\n",
    "                                     \n",
    "    for j in range(inc_year+1, years[-1]+1):\n",
    "        cdd_mon=[]\n",
    "        for k in months:\n",
    "            if(df_mod.iloc[i][variables[0]+ \"_\" + str(j) + \"_\" + k]>=a and df_mod.iloc[i][variables[0]+ \"_\" + str(j) + \"_\" + k]<=b):\n",
    "                cdd_mon.append(k)\n",
    "        avg_temp_2m=[]\n",
    "        avg_temp_sfc=[]    \n",
    "        avg_prec=[]\n",
    "        avg_hum=[]\n",
    "        for k in cdd_mon:\n",
    "            avg_temp_2m.append(df_mod.iloc[i][variables[0] + \"_\" + str(j) + \"_\" + k] -273)\n",
    "            avg_temp_sfc.append(df_mod.iloc[i][variables[1] + \"_\" + str(j) + \"_\" + k] -273)\n",
    "            avg_prec.append(df_mod.iloc[i][variables[2] + \"_\" + str(j) + \"_\" + k])\n",
    "            avg_hum.append(df_mod.iloc[i][variables[3] + \"_\" + str(j) + \"_\" + k])\n",
    "        temp_2m.append(np.mean(avg_temp_2m))    \n",
    "        temp_sfc.append(np.mean(avg_temp_sfc))\n",
    "        prec.append(np.mean(avg_prec))\n",
    "        hum.append(np.mean(avg_hum))\n",
    "        ir.append(df_mod.iloc[i][\"NI_IR_\" + str(j)])\n",
    "        geo_id_1.append(df_mod.iloc[i][\"GEOID\"])\n",
    "        w_cl_1.append(df_mod.iloc[i][\"Weather_class\"])\n",
    "        s_cl_1.append(df_mod.iloc[i][\"Socio_econ_class\"])"
   ]
  },
  {
   "cell_type": "code",
   "execution_count": null,
   "metadata": {},
   "outputs": [],
   "source": [
    "#Now go to previous cells where data frame (df_combined) is made"
   ]
  },
  {
   "cell_type": "code",
   "execution_count": null,
   "metadata": {},
   "outputs": [],
   "source": []
  },
  {
   "cell_type": "code",
   "execution_count": null,
   "metadata": {},
   "outputs": [],
   "source": [
    "# The code below is for monthly temperatures/precipitation /humidity, with one point per county. "
   ]
  },
  {
   "cell_type": "code",
   "execution_count": null,
   "metadata": {},
   "outputs": [],
   "source": [
    "for k in range(len(months)):\n",
    "    df_mod=df.copy()\n",
    "    for j in years:\n",
    "        temp= pd.read_csv(\"/Users/sparshagarwal/Downloads/WMV_data/intersections/narr_urban_county_data_masked/\" + variable +\"/\"+ str(j) + \"_\" + months[k] + \"_masked.csv\")\n",
    "        temp=temp[[\"GEOID\", \"mean\"]]\n",
    "        temp.rename(columns = {'mean':'mean_' + str(j)}, inplace = True)\n",
    "        df_mod=df_mod.join(temp.set_index('GEOID'), on='GEOID')\n",
    "            \n",
    "    x=[]\n",
    "    y=[]\n",
    "    for j in range(len(df_mod)):\n",
    "        a=[]\n",
    "        b=[]\n",
    "        for i in years:  \n",
    "            if(df_mod.iloc[j][\"NI_IR_\" + str(i)]!=0):\n",
    "                for l in range(i+1, 2016):\n",
    "                    a.append(df_mod.iloc[j][\"NI_IR_\" + str(l)])\n",
    "                    if((variable==\"air.2m_masked\") or (variable==\"air.sfc_masked\")):\n",
    "                        b.append(df_mod.iloc[j][\"mean_\" + str(l)]-273)\n",
    "                    else:\n",
    "                        b.append(df_mod.iloc[j][\"mean_\" + str(l)]) \n",
    "                if(i!=2015):\n",
    "                    x.append(sum(b)/len(b))\n",
    "                    y.append(sum(a)/len(a))\n",
    "                break\n",
    "        \n",
    "    df_combined=pd.DataFrame()\n",
    "    df_combined[\"Mean\"]=x\n",
    "    df_combined[\"IR\"]=y\n",
    "    ax=plt.subplot(4,3,k+1)\n",
    "    ax.set_title(months_desc[str(months[k])])\n",
    "    df_combined.plot(kind='scatter',x='Mean',y='IR', ax=ax, figsize=(25,25), color=\"None\", edgecolors='red') "
   ]
  },
  {
   "cell_type": "code",
   "execution_count": null,
   "metadata": {},
   "outputs": [],
   "source": []
  }
 ],
 "metadata": {
  "kernelspec": {
   "display_name": "Python 3",
   "language": "python",
   "name": "python3"
  },
  "language_info": {
   "codemirror_mode": {
    "name": "ipython",
    "version": 3
   },
   "file_extension": ".py",
   "mimetype": "text/x-python",
   "name": "python",
   "nbconvert_exporter": "python",
   "pygments_lexer": "ipython3",
   "version": "3.7.4"
  }
 },
 "nbformat": 4,
 "nbformat_minor": 2
}
