{
 "cells": [
  {
   "cell_type": "code",
   "execution_count": 78,
   "metadata": {},
   "outputs": [
    {
     "data": {
      "application/javascript": [
       "\n",
       "Jupyter.keyboard_manager.command_shortcuts.add_shortcut('r', {\n",
       "    help : 'run all cells',\n",
       "    help_index : 'zz',\n",
       "    handler : function (event) {\n",
       "        IPython.notebook.execute_all_cells();\n",
       "        return false;\n",
       "    }}\n",
       ");\n"
      ],
      "text/plain": [
       "<IPython.core.display.Javascript object>"
      ]
     },
     "metadata": {},
     "output_type": "display_data"
    }
   ],
   "source": [
    "%%javascript\n",
    "\n",
    "Jupyter.keyboard_manager.command_shortcuts.add_shortcut('r', {\n",
    "    help : 'run all cells',\n",
    "    help_index : 'zz',\n",
    "    handler : function (event) {\n",
    "        IPython.notebook.execute_all_cells();\n",
    "        return false;\n",
    "    }}\n",
    ");"
   ]
  },
  {
   "cell_type": "code",
   "execution_count": 79,
   "metadata": {},
   "outputs": [],
   "source": [
    "%matplotlib inline\n",
    "import pandas as pd\n",
    "import numpy as np\n",
    "import matplotlib.pyplot as plt\n",
    "#from loess.Loess import Loess\n",
    "from sklearn.neighbors.kde import KernelDensity\n",
    "import statsmodels.api as sm\n",
    "import seaborn as sns\n",
    "import loess\n",
    "import random"
   ]
  },
  {
   "cell_type": "code",
   "execution_count": 80,
   "metadata": {},
   "outputs": [],
   "source": [
    "file=\"Weather_median_years_temp.csv\"\n",
    "#Variable for chi-square test\n",
    "variable=\"Temp_2m\"\n",
    "#variable=\"Prec\"\n",
    "#variable=\"Hum\""
   ]
  },
  {
   "cell_type": "code",
   "execution_count": 81,
   "metadata": {},
   "outputs": [],
   "source": [
    "data_path= \"/Users/sparshagarwal/Desktop/NCSA/Dataframes/data/Combined/\" + file"
   ]
  },
  {
   "cell_type": "code",
   "execution_count": 82,
   "metadata": {},
   "outputs": [],
   "source": [
    "data= pd.read_csv(data_path)"
   ]
  },
  {
   "cell_type": "code",
   "execution_count": 83,
   "metadata": {},
   "outputs": [],
   "source": [
    "data=data[[\"GEOID\", \"IR\", variable, \"Weather_class\", \"Socio_econ_class\"]]"
   ]
  },
  {
   "cell_type": "code",
   "execution_count": 84,
   "metadata": {},
   "outputs": [],
   "source": [
    "dic_ir={}  #To store average IR for each individual zone\n",
    "dic_var={} #To store average variable value for each individual zone\n",
    "for i in range(1,10):    #Iterating over weather/climate zones\n",
    "    df=data[data[\"Weather_class\"]==i]\n",
    "    #Average of IR and the variable for classification purpose\n",
    "    avg_ir=np.mean(df[\"IR\"])\n",
    "    avg_var=np.mean(df[variable])\n",
    "    dic_ir[i]=avg_ir\n",
    "    dic_var[i]=avg_var\n",
    "l=[]\n",
    "for i in range(len(data)):\n",
    "    if(data.iloc[i][\"IR\"]>=dic_ir[int(data.iloc[i][\"Weather_class\"])]):\n",
    "        l.append(\"H\")\n",
    "    else:\n",
    "        l.append(\"L\")\n",
    "data[\"Class_IR\"]=l\n",
    "\n",
    "l=[]\n",
    "for i in range(len(data)):\n",
    "    if(data.iloc[i][variable]>=dic_var[int(data.iloc[i][\"Weather_class\"])]):\n",
    "        l.append(\"H\")\n",
    "    else:\n",
    "        l.append(\"L\")\n",
    "data[\"Class_var\"]=l\n"
   ]
  },
  {
   "cell_type": "code",
   "execution_count": 85,
   "metadata": {},
   "outputs": [],
   "source": [
    "#To export data\n",
    "#data.to_csv(\"/Users/sparshagarwal/Desktop/NCSA/Dataframes/Chi/Zone_wise/\" + file[:(len(file)-4)] + \"_\" + variable + \"_chi.csv\", index=False)\n",
    "data.to_csv(\"/Users/sparshagarwal/Desktop/NCSA/Dataframes/Chi/Zone_wise/\" + file[:(len(file)-4)] + \"_chi.csv\", index=False)"
   ]
  }
 ],
 "metadata": {
  "kernelspec": {
   "display_name": "Python 3",
   "language": "python",
   "name": "python3"
  },
  "language_info": {
   "codemirror_mode": {
    "name": "ipython",
    "version": 3
   },
   "file_extension": ".py",
   "mimetype": "text/x-python",
   "name": "python",
   "nbconvert_exporter": "python",
   "pygments_lexer": "ipython3",
   "version": "3.7.4"
  }
 },
 "nbformat": 4,
 "nbformat_minor": 2
}
