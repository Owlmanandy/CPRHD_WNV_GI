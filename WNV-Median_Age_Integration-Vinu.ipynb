{
 "cells": [
  {
   "cell_type": "code",
   "execution_count": 33,
   "metadata": {},
   "outputs": [],
   "source": [
    "import pandas as pd"
   ]
  },
  {
   "cell_type": "code",
   "execution_count": 34,
   "metadata": {},
   "outputs": [],
   "source": [
    "med_age = pd.read_excel(\"AGE01.xls\", \"Sheet2\")"
   ]
  },
  {
   "cell_type": "code",
   "execution_count": 35,
   "metadata": {},
   "outputs": [
    {
     "name": "stdout",
     "output_type": "stream",
     "text": [
      "(3198, 42)\n"
     ]
    },
    {
     "data": {
      "text/plain": [
       "Index(['Areaname', 'STCOU', 'AGE040205F', 'AGE040205D', 'AGE040205N1',\n",
       "       'AGE040205N2', 'AGE040206F', 'AGE040206D', 'AGE040206N1', 'AGE040206N2',\n",
       "       'AGE040207F', 'AGE040207D', 'AGE040207N1', 'AGE040207N2', 'AGE040208F',\n",
       "       'AGE040208D', 'AGE040208N1', 'AGE040208N2', 'AGE040209F', 'AGE040209D',\n",
       "       'AGE040209N1', 'AGE040209N2', 'AGE050180F', 'AGE050180D', 'AGE050180N1',\n",
       "       'AGE050180N2', 'AGE050190F', 'AGE050190D', 'AGE050190N1', 'AGE050190N2',\n",
       "       'AGE050200F', 'AGE050200D', 'AGE050200N1', 'AGE050200N2', 'AGE050210F',\n",
       "       'AGE050210D', 'AGE050210N1', 'AGE050210N2', 'AGE110180F', 'AGE110180D',\n",
       "       'AGE110180N1', 'AGE110180N2'],\n",
       "      dtype='object')"
      ]
     },
     "execution_count": 35,
     "metadata": {},
     "output_type": "execute_result"
    }
   ],
   "source": [
    "print(med_age.shape)\n",
    "med_age.columns"
   ]
  },
  {
   "cell_type": "code",
   "execution_count": 36,
   "metadata": {},
   "outputs": [
    {
     "name": "stdout",
     "output_type": "stream",
     "text": [
      "(3198, 6)\n"
     ]
    },
    {
     "data": {
      "text/html": [
       "<div>\n",
       "<style scoped>\n",
       "    .dataframe tbody tr th:only-of-type {\n",
       "        vertical-align: middle;\n",
       "    }\n",
       "\n",
       "    .dataframe tbody tr th {\n",
       "        vertical-align: top;\n",
       "    }\n",
       "\n",
       "    .dataframe thead th {\n",
       "        text-align: right;\n",
       "    }\n",
       "</style>\n",
       "<table border=\"1\" class=\"dataframe\">\n",
       "  <thead>\n",
       "    <tr style=\"text-align: right;\">\n",
       "      <th></th>\n",
       "      <th>Areaname</th>\n",
       "      <th>STCOU</th>\n",
       "      <th>AGE050180D</th>\n",
       "      <th>AGE050190D</th>\n",
       "      <th>AGE050200D</th>\n",
       "      <th>AGE050210D</th>\n",
       "    </tr>\n",
       "  </thead>\n",
       "  <tbody>\n",
       "    <tr>\n",
       "      <th>0</th>\n",
       "      <td>UNITED STATES</td>\n",
       "      <td>0</td>\n",
       "      <td>30.0</td>\n",
       "      <td>32.9</td>\n",
       "      <td>35.3</td>\n",
       "      <td>37.2</td>\n",
       "    </tr>\n",
       "    <tr>\n",
       "      <th>1</th>\n",
       "      <td>ALABAMA</td>\n",
       "      <td>1000</td>\n",
       "      <td>29.3</td>\n",
       "      <td>33.0</td>\n",
       "      <td>35.8</td>\n",
       "      <td>37.9</td>\n",
       "    </tr>\n",
       "    <tr>\n",
       "      <th>2</th>\n",
       "      <td>Autauga, AL</td>\n",
       "      <td>1001</td>\n",
       "      <td>27.9</td>\n",
       "      <td>31.7</td>\n",
       "      <td>35.1</td>\n",
       "      <td>37.0</td>\n",
       "    </tr>\n",
       "    <tr>\n",
       "      <th>3</th>\n",
       "      <td>Baldwin, AL</td>\n",
       "      <td>1003</td>\n",
       "      <td>30.6</td>\n",
       "      <td>35.5</td>\n",
       "      <td>39.0</td>\n",
       "      <td>41.1</td>\n",
       "    </tr>\n",
       "    <tr>\n",
       "      <th>4</th>\n",
       "      <td>Barbour, AL</td>\n",
       "      <td>1005</td>\n",
       "      <td>30.1</td>\n",
       "      <td>32.8</td>\n",
       "      <td>35.8</td>\n",
       "      <td>39.0</td>\n",
       "    </tr>\n",
       "  </tbody>\n",
       "</table>\n",
       "</div>"
      ],
      "text/plain": [
       "        Areaname  STCOU  AGE050180D  AGE050190D  AGE050200D  AGE050210D\n",
       "0  UNITED STATES      0        30.0        32.9        35.3        37.2\n",
       "1        ALABAMA   1000        29.3        33.0        35.8        37.9\n",
       "2    Autauga, AL   1001        27.9        31.7        35.1        37.0\n",
       "3    Baldwin, AL   1003        30.6        35.5        39.0        41.1\n",
       "4    Barbour, AL   1005        30.1        32.8        35.8        39.0"
      ]
     },
     "execution_count": 36,
     "metadata": {},
     "output_type": "execute_result"
    }
   ],
   "source": [
    "##Column descriptions\n",
    "\n",
    "#### Areaname: County name\n",
    "#### STCOU: GEOID\n",
    "#### AGE050180D: Resident population: Median age (complete count) 1980\n",
    "#### AGE050190D: Resident population: Median age (complete count) 1990\n",
    "#### AGE050200D: Resident population: Median age (April 1 - complete count) 2000\n",
    "#### AGE050210D: Resident population: Median age (April 1 - complete count) 2010\n",
    "\n",
    "cols_drop = ['AGE040205F', 'AGE040205D', 'AGE040205N1',\n",
    "       'AGE040205N2', 'AGE040206F', 'AGE040206D', 'AGE040206N1', 'AGE040206N2',\n",
    "       'AGE040207F', 'AGE040207D', 'AGE040207N1', 'AGE040207N2', 'AGE040208F',\n",
    "       'AGE040208D', 'AGE040208N1', 'AGE040208N2', 'AGE040209F', 'AGE040209D',\n",
    "       'AGE040209N1', 'AGE040209N2', 'AGE050180F', 'AGE050180N1',\n",
    "       'AGE050180N2', 'AGE050190F', 'AGE050190N1', 'AGE050190N2',\n",
    "       'AGE050200F', 'AGE050200N1', 'AGE050200N2', 'AGE050210F',\n",
    "       'AGE050210N1', 'AGE050210N2', 'AGE110180F', 'AGE110180D',\n",
    "       'AGE110180N1', 'AGE110180N2']\n",
    "\n",
    "med_age = med_age.drop(columns = cols_drop, axis = 1) \n",
    "print(med_age.shape)\n",
    "med_age.head(5)"
   ]
  },
  {
   "cell_type": "code",
   "execution_count": 37,
   "metadata": {},
   "outputs": [],
   "source": [
    "age = pd.DataFrame()\n",
    "col_list = ['AGE050180D','AGE050190D','AGE050200D','AGE050210D']\n",
    "\n",
    "for item in col_list:\n",
    "    \n",
    "    if item[-3] == '8':\n",
    "        year = 1980\n",
    "    elif item[-3] == '9': \n",
    "        year = 1990\n",
    "    elif item[-3] == '0': \n",
    "        year = 2000\n",
    "    else:\n",
    "        year = 2010\n",
    "    \n",
    "    temp_df = med_age[['Areaname', 'STCOU']]\n",
    "    temp_df.insert(0, 'YEAR', year)\n",
    "    temp_df.insert(3, 'Median_Age', med_age[item])\n",
    "    \n",
    "    age = age.append(temp_df, ignore_index=True) "
   ]
  },
  {
   "cell_type": "code",
   "execution_count": 38,
   "metadata": {},
   "outputs": [
    {
     "name": "stdout",
     "output_type": "stream",
     "text": [
      "[1980 1990 2000 2010]\n"
     ]
    },
    {
     "data": {
      "text/html": [
       "<div>\n",
       "<style scoped>\n",
       "    .dataframe tbody tr th:only-of-type {\n",
       "        vertical-align: middle;\n",
       "    }\n",
       "\n",
       "    .dataframe tbody tr th {\n",
       "        vertical-align: top;\n",
       "    }\n",
       "\n",
       "    .dataframe thead th {\n",
       "        text-align: right;\n",
       "    }\n",
       "</style>\n",
       "<table border=\"1\" class=\"dataframe\">\n",
       "  <thead>\n",
       "    <tr style=\"text-align: right;\">\n",
       "      <th></th>\n",
       "      <th>YEAR</th>\n",
       "      <th>Areaname</th>\n",
       "      <th>STCOU</th>\n",
       "      <th>Median_Age</th>\n",
       "    </tr>\n",
       "  </thead>\n",
       "  <tbody>\n",
       "    <tr>\n",
       "      <th>0</th>\n",
       "      <td>1980</td>\n",
       "      <td>UNITED STATES</td>\n",
       "      <td>0</td>\n",
       "      <td>30.0</td>\n",
       "    </tr>\n",
       "    <tr>\n",
       "      <th>1</th>\n",
       "      <td>1980</td>\n",
       "      <td>ALABAMA</td>\n",
       "      <td>1000</td>\n",
       "      <td>29.3</td>\n",
       "    </tr>\n",
       "    <tr>\n",
       "      <th>2</th>\n",
       "      <td>1980</td>\n",
       "      <td>Autauga, AL</td>\n",
       "      <td>1001</td>\n",
       "      <td>27.9</td>\n",
       "    </tr>\n",
       "    <tr>\n",
       "      <th>3</th>\n",
       "      <td>1980</td>\n",
       "      <td>Baldwin, AL</td>\n",
       "      <td>1003</td>\n",
       "      <td>30.6</td>\n",
       "    </tr>\n",
       "    <tr>\n",
       "      <th>4</th>\n",
       "      <td>1980</td>\n",
       "      <td>Barbour, AL</td>\n",
       "      <td>1005</td>\n",
       "      <td>30.1</td>\n",
       "    </tr>\n",
       "    <tr>\n",
       "      <th>...</th>\n",
       "      <td>...</td>\n",
       "      <td>...</td>\n",
       "      <td>...</td>\n",
       "      <td>...</td>\n",
       "    </tr>\n",
       "    <tr>\n",
       "      <th>12787</th>\n",
       "      <td>2010</td>\n",
       "      <td>Sweetwater, WY</td>\n",
       "      <td>56037</td>\n",
       "      <td>32.8</td>\n",
       "    </tr>\n",
       "    <tr>\n",
       "      <th>12788</th>\n",
       "      <td>2010</td>\n",
       "      <td>Teton, WY</td>\n",
       "      <td>56039</td>\n",
       "      <td>36.9</td>\n",
       "    </tr>\n",
       "    <tr>\n",
       "      <th>12789</th>\n",
       "      <td>2010</td>\n",
       "      <td>Uinta, WY</td>\n",
       "      <td>56041</td>\n",
       "      <td>33.9</td>\n",
       "    </tr>\n",
       "    <tr>\n",
       "      <th>12790</th>\n",
       "      <td>2010</td>\n",
       "      <td>Washakie, WY</td>\n",
       "      <td>56043</td>\n",
       "      <td>41.8</td>\n",
       "    </tr>\n",
       "    <tr>\n",
       "      <th>12791</th>\n",
       "      <td>2010</td>\n",
       "      <td>Weston, WY</td>\n",
       "      <td>56045</td>\n",
       "      <td>42.3</td>\n",
       "    </tr>\n",
       "  </tbody>\n",
       "</table>\n",
       "<p>12792 rows × 4 columns</p>\n",
       "</div>"
      ],
      "text/plain": [
       "       YEAR        Areaname  STCOU  Median_Age\n",
       "0      1980   UNITED STATES      0        30.0\n",
       "1      1980         ALABAMA   1000        29.3\n",
       "2      1980     Autauga, AL   1001        27.9\n",
       "3      1980     Baldwin, AL   1003        30.6\n",
       "4      1980     Barbour, AL   1005        30.1\n",
       "...     ...             ...    ...         ...\n",
       "12787  2010  Sweetwater, WY  56037        32.8\n",
       "12788  2010       Teton, WY  56039        36.9\n",
       "12789  2010       Uinta, WY  56041        33.9\n",
       "12790  2010    Washakie, WY  56043        41.8\n",
       "12791  2010      Weston, WY  56045        42.3\n",
       "\n",
       "[12792 rows x 4 columns]"
      ]
     },
     "execution_count": 38,
     "metadata": {},
     "output_type": "execute_result"
    }
   ],
   "source": [
    "print(age.YEAR.unique())\n",
    "age"
   ]
  },
  {
   "cell_type": "code",
   "execution_count": 39,
   "metadata": {},
   "outputs": [],
   "source": [
    "age.to_csv('age.csv', index=False)"
   ]
  },
  {
   "cell_type": "code",
   "execution_count": null,
   "metadata": {},
   "outputs": [],
   "source": []
  }
 ],
 "metadata": {
  "kernelspec": {
   "display_name": "Python 3",
   "language": "python",
   "name": "python3"
  },
  "language_info": {
   "codemirror_mode": {
    "name": "ipython",
    "version": 3
   },
   "file_extension": ".py",
   "mimetype": "text/x-python",
   "name": "python",
   "nbconvert_exporter": "python",
   "pygments_lexer": "ipython3",
   "version": "3.7.2"
  }
 },
 "nbformat": 4,
 "nbformat_minor": 2
}
