{
 "cells": [
  {
   "cell_type": "code",
   "execution_count": 1,
   "metadata": {},
   "outputs": [
    {
     "data": {
      "application/javascript": [
       "\n",
       "Jupyter.keyboard_manager.command_shortcuts.add_shortcut('r', {\n",
       "    help : 'run all cells',\n",
       "    help_index : 'zz',\n",
       "    handler : function (event) {\n",
       "        IPython.notebook.execute_all_cells();\n",
       "        return false;\n",
       "    }}\n",
       ");\n"
      ],
      "text/plain": [
       "<IPython.core.display.Javascript object>"
      ]
     },
     "metadata": {},
     "output_type": "display_data"
    }
   ],
   "source": [
    "%%javascript\n",
    "\n",
    "Jupyter.keyboard_manager.command_shortcuts.add_shortcut('r', {\n",
    "    help : 'run all cells',\n",
    "    help_index : 'zz',\n",
    "    handler : function (event) {\n",
    "        IPython.notebook.execute_all_cells();\n",
    "        return false;\n",
    "    }}\n",
    ");"
   ]
  },
  {
   "cell_type": "code",
   "execution_count": 2,
   "metadata": {},
   "outputs": [],
   "source": [
    "%matplotlib inline\n",
    "import pandas as pd\n",
    "import numpy as np\n",
    "import matplotlib.pyplot as plt\n",
    "#from loess.Loess import Loess\n",
    "from sklearn.neighbors.kde import KernelDensity\n",
    "import statsmodels.api as sm\n",
    "import seaborn as sns\n",
    "import loess\n",
    "import random\n",
    "import os"
   ]
  },
  {
   "cell_type": "code",
   "execution_count": 3,
   "metadata": {},
   "outputs": [],
   "source": [
    "folder_path=\"/Users/sparshagarwal/Desktop/NCSA/Dataframes/data/Individual\""
   ]
  },
  {
   "cell_type": "code",
   "execution_count": 4,
   "metadata": {},
   "outputs": [],
   "source": [
    "files=os.listdir(folder_path)"
   ]
  },
  {
   "cell_type": "code",
   "execution_count": 6,
   "metadata": {},
   "outputs": [],
   "source": [
    "for file in files:\n",
    "    data_path= folder_path + \"/\" + file\n",
    "    data= pd.read_csv(data_path)\n",
    "    variable=data.columns[2]    #Variable for chi-square test\n",
    "    #Average of IR and the variable for classification purpose\n",
    "    avg_ir=np.mean(data[\"IR\"])\n",
    "    avg_var=np.mean(data[variable])\n",
    "    l=[]\n",
    "    for i in range(len(data)):\n",
    "        if(data.iloc[i][\"IR\"]>=avg_ir):\n",
    "            l.append(\"H\")\n",
    "        else:\n",
    "            l.append(\"L\")\n",
    "    data[\"Class_IR\"]=l\n",
    "    l=[]\n",
    "    for i in range(len(data)):\n",
    "        if(data.iloc[i][variable]>=avg_var):\n",
    "            l.append(\"H\")\n",
    "        else:\n",
    "            l.append(\"L\")\n",
    "    data[\"Class_var\"]=l\n",
    "    #To export data\n",
    "    data.to_csv(\"/Users/sparshagarwal/Desktop/NCSA/Dataframes/Chi/USA/\" + file[:(len(file)-4)] + \"_chi.csv\", index=False)"
   ]
  },
  {
   "cell_type": "code",
   "execution_count": null,
   "metadata": {},
   "outputs": [],
   "source": []
  }
 ],
 "metadata": {
  "kernelspec": {
   "display_name": "Python 3",
   "language": "python",
   "name": "python3"
  },
  "language_info": {
   "codemirror_mode": {
    "name": "ipython",
    "version": 3
   },
   "file_extension": ".py",
   "mimetype": "text/x-python",
   "name": "python",
   "nbconvert_exporter": "python",
   "pygments_lexer": "ipython3",
   "version": "3.7.4"
  }
 },
 "nbformat": 4,
 "nbformat_minor": 2
}
