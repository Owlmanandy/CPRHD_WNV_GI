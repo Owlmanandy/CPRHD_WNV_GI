{
 "cells": [
  {
   "cell_type": "code",
   "execution_count": 1,
   "metadata": {},
   "outputs": [
    {
     "data": {
      "application/javascript": [
       "\n",
       "Jupyter.keyboard_manager.command_shortcuts.add_shortcut('r', {\n",
       "    help : 'run all cells',\n",
       "    help_index : 'zz',\n",
       "    handler : function (event) {\n",
       "        IPython.notebook.execute_all_cells();\n",
       "        return false;\n",
       "    }}\n",
       ");\n"
      ],
      "text/plain": [
       "<IPython.core.display.Javascript object>"
      ]
     },
     "metadata": {},
     "output_type": "display_data"
    }
   ],
   "source": [
    "%%javascript\n",
    "\n",
    "Jupyter.keyboard_manager.command_shortcuts.add_shortcut('r', {\n",
    "    help : 'run all cells',\n",
    "    help_index : 'zz',\n",
    "    handler : function (event) {\n",
    "        IPython.notebook.execute_all_cells();\n",
    "        return false;\n",
    "    }}\n",
    ");"
   ]
  },
  {
   "cell_type": "code",
   "execution_count": 19,
   "metadata": {},
   "outputs": [],
   "source": [
    "%matplotlib inline\n",
    "import pandas as pd\n",
    "import numpy as np\n",
    "import matplotlib.pyplot as plt\n",
    "#from loess.Loess import Loess\n",
    "from sklearn.neighbors.kde import KernelDensity\n",
    "import statsmodels.api as sm\n",
    "import seaborn as sns\n",
    "import loess\n",
    "import random"
   ]
  },
  {
   "cell_type": "code",
   "execution_count": 133,
   "metadata": {},
   "outputs": [],
   "source": [
    "wnv_file_path= \"/Users/sparshagarwal/Downloads/WMV_data/Arbovirus_risk_modeling_US/WNV_human_cases/WNV_NI_NNI_1999to2015_prevalence_incidence_final_20180530.csv\"\n",
    "#data_path=\"/Users/sparshagarwal/Downloads/urban_county_indices/aggregate/filtered_aggregated_precipitation.csv\"\n",
    "#data_path=\"/Users/sparshagarwal/Downloads/urban_county_indices/dry_days/dry_days_filtered.csv\"\n",
    "#data_path=\"/Users/sparshagarwal/Downloads/urban_county_indices/dry_days/max_consecutive_dry_days.csv\"\n",
    "#data_path=\"/Users/sparshagarwal/Downloads/urban_county_indices/gini/gini_index_summer.csv\"\n",
    "#data_path=\"/Users/sparshagarwal/Downloads/urban_county_indices/gini/gini_index.csv\"\n",
    "#data_path=\"/Users/sparshagarwal/Downloads/urban_county_indices/gini/gini_weekly.csv\"\n",
    "#data_path=\"/Users/sparshagarwal/Downloads/urban_county_indices/theil/theil_index_summer.csv\"\n",
    "#data_path=\"/Users/sparshagarwal/Downloads/urban_county_indices/theil/theil_index.csv\"\n",
    "data_path=\"/Users/sparshagarwal/Downloads/urban_county_indices/theil/theil_weekly.csv\""
   ]
  },
  {
   "cell_type": "code",
   "execution_count": 134,
   "metadata": {},
   "outputs": [],
   "source": [
    "#variable=\"filtered_aggregated_precipitation\"\n",
    "#variable=\"dry_days_filtered\"\n",
    "#variable=\"max_consecutive_dry_days\"\n",
    "#variable=\"gini_index_summer\"\n",
    "#variable=\"gini_index\"\n",
    "#variable=\"gini_weekly\"\n",
    "#variable=\"theil_index_summer\"\n",
    "#variable=\"theil_index\"\n",
    "variable=\"theil_weekly\""
   ]
  },
  {
   "cell_type": "code",
   "execution_count": 135,
   "metadata": {},
   "outputs": [],
   "source": [
    "years=range(1999, 2016)"
   ]
  },
  {
   "cell_type": "code",
   "execution_count": 136,
   "metadata": {},
   "outputs": [],
   "source": [
    "# Defining socio-economic zones/regions\n",
    "socio_regions={\"WA\":1, \"OR\":1, \"CA\":1, \"MT\":2, \"ID\":2, \"WY\":2, \"NV\":2, \"UT\":2, \"CO\":2, \"AZ\":2, \"NM\":2,\"ND\":3, \"SD\":3, \"MN\":3, \"NE\":3, \"IA\":3,\"KS\":3, \"MO\":3, \"OK\":4 , \"TX\":4, \"AR\":4, \"LA\":4, \"WI\":5, \"MI\":5, \"IL\":5, \"IN\":5, \"OH\":5, \"KY\":6, \"TN\":6, \"AL\":6, \"MS\":6, \"WV\":7, \"VA\":7, \"NC\":7, \"SC\":7, \"DC\":7, \"MD\":7, \"DE\":7, \"GA\":7, \"FL\":7, \"PA\":8, \"NJ\":8, \"NY\":8, \"MA\":9, \"CT\":9, \"NH\":9, \"VT\":9, \"ME\":9, \"RI\":9}\n",
    "socio_key={1:\"Pacific\", 2:\"Mountain\", 3:\"West North Central\", 4: \"West South Central\", 5: \"East North Central\", 6: \"East South Central\", 7: \"South Atlantic\", 8: \"Middle Atlantic\", 9: \"New England\"}"
   ]
  },
  {
   "cell_type": "code",
   "execution_count": 137,
   "metadata": {},
   "outputs": [],
   "source": [
    "# Defining climatic zones/regions\n",
    "weather_regions={\"WA\":1, \"OR\":1, \"ID\":1, \"NV\":2, \"CA\":2, \"MT\":3, \"WY\":3,\"ND\":3, \"SD\":3, \"NE\":3,\"UT\":4, \"CO\":4, \"AZ\":4, \"NM\":4, \"MN\":5,\"WI\":5, \"MI\":5, \"IA\":5,\"KS\":6, \"OK\":6 , \"TX\":6, \"AR\":6, \"LA\":6, \"MS\":6, \"MO\":7 , \"IL\":7, \"IN\":7, \"OH\":7, \"KY\":7, \"TN\":7, \"WV\":7, \"AL\":8, \"VA\":8, \"NC\":8, \"SC\":8, \"GA\":8, \"FL\":8, \"DE\":9, \"DC\":9, \"MD\":9, \"PA\":9, \"NJ\":9, \"NY\":9, \"MA\":9, \"CT\":9, \"NH\":9, \"VT\":9, \"ME\":9, \"RI\":9}\n",
    "weather_key={1: \"Northwest\", 2: \"West\", 3: \"West North Central\", 4: \"Southwest\", 5: \"East North Central\", 6: \"South\", 7: \"Central\", 8: \"Southeast\", 9:\"Northeast\"}"
   ]
  },
  {
   "cell_type": "code",
   "execution_count": 138,
   "metadata": {},
   "outputs": [],
   "source": [
    "#Importing WNV yearly data\n",
    "df= pd.read_csv(wnv_file_path, encoding='latin-1')\n",
    "df=df[df[\"Select_County\"]==1]\n",
    "df.rename(columns = {'GEOID10':'GEOID'}, inplace = True)\n",
    "df=df[df[\"STNAME\"]!=\"California\"]"
   ]
  },
  {
   "cell_type": "code",
   "execution_count": 139,
   "metadata": {},
   "outputs": [],
   "source": [
    "# Adding a column for incident year\n",
    "incident_year=[years[-1] for i in range(len(df))]\n",
    "for j in range(len(df)):\n",
    "    for i in years:\n",
    "        if(df.iloc[j][\"NI_IR_\" + str(i)]!=0):\n",
    "            incident_year[j]=i\n",
    "            break\n",
    "df[\"Incident_year\"]=incident_year"
   ]
  },
  {
   "cell_type": "code",
   "execution_count": 140,
   "metadata": {},
   "outputs": [],
   "source": [
    "# Adding data for the variable\n",
    "df_mod=df.copy()\n",
    "data=pd.read_csv(data_path)\n",
    "df_mod=df_mod.join(data.set_index('GEOID'), on='GEOID')"
   ]
  },
  {
   "cell_type": "code",
   "execution_count": 141,
   "metadata": {},
   "outputs": [],
   "source": [
    "#Adding socioeconomic and weather regions classification column\n",
    "sc=[]\n",
    "we=[]\n",
    "for i in range(len(df_mod)):\n",
    "    sc.append(socio_regions[df_mod.iloc[i][\"STUSPS\"]])\n",
    "    we.append(weather_regions[df_mod.iloc[i][\"STUSPS\"]])\n",
    "df_mod[\"Socio_econ_class\"]=sc \n",
    "df_mod[\"Weather_class\"]=we"
   ]
  },
  {
   "cell_type": "code",
   "execution_count": 142,
   "metadata": {},
   "outputs": [],
   "source": [
    "#Calculating average of mean summer temperature, precipitaion, humidity,  for every county and storing \n",
    "#all the corresponding attributes in different lists so that a simplified dataframe can be made.\n",
    "#Months considered with temperature lying in CDD_temp range, not just May-Sept.\n",
    "geo_id=[]\n",
    "mean_variable=[]\n",
    "mean_ir=[]\n",
    "w_cl=[]\n",
    "s_cl=[]\n",
    "for i in range(len(df_mod)):\n",
    "    summer_variable=[]\n",
    "    summer_ir=[]\n",
    "    inc_year= df_mod.iloc[i][\"Incident_year\"]  # 1st year of WNV incidence\n",
    "                                     \n",
    "    for j in range(inc_year+1, years[-1]+1):\n",
    "        #Calculating and storing the variable value for a certain year.\n",
    "        summer_variable.append(df_mod.iloc[i][str(j)])    \n",
    "        summer_ir.append(df_mod.iloc[i][\"NI_IR_\" + str(j)])\n",
    "                                   \n",
    "    if(inc_year!=years[-1]):\n",
    "        # Calculating median of varaible across all the years\n",
    "        l=summer_variable\n",
    "        index=np.argsort(l)[len(l)//2]       #Index of median value\n",
    "        mean_variable.append(summer_variable[index])\n",
    "        mean_ir.append(summer_ir[index])     #Median corresponding to the variable of interest\n",
    "        geo_id.append(df_mod.iloc[i][\"GEOID\"])\n",
    "        w_cl.append(df_mod.iloc[i][\"Weather_class\"])\n",
    "        s_cl.append(df_mod.iloc[i][\"Socio_econ_class\"])\n",
    "        "
   ]
  },
  {
   "cell_type": "code",
   "execution_count": 143,
   "metadata": {},
   "outputs": [],
   "source": [
    "#For median across all the years\n",
    "df_combined=pd.DataFrame()\n",
    "df_combined[\"GEOID\"]=geo_id\n",
    "df_combined[\"IR\"]=mean_ir\n",
    "df_combined[variable]=mean_variable\n",
    "df_combined[\"Weather_class\"]=w_cl\n",
    "df_combined[\"Socio_econ_class\"]=s_cl"
   ]
  },
  {
   "cell_type": "code",
   "execution_count": 144,
   "metadata": {},
   "outputs": [],
   "source": [
    "df_combined=df_combined[df_combined[variable].isnull()==False]\n",
    "df_combined=df_combined[df_combined[\"IR\"]!=0]   # Removing entries with IR=0"
   ]
  },
  {
   "cell_type": "code",
   "execution_count": 145,
   "metadata": {},
   "outputs": [],
   "source": [
    "#To export data\n",
    "df_combined.to_csv(r\"/Users/sparshagarwal/Desktop/Weather_meadin_years_\" + variable + \".csv\", index=False)"
   ]
  },
  {
   "cell_type": "code",
   "execution_count": 132,
   "metadata": {},
   "outputs": [],
   "source": [
    "#df_combined=df_combined[df_combined[\"Weather_class\"]==9]\n",
    "#df_combined=df_combined[df_combined[\"Socio_econ_class\"]==9]"
   ]
  },
  {
   "cell_type": "code",
   "execution_count": 105,
   "metadata": {},
   "outputs": [],
   "source": [
    "#Variable for which the trend has to be plotted\n",
    "var=variable"
   ]
  },
  {
   "cell_type": "code",
   "execution_count": 49,
   "metadata": {},
   "outputs": [
    {
     "data": {
      "text/plain": [
       "<matplotlib.axes._subplots.AxesSubplot at 0x12eff4590>"
      ]
     },
     "execution_count": 49,
     "metadata": {},
     "output_type": "execute_result"
    },
    {
     "data": {
      "image/png": "[encoded data removed]",
      "text/plain": [
       "<Figure size 432x288 with 1 Axes>"
      ]
     },
     "metadata": {
      "needs_background": "light"
     },
     "output_type": "display_data"
    }
   ],
   "source": [
    "df_combined.plot(kind='scatter',x=var,y='IR',color=\"None\", edgecolors='red')"
   ]
  },
  {
   "cell_type": "code",
   "execution_count": null,
   "metadata": {},
   "outputs": [],
   "source": []
  },
  {
   "cell_type": "code",
   "execution_count": null,
   "metadata": {},
   "outputs": [],
   "source": []
  }
 ],
 "metadata": {
  "kernelspec": {
   "display_name": "Python 3",
   "language": "python",
   "name": "python3"
  },
  "language_info": {
   "codemirror_mode": {
    "name": "ipython",
    "version": 3
   },
   "file_extension": ".py",
   "mimetype": "text/x-python",
   "name": "python",
   "nbconvert_exporter": "python",
   "pygments_lexer": "ipython3",
   "version": "3.7.4"
  }
 },
 "nbformat": 4,
 "nbformat_minor": 2
}
