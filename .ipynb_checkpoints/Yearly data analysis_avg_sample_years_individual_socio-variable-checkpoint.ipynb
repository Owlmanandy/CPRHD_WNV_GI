{
 "cells": [
  {
   "cell_type": "code",
   "execution_count": 107,
   "metadata": {},
   "outputs": [
    {
     "data": {
      "application/javascript": [
       "\n",
       "Jupyter.keyboard_manager.command_shortcuts.add_shortcut('r', {\n",
       "    help : 'run all cells',\n",
       "    help_index : 'zz',\n",
       "    handler : function (event) {\n",
       "        IPython.notebook.execute_all_cells();\n",
       "        return false;\n",
       "    }}\n",
       ");\n"
      ],
      "text/plain": [
       "<IPython.core.display.Javascript object>"
      ]
     },
     "metadata": {},
     "output_type": "display_data"
    }
   ],
   "source": [
    "%%javascript\n",
    "\n",
    "Jupyter.keyboard_manager.command_shortcuts.add_shortcut('r', {\n",
    "    help : 'run all cells',\n",
    "    help_index : 'zz',\n",
    "    handler : function (event) {\n",
    "        IPython.notebook.execute_all_cells();\n",
    "        return false;\n",
    "    }}\n",
    ");"
   ]
  },
  {
   "cell_type": "code",
   "execution_count": 108,
   "metadata": {},
   "outputs": [],
   "source": [
    "%matplotlib inline\n",
    "import pandas as pd\n",
    "import numpy as np\n",
    "import matplotlib.pyplot as plt\n",
    "#from loess.Loess import Loess\n",
    "from sklearn.neighbors.kde import KernelDensity\n",
    "import statsmodels.api as sm\n",
    "import seaborn as sns\n",
    "import loess\n",
    "import random"
   ]
  },
  {
   "cell_type": "code",
   "execution_count": 109,
   "metadata": {},
   "outputs": [],
   "source": [
    "wnv_file_path= \"/Users/sparshagarwal/Downloads/WMV_data/Arbovirus_risk_modeling_US/WNV_human_cases/WNV_NI_NNI_1999to2015_prevalence_incidence_final_20180530.csv\"\n",
    "#data_path=\"/Users/sparshagarwal/Downloads/WMV_data/Socioeconomics/race_data.csv\"\n",
    "data_path=\"/Users/sparshagarwal/Downloads/WMV_data/Socioeconomics/se_data.csv\""
   ]
  },
  {
   "cell_type": "code",
   "execution_count": 110,
   "metadata": {},
   "outputs": [],
   "source": [
    "#variable=\"Resident_population_White_alone_percent\"\n",
    "#variable=\"Median_Household_Income\"\n",
    "variable=\"Poverty_percent_of_people\""
   ]
  },
  {
   "cell_type": "code",
   "execution_count": 111,
   "metadata": {},
   "outputs": [],
   "source": [
    "#years=range(2000, 2010)\n",
    "years=range(1999, 2010)"
   ]
  },
  {
   "cell_type": "code",
   "execution_count": 112,
   "metadata": {},
   "outputs": [],
   "source": [
    "# Defining socio-economic zones/regions\n",
    "socio_regions={\"WA\":1, \"OR\":1, \"CA\":1, \"MT\":2, \"ID\":2, \"WY\":2, \"NV\":2, \"UT\":2, \"CO\":2, \"AZ\":2, \"NM\":2,\"ND\":3, \"SD\":3, \"MN\":3, \"NE\":3, \"IA\":3,\"KS\":3, \"MO\":3, \"OK\":4 , \"TX\":4, \"AR\":4, \"LA\":4, \"WI\":5, \"MI\":5, \"IL\":5, \"IN\":5, \"OH\":5, \"KY\":6, \"TN\":6, \"AL\":6, \"MS\":6, \"WV\":7, \"VA\":7, \"NC\":7, \"SC\":7, \"DC\":7, \"MD\":7, \"DE\":7, \"GA\":7, \"FL\":7, \"PA\":8, \"NJ\":8, \"NY\":8, \"MA\":9, \"CT\":9, \"NH\":9, \"VT\":9, \"ME\":9, \"RI\":9}\n",
    "socio_key={1:\"Pacific\", 2:\"Mountain\", 3:\"West North Central\", 4: \"West South Central\", 5: \"East North Central\", 6: \"East South Central\", 7: \"South Atlantic\", 8: \"Middle Atlantic\", 9: \"New England\"}"
   ]
  },
  {
   "cell_type": "code",
   "execution_count": 113,
   "metadata": {},
   "outputs": [],
   "source": [
    "# Defining climatic zones/regions\n",
    "weather_regions={\"WA\":1, \"OR\":1, \"ID\":1, \"NV\":2, \"CA\":2, \"MT\":3, \"WY\":3,\"ND\":3, \"SD\":3, \"NE\":3,\"UT\":4, \"CO\":4, \"AZ\":4, \"NM\":4, \"MN\":5,\"WI\":5, \"MI\":5, \"IA\":5,\"KS\":6, \"OK\":6 , \"TX\":6, \"AR\":6, \"LA\":6, \"MS\":6, \"MO\":7 , \"IL\":7, \"IN\":7, \"OH\":7, \"KY\":7, \"TN\":7, \"WV\":7, \"AL\":8, \"VA\":8, \"NC\":8, \"SC\":8, \"GA\":8, \"FL\":8, \"DE\":9, \"DC\":9, \"MD\":9, \"PA\":9, \"NJ\":9, \"NY\":9, \"MA\":9, \"CT\":9, \"NH\":9, \"VT\":9, \"ME\":9, \"RI\":9}\n",
    "weather_key={1: \"Northwest\", 2: \"West\", 3: \"West North Central\", 4: \"Southwest\", 5: \"East North Central\", 6: \"South\", 7: \"Central\", 8: \"Southeast\", 9:\"Northeast\"}"
   ]
  },
  {
   "cell_type": "code",
   "execution_count": 114,
   "metadata": {},
   "outputs": [],
   "source": [
    "#Importing WNV yearly data\n",
    "df= pd.read_csv(wnv_file_path, encoding='latin-1')\n",
    "df=df[df[\"Select_County\"]==1]\n",
    "df.rename(columns = {'GEOID10':'GEOID'}, inplace = True)\n",
    "df=df[df[\"STNAME\"]!=\"California\"]"
   ]
  },
  {
   "cell_type": "code",
   "execution_count": 115,
   "metadata": {},
   "outputs": [],
   "source": [
    "# Adding a column for incident year\n",
    "incident_year=[years[-1] for i in range(len(df))]\n",
    "for j in range(len(df)):\n",
    "    for i in years:\n",
    "        if(df.iloc[j][\"NI_IR_\" + str(i)]!=0):\n",
    "            incident_year[j]=i\n",
    "            break\n",
    "df[\"Incident_year\"]=incident_year"
   ]
  },
  {
   "cell_type": "code",
   "execution_count": 116,
   "metadata": {},
   "outputs": [],
   "source": [
    "# Adding data for the variable\n",
    "df_mod=df.copy()\n",
    "data=pd.read_csv(data_path)\n",
    "temp_df=pd.DataFrame()"
   ]
  },
  {
   "cell_type": "code",
   "execution_count": 117,
   "metadata": {},
   "outputs": [],
   "source": [
    "#Creating dataframe of scoio economic variable\n",
    "for i in years:\n",
    "    data_f=data[data[\"YEAR\"]==i]\n",
    "    geo_id=[]\n",
    "    var_value=[]\n",
    "    for j in range(1,len(data_f)):\n",
    "        geo_id.append(data_f.iloc[j][\"STCOU\"])\n",
    "        var_value.append(data_f.iloc[j][variable])\n",
    "    temp_df[\"GEOID\"]=geo_id\n",
    "    temp_df[variable + \"_\" + str(i)]=var_value"
   ]
  },
  {
   "cell_type": "code",
   "execution_count": 118,
   "metadata": {},
   "outputs": [],
   "source": [
    "#The main dataframe comprising of everything\n",
    "df_mod=df_mod.join(temp_df.set_index('GEOID'), on='GEOID')"
   ]
  },
  {
   "cell_type": "code",
   "execution_count": 119,
   "metadata": {},
   "outputs": [],
   "source": [
    "#Adding socioeconomic and weather regions classification column\n",
    "sc=[]\n",
    "we=[]\n",
    "for i in range(len(df_mod)):\n",
    "    sc.append(socio_regions[df_mod.iloc[i][\"STUSPS\"]])\n",
    "    we.append(weather_regions[df_mod.iloc[i][\"STUSPS\"]])\n",
    "df_mod[\"Socio_econ_class\"]=sc \n",
    "df_mod[\"Weather_class\"]=we"
   ]
  },
  {
   "cell_type": "code",
   "execution_count": 120,
   "metadata": {},
   "outputs": [],
   "source": [
    "n_sample_years=5    #Number of years to be sampled"
   ]
  },
  {
   "cell_type": "code",
   "execution_count": 121,
   "metadata": {},
   "outputs": [],
   "source": [
    "#Calculating average of yearly variable value,  for every county and storing all the corresponding attributes \n",
    "# in different lists so that a simplified dataframe can be made. \n",
    "geo_id=[]\n",
    "mean_variable=[]\n",
    "mean_ir=[]\n",
    "w_cl=[]\n",
    "s_cl=[]\n",
    "for i in range(len(df_mod)):\n",
    "    summer_variable=[]\n",
    "    summer_ir=[]\n",
    "    inc_year= df_mod.iloc[i][\"Incident_year\"]  # 1st year of WNV incidence\n",
    "    \n",
    "    sample_years=[]    # For storing n number of sample years\n",
    "    for rand in range(inc_year+1, years[-1]+1):\n",
    "        sample_years.append(rand)\n",
    "    random.seed(10)\n",
    "    if(len(sample_years)>n_sample_years):\n",
    "        sample_years=random.sample(sample_years,n_sample_years)\n",
    "                                     \n",
    "    for j in sample_years:\n",
    "        #Calculating and storing the variable value for a certain year.\n",
    "        summer_variable.append(df_mod.iloc[i][variable + \"_\" + str(j)])    \n",
    "        summer_ir.append(df_mod.iloc[i][\"NI_IR_\" + str(j)])\n",
    "                                   \n",
    "    if(inc_year!=years[-1]):\n",
    "        # Calculating mean of varaible across all the years\n",
    "        mean_variable.append(np.mean(summer_variable))\n",
    "        mean_ir.append(np.mean(summer_ir))\n",
    "        geo_id.append(df_mod.iloc[i][\"GEOID\"])\n",
    "        w_cl.append(df_mod.iloc[i][\"Weather_class\"])\n",
    "        s_cl.append(df_mod.iloc[i][\"Socio_econ_class\"])\n",
    "        "
   ]
  },
  {
   "cell_type": "code",
   "execution_count": 122,
   "metadata": {},
   "outputs": [],
   "source": [
    "#For average across all the years\n",
    "df_combined=pd.DataFrame()\n",
    "df_combined[\"GEOID\"]=geo_id\n",
    "df_combined[\"IR\"]=mean_ir\n",
    "df_combined[variable]=mean_variable\n",
    "df_combined[\"Weather_class\"]=w_cl\n",
    "df_combined[\"Socio_econ_class\"]=s_cl"
   ]
  },
  {
   "cell_type": "code",
   "execution_count": 123,
   "metadata": {},
   "outputs": [],
   "source": [
    "df_combined=df_combined[df_combined[variable].isnull()==False]\n",
    "df_combined=df_combined[df_combined[\"IR\"]!=0]   # Removing entries with IR=0"
   ]
  },
  {
   "cell_type": "code",
   "execution_count": 124,
   "metadata": {},
   "outputs": [],
   "source": [
    "#To export data\n",
    "df_combined.to_csv(r\"/Users/sparshagarwal/Desktop/Socio_sample_years_\" + variable + \".csv\", index=False)"
   ]
  },
  {
   "cell_type": "code",
   "execution_count": 125,
   "metadata": {},
   "outputs": [],
   "source": [
    "#df_combined=df_combined[df_combined[\"Weather_class\"]==9]\n",
    "#df_combined=df_combined[df_combined[\"Socio_econ_class\"]==9]"
   ]
  },
  {
   "cell_type": "code",
   "execution_count": 126,
   "metadata": {},
   "outputs": [],
   "source": [
    "#Variable for which the trend has to be plotted\n",
    "var=variable"
   ]
  },
  {
   "cell_type": "code",
   "execution_count": 127,
   "metadata": {},
   "outputs": [
    {
     "data": {
      "text/plain": [
       "<matplotlib.axes._subplots.AxesSubplot at 0x109456550>"
      ]
     },
     "execution_count": 127,
     "metadata": {},
     "output_type": "execute_result"
    },
    {
     "data": {
      "image/png": "[encoded data removed]",
      "text/plain": [
       "<Figure size 432x288 with 1 Axes>"
      ]
     },
     "metadata": {
      "needs_background": "light"
     },
     "output_type": "display_data"
    }
   ],
   "source": [
    "df_combined.plot(kind='scatter',x=var,y='IR',color=\"None\", edgecolors='red')"
   ]
  },
  {
   "cell_type": "code",
   "execution_count": null,
   "metadata": {},
   "outputs": [],
   "source": []
  },
  {
   "cell_type": "code",
   "execution_count": null,
   "metadata": {},
   "outputs": [],
   "source": []
  }
 ],
 "metadata": {
  "kernelspec": {
   "display_name": "Python 3",
   "language": "python",
   "name": "python3"
  },
  "language_info": {
   "codemirror_mode": {
    "name": "ipython",
    "version": 3
   },
   "file_extension": ".py",
   "mimetype": "text/x-python",
   "name": "python",
   "nbconvert_exporter": "python",
   "pygments_lexer": "ipython3",
   "version": "3.7.4"
  }
 },
 "nbformat": 4,
 "nbformat_minor": 2
}
