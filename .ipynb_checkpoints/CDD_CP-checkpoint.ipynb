{
 "cells": [
  {
   "cell_type": "code",
   "execution_count": 144,
   "metadata": {},
   "outputs": [
    {
     "data": {
      "application/javascript": [
       "\n",
       "Jupyter.keyboard_manager.command_shortcuts.add_shortcut('r', {\n",
       "    help : 'run all cells',\n",
       "    help_index : 'zz',\n",
       "    handler : function (event) {\n",
       "        IPython.notebook.execute_all_cells();\n",
       "        return false;\n",
       "    }}\n",
       ");\n"
      ],
      "text/plain": [
       "<IPython.core.display.Javascript object>"
      ]
     },
     "metadata": {},
     "output_type": "display_data"
    }
   ],
   "source": [
    "%%javascript\n",
    "\n",
    "Jupyter.keyboard_manager.command_shortcuts.add_shortcut('r', {\n",
    "    help : 'run all cells',\n",
    "    help_index : 'zz',\n",
    "    handler : function (event) {\n",
    "        IPython.notebook.execute_all_cells();\n",
    "        return false;\n",
    "    }}\n",
    ");"
   ]
  },
  {
   "cell_type": "code",
   "execution_count": 145,
   "metadata": {},
   "outputs": [],
   "source": [
    "%matplotlib inline\n",
    "import pandas as pd\n",
    "import numpy as np\n",
    "import matplotlib.pyplot as plt\n",
    "from matplotlib.lines import Line2D"
   ]
  },
  {
   "cell_type": "code",
   "execution_count": 146,
   "metadata": {},
   "outputs": [],
   "source": [
    "#variable=\"air.2m\"\n",
    "#variable=\"air.sfc\"\n",
    "#variable=\"apcp\"\n",
    "variable=\"rhum.2m\""
   ]
  },
  {
   "cell_type": "code",
   "execution_count": 147,
   "metadata": {},
   "outputs": [],
   "source": [
    "# The temperature to be used for finding the viable transmission range\n",
    "temperature= \"air.2m\"\n",
    "#temperature= \"air.sfc\""
   ]
  },
  {
   "cell_type": "code",
   "execution_count": 148,
   "metadata": {},
   "outputs": [],
   "source": [
    "months=[\"01\", \"02\", \"03\", \"04\", \"05\", \"06\", \"07\", \"08\", \"09\", \"10\", \"11\", \"12\"]\n",
    "years=range(1999, 2016)"
   ]
  },
  {
   "cell_type": "code",
   "execution_count": 149,
   "metadata": {},
   "outputs": [],
   "source": [
    "socio_regions={\"WA\":1, \"OR\":1, \"CA\":1, \"MT\":2, \"ID\":2, \"WY\":2, \"NV\":2, \"UT\":2, \"CO\":2, \"AZ\":2, \"NM\":2,\"ND\":3, \"SD\":3, \"MN\":3, \"NE\":3, \"IA\":3,\"KS\":3, \"MO\":3, \"OK\":4 , \"TX\":4, \"AR\":4, \"LA\":4, \"WI\":5, \"MI\":5, \"IL\":5, \"IN\":5, \"OH\":5, \"KY\":6, \"TN\":6, \"AL\":6, \"MS\":6, \"WV\":7, \"VA\":7, \"NC\":7, \"SC\":7, \"DC\":7, \"MD\":7, \"DE\":7, \"GA\":7, \"FL\":7, \"PA\":8, \"NJ\":8, \"NY\":8, \"MA\":9, \"CT\":9, \"NH\":9, \"VT\":9, \"ME\":9, \"RI\":9}\n",
    "weather_regions={\"WA\":1, \"OR\":1, \"ID\":1, \"NV\":2, \"CA\":2, \"MT\":3, \"WY\":3,\"ND\":3, \"SD\":3, \"NE\":3,\"UT\":4, \"CO\":4, \"AZ\":4, \"NM\":4, \"MN\":5,\"WI\":5, \"MI\":5, \"IA\":5,\"KS\":6, \"OK\":6 , \"TX\":6, \"AR\":6, \"LA\":6, \"MS\":6, \"MO\":7 , \"IL\":7, \"IN\":7, \"OH\":7, \"KY\":7, \"TN\":7, \"WV\":7, \"AL\":8, \"VA\":8, \"NC\":8, \"SC\":8, \"GA\":8, \"FL\":8, \"DE\":9, \"DC\":9, \"MD\":9, \"PA\":9, \"NJ\":9, \"NY\":9, \"MA\":9, \"CT\":9, \"NH\":9, \"VT\":9, \"ME\":9, \"RI\":9}"
   ]
  },
  {
   "cell_type": "code",
   "execution_count": 150,
   "metadata": {},
   "outputs": [],
   "source": [
    "# Importing WNV data\n",
    "df= pd.read_csv(\"/Users/sparshagarwal/Downloads/WMV_data/Arbovirus_risk_modeling_US/WNV_human_cases/WNV_NI_NNI_1999to2015_prevalence_incidence_final_20180530.csv\", encoding='latin-1')\n",
    "df=df[df[\"Select_County\"]==1]\n",
    "df.rename(columns = {'GEOID10':'GEOID'}, inplace = True)\n",
    "#Removing anomalous data\n",
    "df=df[df[\"STNAME\"]!=\"California\"]"
   ]
  },
  {
   "cell_type": "code",
   "execution_count": 151,
   "metadata": {},
   "outputs": [],
   "source": [
    "# Defining Virus tramission temperarture range(in Fahrenheit)\n",
    "a=60\n",
    "b=95"
   ]
  },
  {
   "cell_type": "code",
   "execution_count": 152,
   "metadata": {},
   "outputs": [],
   "source": [
    "# Converting Fahrenheit to Kelvin\n",
    "a=(a-32)*5/9 + 273\n",
    "b=(b-32)*5/9 + 273"
   ]
  },
  {
   "cell_type": "code",
   "execution_count": 153,
   "metadata": {},
   "outputs": [],
   "source": [
    "temp= pd.read_csv(\"/Users/sparshagarwal/Downloads/WMV_data/intersections/narr_urban_county_data_masked/\" + \"air.2m\" +\"_masked/\"+ \"1999\" + \"_\" + \"01\" + \"_masked.csv\")"
   ]
  },
  {
   "cell_type": "code",
   "execution_count": 154,
   "metadata": {},
   "outputs": [],
   "source": [
    "# For CDD and CP\n",
    "df_mod=df.copy()\n",
    "for j in years:\n",
    "    for k in range(len(months)):\n",
    "        #Importing monthly temperature data\n",
    "        temp= pd.read_csv(\"/Users/sparshagarwal/Downloads/WMV_data/intersections/narr_urban_county_data_masked/\" + temperature +\"_masked/\"+ str(j) + \"_\" + months[k] + \"_masked.csv\")\n",
    "        #Importing monthly precipitation data\n",
    "        prec=pd.read_csv(\"/Users/sparshagarwal/Downloads/WMV_data/intersections/narr_urban_county_data_masked/apcp_masked/\"+ str(j) + \"_\" + months[k] + \"_masked.csv\")\n",
    "        # Only considering mean values\n",
    "        temp=temp[[\"GEOID\", \"mean\"]]\n",
    "        temp.rename(columns = {'mean':'mean_temp_' + str(j) + \"_\" + months[k]}, inplace = True)\n",
    "        prec=prec[[\"GEOID\", \"mean\"]]\n",
    "        prec.rename(columns = {'mean':'mean_prec_' + str(j) + \"_\" + months[k]}, inplace = True)\n",
    "        # Adding columns corresponding to all years and months\n",
    "        df_mod=df_mod.join(temp.set_index('GEOID'), on='GEOID')\n",
    "        df_mod=df_mod.join(prec.set_index('GEOID'), on='GEOID')"
   ]
  },
  {
   "cell_type": "code",
   "execution_count": 155,
   "metadata": {},
   "outputs": [],
   "source": [
    "# Adding a column for incident year\n",
    "incident_year=[2015 for i in range(len(df_mod))]\n",
    "for j in range(len(df_mod)):\n",
    "    for i in years:\n",
    "        if(df_mod.iloc[j][\"NI_IR_\" + str(i)]!=0):\n",
    "            incident_year[j]=i\n",
    "            break\n",
    "df_mod[\"Incident_year\"]=incident_year"
   ]
  },
  {
   "cell_type": "code",
   "execution_count": 156,
   "metadata": {},
   "outputs": [],
   "source": [
    "x_cdd=[]    #For storing cumulative degree days  \n",
    "x_cp=[]     #For storing cumulative precipitation\n",
    "y=[]        #For storing IR of WNV\n",
    "for i in years:\n",
    "    #Number of days in february\n",
    "    feb=28\n",
    "    #For leap year\n",
    "    if(i%4==0):\n",
    "        feb=29\n",
    "    #Months with number of days\n",
    "    days={\"01\":31, \"02\":feb, \"03\" :31, \"04\":30, \"05\":31, \"06\":30, \"07\":31, \"08\":31, \"09\":30, \"10\":31, \"11\":30, \"12\":31}\n",
    "    for j in range(len(df_mod)):\n",
    "        cdd=0\n",
    "        cp=0\n",
    "        # For all years after first incident year\n",
    "        if(df_mod.iloc[j][\"Incident_year\"]<i):\n",
    "            for k in months:\n",
    "                if(df_mod.iloc[j][\"mean_temp_\" + str(i) + \"_\" + k]>=a and df_mod.iloc[j][\"mean_temp_\" + str(i) + \"_\" + k]<=b):\n",
    "                    cdd=cdd + days[k]\n",
    "                    cp=cp + df_mod.iloc[j][\"mean_prec_\" + str(i) + \"_\" + k]\n",
    "            x_cdd.append(cdd)\n",
    "            x_cp.append(cp)\n",
    "            y.append(df_mod.iloc[j][\"NI_IR_\" + str(i)]) "
   ]
  },
  {
   "cell_type": "code",
   "execution_count": 157,
   "metadata": {},
   "outputs": [],
   "source": [
    "#Adding socioeconomic and weather regions classification column\n",
    "sc=[]\n",
    "we=[]\n",
    "for i in range(len(df_mod)):\n",
    "    sc.append(socio_regions[df_mod.iloc[i][\"STUSPS\"]])\n",
    "    we.append(weather_regions[df_mod.iloc[i][\"STUSPS\"]])\n",
    "df_mod[\"Socio_econ_class\"]=sc \n",
    "df_mod[\"Weather_class\"]=we"
   ]
  },
  {
   "cell_type": "code",
   "execution_count": 158,
   "metadata": {},
   "outputs": [],
   "source": [
    "df_cdd=pd.DataFrame()\n",
    "df_cp=pd.DataFrame()\n",
    "df_cdd[\"IR\"]=y\n",
    "df_cdd[\"CDD\"]=x_cdd\n",
    "df_cp[\"IR\"]=y\n",
    "df_cp[\"CP\"]=x_cp"
   ]
  },
  {
   "cell_type": "code",
   "execution_count": 176,
   "metadata": {},
   "outputs": [
    {
     "data": {
      "text/plain": [
       "<matplotlib.axes._subplots.AxesSubplot at 0x12608b050>"
      ]
     },
     "execution_count": 176,
     "metadata": {},
     "output_type": "execute_result"
    },
    {
     "data": {
      "image/png": "[encoded data removed]",
      "text/plain": [
       "<Figure size 432x288 with 1 Axes>"
      ]
     },
     "metadata": {
      "needs_background": "light"
     },
     "output_type": "display_data"
    }
   ],
   "source": [
    "df_cdd.plot(kind='scatter',x='CDD',y='IR',color=\"None\", edgecolors='red')"
   ]
  },
  {
   "cell_type": "code",
   "execution_count": 177,
   "metadata": {},
   "outputs": [
    {
     "data": {
      "text/plain": [
       "<matplotlib.axes._subplots.AxesSubplot at 0x126087b90>"
      ]
     },
     "execution_count": 177,
     "metadata": {},
     "output_type": "execute_result"
    },
    {
     "data": {
      "image/png": "[encoded data removed]",
      "text/plain": [
       "<Figure size 432x288 with 1 Axes>"
      ]
     },
     "metadata": {
      "needs_background": "light"
     },
     "output_type": "display_data"
    }
   ],
   "source": [
    "df_cp.plot(kind='scatter',x='CP',y='IR',color=\"None\", edgecolors='red')"
   ]
  },
  {
   "cell_type": "code",
   "execution_count": 161,
   "metadata": {},
   "outputs": [],
   "source": [
    "# For plotting standard deviations of the variable\n",
    "df_mod=df.copy()\n",
    "for j in years:\n",
    "    for k in range(len(months)):\n",
    "        #Importing monthly temperature data\n",
    "        temp= pd.read_csv(\"/Users/sparshagarwal/Downloads/WMV_data/intersections/narr_urban_county_data_masked/\" + temperature +\"_masked/\"+ str(j) + \"_\" + months[k] + \"_masked.csv\")\n",
    "        #Importing monthly data for the variable\n",
    "        var=pd.read_csv(\"/Users/sparshagarwal/Downloads/WMV_data/intersections/narr_urban_county_data_masked/\" + variable +\"_masked/\"+ str(j) + \"_\" + months[k] + \"_masked.csv\")\n",
    "        # Only considering mean values\n",
    "        temp=temp[[\"GEOID\", \"mean\"]]\n",
    "        temp.rename(columns = {'mean':'mean_temp_' + str(j) + \"_\" + months[k]}, inplace = True)\n",
    "        var=var[[\"GEOID\", \"mean\"]]\n",
    "        var.rename(columns = {'mean':'mean_' + str(j) + \"_\" + months[k]}, inplace = True)\n",
    "        # Adding columns corresponding to all years and months\n",
    "        df_mod=df_mod.join(temp.set_index('GEOID'), on='GEOID')\n",
    "        df_mod=df_mod.join(var.set_index('GEOID'), on='GEOID')"
   ]
  },
  {
   "cell_type": "code",
   "execution_count": 162,
   "metadata": {},
   "outputs": [],
   "source": [
    "# Adding a column for incident year\n",
    "incident_year=[2015 for i in range(len(df_mod))]\n",
    "for j in range(len(df_mod)):\n",
    "    for i in years:\n",
    "        if(df_mod.iloc[j][\"NI_IR_\" + str(i)]!=0):\n",
    "            incident_year[j]=i\n",
    "            break\n",
    "df_mod[\"Incident_year\"]=incident_year"
   ]
  },
  {
   "cell_type": "code",
   "execution_count": 163,
   "metadata": {},
   "outputs": [],
   "source": [
    "x=[]        #For storing temperature/precipitation/humidity standard deviation \n",
    "y=[]        #For storing IR of WNV\n",
    "for i in years:\n",
    "    for j in range(len(df_mod)):\n",
    "        temp_list=[]    #Temporary list for storing variable values\n",
    "        # For all years after first incident year\n",
    "        if(df_mod.iloc[j][\"Incident_year\"]<i):\n",
    "            if(df_mod.iloc[j][\"NI_IR_\" + str(i)]>0):     #Removing IR=0 instances\n",
    "                for k in months:\n",
    "                    if(df_mod.iloc[j][\"mean_temp_\" + str(i) + \"_\" + k]>=a and df_mod.iloc[j][\"mean_temp_\" + str(i) + \"_\" + k]<=b):\n",
    "                        temp_list.append(df_mod.iloc[j][\"mean_\" + str(i) + \"_\" + k])\n",
    "                if(len(temp_list)>0):\n",
    "                        x.append(np.std(temp_list))\n",
    "                        y.append(df_mod.iloc[j][\"NI_IR_\" + str(i)]) "
   ]
  },
  {
   "cell_type": "code",
   "execution_count": 164,
   "metadata": {},
   "outputs": [],
   "source": [
    "df_std=pd.DataFrame()\n",
    "df_std[\"IR\"]=y\n",
    "df_std[\"Std\"]=x"
   ]
  },
  {
   "cell_type": "code",
   "execution_count": 165,
   "metadata": {
    "scrolled": true
   },
   "outputs": [
    {
     "data": {
      "text/plain": [
       "<matplotlib.axes._subplots.AxesSubplot at 0x1266a4d50>"
      ]
     },
     "execution_count": 165,
     "metadata": {},
     "output_type": "execute_result"
    },
    {
     "data": {
      "image/png": "[encoded data removed]",
      "text/plain": [
       "<Figure size 432x288 with 1 Axes>"
      ]
     },
     "metadata": {
      "needs_background": "light"
     },
     "output_type": "display_data"
    }
   ],
   "source": [
    "df_std.plot(kind='scatter',x='Std',y='IR', title= variable, color=\"None\", edgecolors='red')"
   ]
  },
  {
   "cell_type": "code",
   "execution_count": null,
   "metadata": {},
   "outputs": [],
   "source": []
  },
  {
   "cell_type": "code",
   "execution_count": null,
   "metadata": {},
   "outputs": [],
   "source": []
  },
  {
   "cell_type": "code",
   "execution_count": null,
   "metadata": {},
   "outputs": [],
   "source": []
  },
  {
   "cell_type": "code",
   "execution_count": null,
   "metadata": {},
   "outputs": [],
   "source": []
  },
  {
   "cell_type": "code",
   "execution_count": 166,
   "metadata": {},
   "outputs": [
    {
     "data": {
      "text/html": [
       "<div>\n",
       "<style scoped>\n",
       "    .dataframe tbody tr th:only-of-type {\n",
       "        vertical-align: middle;\n",
       "    }\n",
       "\n",
       "    .dataframe tbody tr th {\n",
       "        vertical-align: top;\n",
       "    }\n",
       "\n",
       "    .dataframe thead th {\n",
       "        text-align: right;\n",
       "    }\n",
       "</style>\n",
       "<table border=\"1\" class=\"dataframe\">\n",
       "  <thead>\n",
       "    <tr style=\"text-align: right;\">\n",
       "      <th></th>\n",
       "      <th>GEOID</th>\n",
       "      <th>Select_County</th>\n",
       "      <th>STATEFP10</th>\n",
       "      <th>STATENS</th>\n",
       "      <th>STUSPS</th>\n",
       "      <th>STNAME</th>\n",
       "      <th>COUNTYFP10</th>\n",
       "      <th>COUNTYNS10</th>\n",
       "      <th>CTYNAME</th>\n",
       "      <th>POPESTIMATE1999</th>\n",
       "      <th>...</th>\n",
       "      <th>mean_2015_08</th>\n",
       "      <th>mean_temp_2015_09</th>\n",
       "      <th>mean_2015_09</th>\n",
       "      <th>mean_temp_2015_10</th>\n",
       "      <th>mean_2015_10</th>\n",
       "      <th>mean_temp_2015_11</th>\n",
       "      <th>mean_2015_11</th>\n",
       "      <th>mean_temp_2015_12</th>\n",
       "      <th>mean_2015_12</th>\n",
       "      <th>Incident_year</th>\n",
       "    </tr>\n",
       "  </thead>\n",
       "  <tbody>\n",
       "  </tbody>\n",
       "</table>\n",
       "<p>0 rows × 562 columns</p>\n",
       "</div>"
      ],
      "text/plain": [
       "Empty DataFrame\n",
       "Columns: [GEOID, Select_County, STATEFP10, STATENS, STUSPS, STNAME, COUNTYFP10, COUNTYNS10, CTYNAME, POPESTIMATE1999, POPESTIMATE2000, POPESTIMATE2001, POPESTIMATE2002, POPESTIMATE2003, POPESTIMATE2004, POPESTIMATE2005, POPESTIMATE2006, POPESTIMATE2007, POPESTIMATE2008, POPESTIMATE2009, POPESTIMATE2010, POPESTIMATE2011, POPESTIMATE2012, POPESTIMATE2013, POPESTIMATE2014, POPESTIMATE2015, Note, CDC_WNV_Record, CDC_NI_Record, CDC_NNI_Record, NI_Total, Years_with_NI, NI_1999, NI_2000, NI_2001, NI_2002, NI_2003, NI_2004, NI_2005, NI_2006, NI_2007, NI_2008, NI_2009, NI_2010, NI_2011, NI_2012, NI_2013, NI_2014, NI_2015, NNI_Total, Years_with_NNI, NNI_1999, NNI_2000, NNI_2001, NNI_2002, NNI_2003, NNI_2004, NNI_2005, NNI_2006, NNI_2007, NNI_2008, NNI_2009, NNI_2010, NNI_2011, NNI_2012, NNI_2013, NNI_2014, NNI_2015, CDC_WNV_note, NI_IR_1999, NI_IR_2000, NI_IR_2001, NI_IR_2002, NI_IR_2003, NI_IR_2004, NI_IR_2005, NI_IR_2006, NI_IR_2007, NI_IR_2008, NI_IR_2009, NI_IR_2010, NI_IR_2011, NI_IR_2012, NI_IR_2013, NI_IR_2014, NI_IR_2015, MEAN_ANNUAL_IR_ESTAB, CUM_IR_1999to2015, MEAN_ANNUAL_IR_1999to2015, MEAN_ANNUAL_IR_1999to2004, MEAN_ANNUAL_IR_2005to2015, MEAN_ANNUAL_IR_2006to2015, NI_Total_2006to2015, NI_Total_2005to2015, ST_ABBREV, NAMELSAD10, POP_URBAN, POPPCT_URB, AREA_URBAN, AREAPCT_UR, ...]\n",
       "Index: []\n",
       "\n",
       "[0 rows x 562 columns]"
      ]
     },
     "execution_count": 166,
     "metadata": {},
     "output_type": "execute_result"
    }
   ],
   "source": [
    "df_mod[df_mod[\"STNAME\"]==\"California\"]"
   ]
  },
  {
   "cell_type": "code",
   "execution_count": 167,
   "metadata": {},
   "outputs": [],
   "source": [
    "#Section below is for verification of NARR data done by plotting monthly temperatures for different counties."
   ]
  },
  {
   "cell_type": "code",
   "execution_count": 168,
   "metadata": {},
   "outputs": [],
   "source": [
    "#new=df_mod[df_mod[\"CTYNAME\"]== \"Pinal County\"]"
   ]
  },
  {
   "cell_type": "code",
   "execution_count": 169,
   "metadata": {},
   "outputs": [],
   "source": [
    "#new=df_mod[df_mod[\"CTYNAME\"]== \"New York County\"]"
   ]
  },
  {
   "cell_type": "code",
   "execution_count": 170,
   "metadata": {},
   "outputs": [],
   "source": [
    "#new=df_mod[df_mod[\"CTYNAME\"]== \"Champaign County\"]"
   ]
  },
  {
   "cell_type": "code",
   "execution_count": 171,
   "metadata": {},
   "outputs": [],
   "source": [
    "county=\"Cook County\""
   ]
  },
  {
   "cell_type": "code",
   "execution_count": 172,
   "metadata": {},
   "outputs": [],
   "source": [
    "new=df_mod[df_mod[\"CTYNAME\"]== county]"
   ]
  },
  {
   "cell_type": "code",
   "execution_count": 173,
   "metadata": {},
   "outputs": [
    {
     "data": {
      "text/html": [
       "<div>\n",
       "<style scoped>\n",
       "    .dataframe tbody tr th:only-of-type {\n",
       "        vertical-align: middle;\n",
       "    }\n",
       "\n",
       "    .dataframe tbody tr th {\n",
       "        vertical-align: top;\n",
       "    }\n",
       "\n",
       "    .dataframe thead th {\n",
       "        text-align: right;\n",
       "    }\n",
       "</style>\n",
       "<table border=\"1\" class=\"dataframe\">\n",
       "  <thead>\n",
       "    <tr style=\"text-align: right;\">\n",
       "      <th></th>\n",
       "      <th>GEOID</th>\n",
       "      <th>Select_County</th>\n",
       "      <th>STATEFP10</th>\n",
       "      <th>STATENS</th>\n",
       "      <th>STUSPS</th>\n",
       "      <th>STNAME</th>\n",
       "      <th>COUNTYFP10</th>\n",
       "      <th>COUNTYNS10</th>\n",
       "      <th>CTYNAME</th>\n",
       "      <th>POPESTIMATE1999</th>\n",
       "      <th>...</th>\n",
       "      <th>mean_2015_08</th>\n",
       "      <th>mean_temp_2015_09</th>\n",
       "      <th>mean_2015_09</th>\n",
       "      <th>mean_temp_2015_10</th>\n",
       "      <th>mean_2015_10</th>\n",
       "      <th>mean_temp_2015_11</th>\n",
       "      <th>mean_2015_11</th>\n",
       "      <th>mean_temp_2015_12</th>\n",
       "      <th>mean_2015_12</th>\n",
       "      <th>Incident_year</th>\n",
       "    </tr>\n",
       "  </thead>\n",
       "  <tbody>\n",
       "    <tr>\n",
       "      <td>576</td>\n",
       "      <td>17031</td>\n",
       "      <td>1</td>\n",
       "      <td>17</td>\n",
       "      <td>1779784</td>\n",
       "      <td>IL</td>\n",
       "      <td>Illinois</td>\n",
       "      <td>31</td>\n",
       "      <td>1784766</td>\n",
       "      <td>Cook County</td>\n",
       "      <td>5365344</td>\n",
       "      <td>...</td>\n",
       "      <td>77.033035</td>\n",
       "      <td>293.483246</td>\n",
       "      <td>74.619576</td>\n",
       "      <td>285.700012</td>\n",
       "      <td>69.62619</td>\n",
       "      <td>280.398071</td>\n",
       "      <td>74.720047</td>\n",
       "      <td>277.201935</td>\n",
       "      <td>82.839401</td>\n",
       "      <td>2002</td>\n",
       "    </tr>\n",
       "  </tbody>\n",
       "</table>\n",
       "<p>1 rows × 562 columns</p>\n",
       "</div>"
      ],
      "text/plain": [
       "     GEOID  Select_County  STATEFP10  STATENS STUSPS    STNAME  COUNTYFP10  \\\n",
       "576  17031              1         17  1779784     IL  Illinois          31   \n",
       "\n",
       "     COUNTYNS10      CTYNAME POPESTIMATE1999  ...  mean_2015_08  \\\n",
       "576     1784766  Cook County         5365344  ...     77.033035   \n",
       "\n",
       "     mean_temp_2015_09  mean_2015_09  mean_temp_2015_10  mean_2015_10  \\\n",
       "576         293.483246     74.619576         285.700012      69.62619   \n",
       "\n",
       "     mean_temp_2015_11  mean_2015_11  mean_temp_2015_12  mean_2015_12  \\\n",
       "576         280.398071     74.720047         277.201935     82.839401   \n",
       "\n",
       "     Incident_year  \n",
       "576           2002  \n",
       "\n",
       "[1 rows x 562 columns]"
      ]
     },
     "execution_count": 173,
     "metadata": {},
     "output_type": "execute_result"
    }
   ],
   "source": [
    "new"
   ]
  },
  {
   "cell_type": "code",
   "execution_count": 174,
   "metadata": {},
   "outputs": [],
   "source": [
    "temp_dict={}\n",
    "\n",
    "for i in years:\n",
    "    temp=[]\n",
    "    for j in months:\n",
    "        temp.append((new.iloc[0][\"mean_temp_\" + str(i) + \"_\" + j] -273)*9/5 +32)\n",
    "    temp_dict[i]=temp\n",
    "    \n",
    "month=[]\n",
    "for j in months:\n",
    "    month.append(int(j))"
   ]
  },
  {
   "cell_type": "code",
   "execution_count": 175,
   "metadata": {},
   "outputs": [
    {
     "data": {
      "text/plain": [
       "Text(0.5, 1.0, 'Cook County')"
      ]
     },
     "execution_count": 175,
     "metadata": {},
     "output_type": "execute_result"
    },
    {
     "data": {
      "image/png": "[encoded data removed]",
      "text/plain": [
       "<Figure size 432x288 with 1 Axes>"
      ]
     },
     "metadata": {
      "needs_background": "light"
     },
     "output_type": "display_data"
    }
   ],
   "source": [
    "for i in years:\n",
    "    plt.plot(month, temp_dict[i])\n",
    "plt.xlabel(\"Month\")\n",
    "plt.ylabel(\"Temp (F)\")\n",
    "plt.title(county)"
   ]
  },
  {
   "cell_type": "code",
   "execution_count": null,
   "metadata": {},
   "outputs": [],
   "source": []
  }
 ],
 "metadata": {
  "kernelspec": {
   "display_name": "Python 3",
   "language": "python",
   "name": "python3"
  },
  "language_info": {
   "codemirror_mode": {
    "name": "ipython",
    "version": 3
   },
   "file_extension": ".py",
   "mimetype": "text/x-python",
   "name": "python",
   "nbconvert_exporter": "python",
   "pygments_lexer": "ipython3",
   "version": "3.7.4"
  }
 },
 "nbformat": 4,
 "nbformat_minor": 2
}
