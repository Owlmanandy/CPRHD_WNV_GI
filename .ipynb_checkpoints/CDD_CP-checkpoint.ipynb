{
 "cells": [
  {
   "cell_type": "code",
   "execution_count": 24,
   "metadata": {},
   "outputs": [
    {
     "data": {
      "application/javascript": [
       "\n",
       "Jupyter.keyboard_manager.command_shortcuts.add_shortcut('r', {\n",
       "    help : 'run all cells',\n",
       "    help_index : 'zz',\n",
       "    handler : function (event) {\n",
       "        IPython.notebook.execute_all_cells();\n",
       "        return false;\n",
       "    }}\n",
       ");\n"
      ],
      "text/plain": [
       "<IPython.core.display.Javascript object>"
      ]
     },
     "metadata": {},
     "output_type": "display_data"
    }
   ],
   "source": [
    "%%javascript\n",
    "\n",
    "Jupyter.keyboard_manager.command_shortcuts.add_shortcut('r', {\n",
    "    help : 'run all cells',\n",
    "    help_index : 'zz',\n",
    "    handler : function (event) {\n",
    "        IPython.notebook.execute_all_cells();\n",
    "        return false;\n",
    "    }}\n",
    ");"
   ]
  },
  {
   "cell_type": "code",
   "execution_count": 72,
   "metadata": {},
   "outputs": [],
   "source": [
    "%matplotlib inline\n",
    "import pandas as pd\n",
    "import numpy as np\n",
    "import matplotlib.pyplot as plt"
   ]
  },
  {
   "cell_type": "code",
   "execution_count": 73,
   "metadata": {},
   "outputs": [],
   "source": [
    "variable=\"air.2m.intersections\"\n",
    "#variable=\"air.sfc.intersections\"\n",
    "#variable=\"apcp.intersections\"\n",
    "#variable=\"rhum.2m.intersections\""
   ]
  },
  {
   "cell_type": "code",
   "execution_count": 74,
   "metadata": {},
   "outputs": [],
   "source": [
    "months=[\"01\", \"02\", \"03\", \"04\", \"05\", \"06\", \"07\", \"08\", \"09\", \"10\", \"11\", \"12\"]\n",
    "years=range(1999, 2016)"
   ]
  },
  {
   "cell_type": "code",
   "execution_count": 75,
   "metadata": {},
   "outputs": [],
   "source": [
    "# Importing WNV data\n",
    "df= pd.read_csv(\"/Users/sparshagarwal/Downloads/WMV_data/Arbovirus_risk_modeling_US/WNV_human_cases/WNV_NI_NNI_1999to2015_prevalence_incidence_final_20180530.csv\", encoding='latin-1')\n",
    "df=df[df[\"Select_County\"]==1]\n",
    "df.rename(columns = {'GEOID10':'GEOID'}, inplace = True)"
   ]
  },
  {
   "cell_type": "code",
   "execution_count": 76,
   "metadata": {},
   "outputs": [],
   "source": [
    "# Defining Virus tramission temperarture range(in Fahrenheit)\n",
    "a=60\n",
    "b=90"
   ]
  },
  {
   "cell_type": "code",
   "execution_count": 77,
   "metadata": {},
   "outputs": [],
   "source": [
    "# Converting Fahrenheit to Kelvin\n",
    "a=(a-32)*5/9 + 273\n",
    "b=(b-32)*5/9 + 273"
   ]
  },
  {
   "cell_type": "code",
   "execution_count": 78,
   "metadata": {},
   "outputs": [],
   "source": [
    "df_mod=df.copy()\n",
    "for j in years:\n",
    "    for k in range(len(months)):\n",
    "        #Importing monthly temperature data\n",
    "        temp= pd.read_csv(\"/Users/sparshagarwal/Downloads/WMV_data/intersections/\" + variable +\"/\"+ str(j) + \"_\" + months[k] + \".csv\")\n",
    "        #Importing monthly precipitation data\n",
    "        prec=pd.read_csv(\"/Users/sparshagarwal/Downloads/WMV_data/intersections/apcp.intersections/\"+ str(j) + \"_\" + months[k] + \".csv\")\n",
    "        # Only considering mean values\n",
    "        temp=temp[[\"GEOID\", \"mean\"]]\n",
    "        temp.rename(columns = {'mean':'mean_temp_' + str(j) + \"_\" + months[k]}, inplace = True)\n",
    "        prec=prec[[\"GEOID\", \"mean\"]]\n",
    "        prec.rename(columns = {'mean':'mean_prec_' + str(j) + \"_\" + months[k]}, inplace = True)\n",
    "        # Adding columns corresponding to all years and months\n",
    "        df_mod=df_mod.join(temp.set_index('GEOID'), on='GEOID')\n",
    "        df_mod=df_mod.join(prec.set_index('GEOID'), on='GEOID')"
   ]
  },
  {
   "cell_type": "code",
   "execution_count": 79,
   "metadata": {},
   "outputs": [],
   "source": [
    "# Adding a column for incident year\n",
    "incident_year=[2015 for i in range(len(df_mod))]\n",
    "for j in range(len(df_mod)):\n",
    "    for i in years:\n",
    "        if(df_mod.iloc[j][\"NI_IR_\" + str(i)]!=0):\n",
    "            incident_year[j]=i\n",
    "            break\n",
    "df_mod[\"Incident_year\"]=incident_year"
   ]
  },
  {
   "cell_type": "code",
   "execution_count": 99,
   "metadata": {},
   "outputs": [],
   "source": [
    "x_cdd=[]    #For storing cumulative degree days  \n",
    "x_cp=[]     #For storing cumulative precipitation\n",
    "y=[] \n",
    "for i in years:\n",
    "    #Number of days in february\n",
    "    feb=28\n",
    "    #For leap year\n",
    "    if(i%4==0):\n",
    "        feb=29\n",
    "    #Months with number of days\n",
    "    days={\"01\":31, \"02\":feb, \"03\" :31, \"04\":30, \"05\":31, \"06\":30, \"07\":31, \"08\":31, \"09\":30, \"10\":31, \"11\":30, \"12\":31}\n",
    "    for j in range(len(df_mod)):\n",
    "        cdd=0\n",
    "        cp=0\n",
    "        # For all years after first incident year\n",
    "        if(df_mod.iloc[j][\"Incident_year\"]<i):\n",
    "            for k in months:\n",
    "                if(df_mod.iloc[j][\"mean_temp_\" + str(i) + \"_\" + k]>=a and df_mod.iloc[j][\"mean_temp_\" + str(i) + \"_\" + k]<=b):\n",
    "                    cdd=cdd + days[k]\n",
    "                    cp=cp + df_mod.iloc[j][\"mean_prec_\" + str(i) + \"_\" + k]\n",
    "            x_cdd.append(cdd)\n",
    "            x_cp.append(cp)\n",
    "            y.append(df_mod.iloc[j][\"NI_IR_\" + str(i)]) "
   ]
  },
  {
   "cell_type": "code",
   "execution_count": 100,
   "metadata": {},
   "outputs": [],
   "source": [
    "df_cdd=pd.DataFrame()\n",
    "df_cp=pd.DataFrame()\n",
    "df_cdd[\"IR\"]=y\n",
    "df_cdd[\"CDD\"]=x_cdd\n",
    "df_cp[\"IR\"]=y\n",
    "df_cp[\"CP\"]=x_cp"
   ]
  },
  {
   "cell_type": "code",
   "execution_count": 101,
   "metadata": {},
   "outputs": [
    {
     "data": {
      "text/plain": [
       "<matplotlib.axes._subplots.AxesSubplot at 0x11f95aa50>"
      ]
     },
     "execution_count": 101,
     "metadata": {},
     "output_type": "execute_result"
    },
    {
     "data": {
      "image/png": "[encoded data removed]",
      "text/plain": [
       "<Figure size 432x288 with 1 Axes>"
      ]
     },
     "metadata": {
      "needs_background": "light"
     },
     "output_type": "display_data"
    }
   ],
   "source": [
    "df_cdd.plot(kind='scatter',x='CDD',y='IR',color='red')"
   ]
  },
  {
   "cell_type": "code",
   "execution_count": 102,
   "metadata": {},
   "outputs": [
    {
     "data": {
      "text/plain": [
       "<matplotlib.axes._subplots.AxesSubplot at 0x11f921350>"
      ]
     },
     "execution_count": 102,
     "metadata": {},
     "output_type": "execute_result"
    },
    {
     "data": {
      "image/png": "[encoded data removed]",
      "text/plain": [
       "<Figure size 432x288 with 1 Axes>"
      ]
     },
     "metadata": {
      "needs_background": "light"
     },
     "output_type": "display_data"
    }
   ],
   "source": [
    "df_cp.plot(kind='scatter',x='CP',y='IR',color='red')"
   ]
  },
  {
   "cell_type": "code",
   "execution_count": null,
   "metadata": {},
   "outputs": [],
   "source": []
  }
 ],
 "metadata": {
  "kernelspec": {
   "display_name": "Python 3",
   "language": "python",
   "name": "python3"
  },
  "language_info": {
   "codemirror_mode": {
    "name": "ipython",
    "version": 3
   },
   "file_extension": ".py",
   "mimetype": "text/x-python",
   "name": "python",
   "nbconvert_exporter": "python",
   "pygments_lexer": "ipython3",
   "version": "3.7.4"
  }
 },
 "nbformat": 4,
 "nbformat_minor": 2
}
