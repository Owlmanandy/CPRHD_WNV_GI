{
 "cells": [
  {
   "cell_type": "code",
   "execution_count": 99,
   "metadata": {},
   "outputs": [],
   "source": [
    "%matplotlib inline\n",
    "import pandas as pd\n",
    "import numpy as np\n",
    "import matplotlib.pyplot as plt\n",
    "from sklearn.model_selection import train_test_split\n",
    "from sklearn import metrics\n",
    "from keras.models import Sequential\n",
    "from keras.layers import Dense, BatchNormalization\n",
    "from keras.layers import LSTM\n",
    "from keras.layers import GRU\n",
    "from keras import regularizers\n",
    "import keras\n",
    "from sklearn.preprocessing import MinMaxScaler\n",
    "from sklearn.utils import shuffle\n",
    "from keras.wrappers.scikit_learn import KerasClassifier\n",
    "from sklearn.model_selection import cross_val_score\n",
    "from sklearn.model_selection import KFold\n",
    "from sklearn.metrics import r2_score\n",
    "from sklearn.metrics import mean_squared_error\n",
    "from sklearn.pipeline import Pipeline\n",
    "from sklearn.metrics import confusion_matrix\n",
    "import seaborn as sn\n",
    "import itertools  \n",
    "from sklearn.utils.class_weight import compute_class_weight\n",
    "from imblearn.over_sampling import RandomOverSampler\n",
    "from collections import Counter\n",
    "import random\n",
    "from sklearn.utils import resample\n",
    "import matplotlib.pyplot as plt"
   ]
  },
  {
   "cell_type": "code",
   "execution_count": 100,
   "metadata": {},
   "outputs": [],
   "source": [
    "#Function to print confusion matrix in a nice format.\n",
    "def print_cm(cm, labels, hide_zeroes=False, hide_diagonal=False, hide_threshold=None):\n",
    "    \"\"\"pretty print for confusion matrixes\"\"\"\n",
    "    columnwidth = max([len(x) for x in labels] + [5])  # 5 is value length\n",
    "    empty_cell = \" \" * columnwidth\n",
    "    # Print header\n",
    "    print(\"    \" + empty_cell, end=\" \")\n",
    "    for label in labels:\n",
    "        print(\"%{0}s\".format(columnwidth) % label, end=\" \")\n",
    "    print()\n",
    "    # Print rows\n",
    "    for i, label1 in enumerate(labels):\n",
    "        print(\"    %{0}s\".format(columnwidth) % label1, end=\" \")\n",
    "        for j in range(len(labels)):\n",
    "            cell = \"%{0}.1f\".format(columnwidth) % cm[i, j]\n",
    "            if hide_zeroes:\n",
    "                cell = cell if float(cm[i, j]) != 0 else empty_cell\n",
    "            if hide_diagonal:\n",
    "                cell = cell if i != j else empty_cell\n",
    "            if hide_threshold:\n",
    "                cell = cell if cm[i, j] > hide_threshold else empty_cell\n",
    "            print(cell, end=\" \")\n",
    "        print()"
   ]
  },
  {
   "cell_type": "code",
   "execution_count": 101,
   "metadata": {},
   "outputs": [],
   "source": [
    "##Specifying training data parameters.\n",
    "years=range(2000,2019)\n",
    "#years=range(2000,2010)\n",
    "num_years=5\n",
    "#Features/columns that will be used for prediction.\n",
    "#features=[\"count\",\"neighborCountyAvg\", \"Gini\", \"Temp\", \"Prec\", \"Hum\", \"County_type\", \"Incident_nominal\", Resident_population_White_alone_percent\", \"Median_Household_Income\", \"Poverty_percent_of_people\"]\n",
    "features=[\"count\",\"neighborCountyAvg\", \"Gini\", \"Temp\", \"Prec\", \"Hum\", \"County_type\",\"Incident_nominal\"]"
   ]
  },
  {
   "cell_type": "code",
   "execution_count": 102,
   "metadata": {},
   "outputs": [],
   "source": [
    "#Importing training and testing data\n",
    "train_path=\"/Users/sparshagarwal/Desktop/NCSA/Dataframes/Temporal_df.csv\"\n",
    "temporal_df=pd.read_csv(train_path)\n",
    "test_path=\"/Users/sparshagarwal/Desktop/NCSA/Dataframes/Temporal_df_test.csv\"\n",
    "temporal_df_test=pd.read_csv(test_path)"
   ]
  },
  {
   "cell_type": "code",
   "execution_count": 105,
   "metadata": {},
   "outputs": [
    {
     "data": {
      "text/html": [
       "<div>\n",
       "<style scoped>\n",
       "    .dataframe tbody tr th:only-of-type {\n",
       "        vertical-align: middle;\n",
       "    }\n",
       "\n",
       "    .dataframe tbody tr th {\n",
       "        vertical-align: top;\n",
       "    }\n",
       "\n",
       "    .dataframe thead th {\n",
       "        text-align: right;\n",
       "    }\n",
       "</style>\n",
       "<table border=\"1\" class=\"dataframe\">\n",
       "  <thead>\n",
       "    <tr style=\"text-align: right;\">\n",
       "      <th></th>\n",
       "      <th>A</th>\n",
       "      <th>B</th>\n",
       "      <th>C</th>\n",
       "      <th>D</th>\n",
       "      <th>E</th>\n",
       "      <th>F</th>\n",
       "      <th>G</th>\n",
       "      <th>H</th>\n",
       "      <th>I</th>\n",
       "      <th>J</th>\n",
       "      <th>...</th>\n",
       "      <th>6</th>\n",
       "      <th>7</th>\n",
       "      <th>8</th>\n",
       "      <th>9</th>\n",
       "      <th>10</th>\n",
       "      <th>11</th>\n",
       "      <th>12</th>\n",
       "      <th>13</th>\n",
       "      <th>14</th>\n",
       "      <th>15</th>\n",
       "    </tr>\n",
       "  </thead>\n",
       "  <tbody>\n",
       "    <tr>\n",
       "      <td>0</td>\n",
       "      <td>1</td>\n",
       "      <td>0.000000</td>\n",
       "      <td>0.544365</td>\n",
       "      <td>292.763352</td>\n",
       "      <td>3.006250</td>\n",
       "      <td>72.683919</td>\n",
       "      <td>1</td>\n",
       "      <td>1</td>\n",
       "      <td>0</td>\n",
       "      <td>0.2</td>\n",
       "      <td>...</td>\n",
       "      <td>0</td>\n",
       "      <td>0</td>\n",
       "      <td>0</td>\n",
       "      <td>0</td>\n",
       "      <td>0</td>\n",
       "      <td>0</td>\n",
       "      <td>0</td>\n",
       "      <td>0</td>\n",
       "      <td>0</td>\n",
       "      <td>0</td>\n",
       "    </tr>\n",
       "    <tr>\n",
       "      <td>1</td>\n",
       "      <td>2</td>\n",
       "      <td>0.666667</td>\n",
       "      <td>0.529595</td>\n",
       "      <td>293.719919</td>\n",
       "      <td>4.002598</td>\n",
       "      <td>78.128852</td>\n",
       "      <td>1</td>\n",
       "      <td>1</td>\n",
       "      <td>0</td>\n",
       "      <td>1.0</td>\n",
       "      <td>...</td>\n",
       "      <td>0</td>\n",
       "      <td>0</td>\n",
       "      <td>0</td>\n",
       "      <td>0</td>\n",
       "      <td>0</td>\n",
       "      <td>0</td>\n",
       "      <td>0</td>\n",
       "      <td>0</td>\n",
       "      <td>0</td>\n",
       "      <td>0</td>\n",
       "    </tr>\n",
       "    <tr>\n",
       "      <td>2</td>\n",
       "      <td>0</td>\n",
       "      <td>0.000000</td>\n",
       "      <td>0.510778</td>\n",
       "      <td>293.550745</td>\n",
       "      <td>2.879374</td>\n",
       "      <td>72.633073</td>\n",
       "      <td>0</td>\n",
       "      <td>1</td>\n",
       "      <td>0</td>\n",
       "      <td>0.0</td>\n",
       "      <td>...</td>\n",
       "      <td>0</td>\n",
       "      <td>0</td>\n",
       "      <td>0</td>\n",
       "      <td>0</td>\n",
       "      <td>0</td>\n",
       "      <td>0</td>\n",
       "      <td>0</td>\n",
       "      <td>0</td>\n",
       "      <td>0</td>\n",
       "      <td>0</td>\n",
       "    </tr>\n",
       "    <tr>\n",
       "      <td>3</td>\n",
       "      <td>0</td>\n",
       "      <td>0.500000</td>\n",
       "      <td>0.541940</td>\n",
       "      <td>292.541822</td>\n",
       "      <td>2.947005</td>\n",
       "      <td>73.039254</td>\n",
       "      <td>0</td>\n",
       "      <td>1</td>\n",
       "      <td>1</td>\n",
       "      <td>0.0</td>\n",
       "      <td>...</td>\n",
       "      <td>0</td>\n",
       "      <td>0</td>\n",
       "      <td>0</td>\n",
       "      <td>0</td>\n",
       "      <td>0</td>\n",
       "      <td>0</td>\n",
       "      <td>0</td>\n",
       "      <td>0</td>\n",
       "      <td>0</td>\n",
       "      <td>0</td>\n",
       "    </tr>\n",
       "    <tr>\n",
       "      <td>4</td>\n",
       "      <td>0</td>\n",
       "      <td>0.333333</td>\n",
       "      <td>0.555216</td>\n",
       "      <td>291.308402</td>\n",
       "      <td>2.702201</td>\n",
       "      <td>70.986648</td>\n",
       "      <td>0</td>\n",
       "      <td>0</td>\n",
       "      <td>0</td>\n",
       "      <td>0.0</td>\n",
       "      <td>...</td>\n",
       "      <td>0</td>\n",
       "      <td>0</td>\n",
       "      <td>0</td>\n",
       "      <td>0</td>\n",
       "      <td>0</td>\n",
       "      <td>0</td>\n",
       "      <td>0</td>\n",
       "      <td>0</td>\n",
       "      <td>0</td>\n",
       "      <td>0</td>\n",
       "    </tr>\n",
       "  </tbody>\n",
       "</table>\n",
       "<p>5 rows × 55 columns</p>\n",
       "</div>"
      ],
      "text/plain": [
       "   A         B         C           D         E          F  G  H  I    J  ...  \\\n",
       "0  1  0.000000  0.544365  292.763352  3.006250  72.683919  1  1  0  0.2  ...   \n",
       "1  2  0.666667  0.529595  293.719919  4.002598  78.128852  1  1  0  1.0  ...   \n",
       "2  0  0.000000  0.510778  293.550745  2.879374  72.633073  0  1  0  0.0  ...   \n",
       "3  0  0.500000  0.541940  292.541822  2.947005  73.039254  0  1  1  0.0  ...   \n",
       "4  0  0.333333  0.555216  291.308402  2.702201  70.986648  0  0  0  0.0  ...   \n",
       "\n",
       "   6  7  8  9  10  11  12  13  14  15  \n",
       "0  0  0  0  0   0   0   0   0   0   0  \n",
       "1  0  0  0  0   0   0   0   0   0   0  \n",
       "2  0  0  0  0   0   0   0   0   0   0  \n",
       "3  0  0  0  0   0   0   0   0   0   0  \n",
       "4  0  0  0  0   0   0   0   0   0   0  \n",
       "\n",
       "[5 rows x 55 columns]"
      ]
     },
     "execution_count": 105,
     "metadata": {},
     "output_type": "execute_result"
    }
   ],
   "source": [
    "temporal_df.head()"
   ]
  },
  {
   "cell_type": "code",
   "execution_count": 6,
   "metadata": {},
   "outputs": [
    {
     "data": {
      "text/plain": [
       "{1: 42920,\n",
       " 2: 5986,\n",
       " 3: 405,\n",
       " 4: 121,\n",
       " 5: 53,\n",
       " 6: 41,\n",
       " 7: 20,\n",
       " 8: 11,\n",
       " 9: 7,\n",
       " 10: 6,\n",
       " 11: 9,\n",
       " 12: 22,\n",
       " 13: 9,\n",
       " 14: 4,\n",
       " 15: 2}"
      ]
     },
     "execution_count": 6,
     "metadata": {},
     "output_type": "execute_result"
    }
   ],
   "source": [
    "#Checking frequency of instances for each class\n",
    "dict_freq={}\n",
    "for i in range(1,16):\n",
    "    dict_freq[i]=len(temporal_df[temporal_df[str(i)]==1])\n",
    "dict_freq"
   ]
  },
  {
   "cell_type": "code",
   "execution_count": 7,
   "metadata": {},
   "outputs": [],
   "source": [
    "#Oversampling to balance the classes\n",
    "num_cl=len(temporal_df[temporal_df[\"1\"]==1])\n",
    "df_balanced=temporal_df[temporal_df[\"1\"]==1]\n",
    "for i in range(2,16):\n",
    "    df_temp=temporal_df[temporal_df[str(i)]==1]\n",
    "    if(len(df_temp)>0):\n",
    "        df_minority_upsampled = resample(df_temp, replace=True, n_samples=num_cl, random_state=4)\n",
    "        df_balanced=pd.concat([df_balanced, df_minority_upsampled])\n",
    "df_balanced = df_balanced.sample(frac = 1, random_state=4)   #Shuffling the data\n",
    "X_pre = df_balanced.iloc[:, 0:(num_years*len(features))]\n",
    "Y_pre = df_balanced.iloc[:, (num_years*len(features)):]"
   ]
  },
  {
   "cell_type": "code",
   "execution_count": 8,
   "metadata": {},
   "outputs": [],
   "source": [
    "# #Using unbalanced data\n",
    "# temporal_df = temporal_df.sample(frac = 1) #Shuffling the data\n",
    "# X_pre = temporal_df.iloc[:, 0:(num_years*len(features))]\n",
    "# Y_pre = temporal_df.iloc[:, (num_years*len(features)):]"
   ]
  },
  {
   "cell_type": "code",
   "execution_count": 9,
   "metadata": {},
   "outputs": [],
   "source": [
    "X=X_pre.values\n",
    "Y=Y_pre.values"
   ]
  },
  {
   "cell_type": "code",
   "execution_count": 10,
   "metadata": {},
   "outputs": [],
   "source": [
    "# #Balancing the data w.r.t. class labels\n",
    "# ros = RandomOverSampler()\n",
    "# X, Y = ros.fit_resample(X_pre.values,Y_pre.values)"
   ]
  },
  {
   "cell_type": "code",
   "execution_count": 11,
   "metadata": {},
   "outputs": [
    {
     "data": {
      "text/plain": [
       "array([42920, 42920, 42920, 42920, 42920, 42920, 42920, 42920, 42920,\n",
       "       42920, 42920, 42920, 42920, 42920, 42920])"
      ]
     },
     "execution_count": 11,
     "metadata": {},
     "output_type": "execute_result"
    }
   ],
   "source": [
    "#Shows all the class labels are now equally represented\n",
    "y=np.argmax(Y, axis=1)\n",
    "np.bincount(y)"
   ]
  },
  {
   "cell_type": "code",
   "execution_count": 12,
   "metadata": {},
   "outputs": [],
   "source": [
    "# # Calculating classs weights based on their frequencies\n",
    "# y=np.argmax(temporal_df.iloc[:,-15:].values, axis=1)\n",
    "# class_weights=compute_class_weight(\"balanced\", [i for i in range(15)], y)"
   ]
  },
  {
   "cell_type": "markdown",
   "metadata": {},
   "source": [
    "## LSTM Implementation for classification"
   ]
  },
  {
   "cell_type": "code",
   "execution_count": 13,
   "metadata": {},
   "outputs": [],
   "source": [
    "def create_network():\n",
    "    network = Sequential()\n",
    "    network.add(BatchNormalization(input_shape=(num_years, len(features))))\n",
    "    network.add(Dense(4, activation=\"tanh\"))\n",
    "    network.add(LSTM(15,  , activation=\"tanh\"))\n",
    "    network.add(Dense(15, activation=\"softmax\"))\n",
    "    network.compile(loss='categorical_crossentropy', optimizer='adam', metrics=['accuracy'])\n",
    "    \n",
    "    return network"
   ]
  },
  {
   "cell_type": "code",
   "execution_count": 675,
   "metadata": {},
   "outputs": [],
   "source": [
    "# #Cross-validation setup\n",
    "# acc_train=[]\n",
    "# acc_val=[]\n",
    "# kf = KFold(n_splits=5, shuffle=True)\n",
    "# for train_index, val_index in kf.split(X):   \n",
    "#     X_train=X[train_index]\n",
    "#     Y_train=Y[train_index]\n",
    "#     X_val=X[val_index]\n",
    "#     Y_val=Y[val_index]\n",
    "    \n",
    "#     #Transforming input variables into LSTM input format\n",
    "#     X_train = X_train.reshape(X_train.shape[0], num_years, len(features))\n",
    "#     X_val = X_val.reshape(X_val.shape[0], num_years, len(features))\n",
    "#     Y_train=Y_train\n",
    "#     Y_val=Y_val\n",
    "    \n",
    "#     #Creating model\n",
    "#     model=create_network()\n",
    "#     Hist=model.fit(X_train, Y_train, epochs=10, validation_data=(X_val, Y_val), verbose=2, class_weight=None)\n",
    "    \n",
    "#     #Final epoch accuracies for training and validation dataset\n",
    "#     acc_train.append(Hist.history[\"accuracy\"][-1])\n",
    "#     acc_val.append(Hist.history[\"val_accuracy\"][-1])\n",
    "    \n",
    "# print(\"Training accuracy:\" + str(np.mean(acc_train)))\n",
    "# print(\"Validation accuracy:\" + str(np.mean(acc_val)))\n",
    "    "
   ]
  },
  {
   "cell_type": "code",
   "execution_count": 14,
   "metadata": {},
   "outputs": [],
   "source": [
    "# Dataset while using test_train split for final prediction\n",
    "\n",
    "#Transforming input variables into LSTM input format\n",
    "\n",
    "X_train, X_val, Y_train, Y_val = train_test_split(X, Y, test_size=0.20 , random_state=4)\n",
    "\n",
    "X_train = X_train.reshape(X_train.shape[0], num_years, len(features))\n",
    "X_val = X_val.reshape(X_val.shape[0], num_years, len(features))\n",
    "Y_train=Y_train\n",
    "Y_val=Y_val\n",
    "\n",
    "X_test=temporal_df_test.iloc[:, 0:(num_years*len(features))]\n",
    "X_test = X_test.values.reshape(X_test.shape[0], num_years, len(features))"
   ]
  },
  {
   "cell_type": "code",
   "execution_count": 15,
   "metadata": {},
   "outputs": [],
   "source": [
    "model=create_network()"
   ]
  },
  {
   "cell_type": "code",
   "execution_count": 16,
   "metadata": {},
   "outputs": [
    {
     "name": "stderr",
     "output_type": "stream",
     "text": [
      "/Library/Frameworks/Python.framework/Versions/3.7/lib/python3.7/site-packages/ipykernel_launcher.py:1: UserWarning: The `nb_epoch` argument in `fit` has been renamed `epochs`.\n",
      "  \"\"\"Entry point for launching an IPython kernel.\n"
     ]
    },
    {
     "name": "stdout",
     "output_type": "stream",
     "text": [
      "Train on 515040 samples, validate on 128760 samples\n",
      "Epoch 1/1\n",
      " - 37s - loss: 1.9580 - accuracy: 0.3312 - val_loss: 1.4544 - val_accuracy: 0.5554\n"
     ]
    }
   ],
   "source": [
    "Hist=model.fit(X_train, Y_train, nb_epoch=1, validation_data=(X_val, Y_val), verbose=2, class_weight=None)"
   ]
  },
  {
   "cell_type": "code",
   "execution_count": null,
   "metadata": {},
   "outputs": [],
   "source": [
    "# Plot training & validation accuracy values\n",
    "plt.plot(Hist.history['accuracy'])\n",
    "plt.plot(Hist.history['val_accuracy'])\n",
    "plt.title('Model accuracy')\n",
    "plt.ylabel('Accuracy')\n",
    "plt.xlabel('Epoch')\n",
    "plt.legend(['Train', 'Test'], loc='upper left')\n",
    "plt.show()\n",
    "\n",
    "# Plot training & validation loss values\n",
    "plt.plot(Hist.history['loss'])\n",
    "plt.plot(Hist.history['val_loss'])\n",
    "plt.title('Model loss')\n",
    "plt.ylabel('Loss')\n",
    "plt.xlabel('Epoch')\n",
    "plt.legend(['Train', 'Test'], loc='upper left')\n",
    "plt.show()"
   ]
  },
  {
   "cell_type": "code",
   "execution_count": null,
   "metadata": {},
   "outputs": [],
   "source": [
    "# #Using unbalanced data\n",
    "# temporal_df = temporal_df.sample(frac = 1) #Shuffling the data\n",
    "# X_pre = temporal_df.iloc[:, 0:(num_years*len(features))]\n",
    "# Y_pre = temporal_df.iloc[:, (num_years*len(features)):]\n",
    "# X=X_pre.values\n",
    "# Y=Y_pre.values\n",
    "# X_train, X_val, Y_train, Y_val = train_test_split(X, Y, test_size=0.20)\n",
    "\n",
    "# X_train = X_train.reshape(X_train.shape[0], num_years, len(features))\n",
    "# X_val = X_val.reshape(X_val.shape[0], num_years, len(features))\n",
    "# Y_train=Y_train\n",
    "# Y_val=Y_val"
   ]
  },
  {
   "cell_type": "code",
   "execution_count": 17,
   "metadata": {},
   "outputs": [],
   "source": [
    "#Predicting value for train, val, and test datasets\n",
    "pred_train=model.predict(X_train)\n",
    "pred_val=model.predict(X_val)\n",
    "#pred_test=model.predict(X_test)"
   ]
  },
  {
   "cell_type": "code",
   "execution_count": 92,
   "metadata": {},
   "outputs": [],
   "source": [
    "# #Using stochastic random number generation method for assigning class labels\n",
    "# pred_train_class=[]\n",
    "# for i in range(pred_train.shape[0]):\n",
    "#     t=list(pred_train[i])\n",
    "#     idx=np.argsort(t)+1\n",
    "#     t.sort()\n",
    "#     t=np.cumsum(t)\n",
    "#     rand_num=random.uniform(0, 1)\n",
    "#     index=0\n",
    "#     for j in range(len(t)):\n",
    "#         if(t[j]>=rand_num):\n",
    "#             index=j\n",
    "#             break\n",
    "#     label=idx[index]\n",
    "#     pred_train_class.append(label)\n",
    "    \n",
    "# pred_val_class=[]\n",
    "# for i in range(pred_val.shape[0]):\n",
    "#     t=list(pred_val[i])\n",
    "#     idx=np.argsort(t)+1\n",
    "#     t.sort()\n",
    "#     t=np.cumsum(t)\n",
    "#     rand_num=random.uniform(0, 1)\n",
    "#     index=0\n",
    "#     for j in range(len(t)):\n",
    "#         if(t[j]>=rand_num):\n",
    "#             index=j\n",
    "#             break\n",
    "#     label=idx[index]\n",
    "#     pred_val_class.append(label)\n",
    "# pred_train_class=list(map(lambda x: str(x), pred_train_class))\n",
    "# pred_val_class=list(map(lambda x: str(x), pred_val_class))"
   ]
  },
  {
   "cell_type": "code",
   "execution_count": 80,
   "metadata": {},
   "outputs": [],
   "source": [
    "# #Converting probabilities to class labels by choosing class with highest probability\n",
    "# pred_train_class=np.argmax(pred_train, axis=1)+1\n",
    "# pred_train_class=list(map(lambda x: str(x), pred_train_class))\n",
    "# pred_val_class=np.argmax(pred_val, axis=1)+1\n",
    "# pred_val_class=list(map(lambda x: str(x), pred_val_class))\n",
    "# #pred_test_class=np.argmax(pred_test, axis=1)+1"
   ]
  },
  {
   "cell_type": "code",
   "execution_count": 87,
   "metadata": {},
   "outputs": [],
   "source": [
    "true_train_class=np.argmax(Y_train, axis=1)+1\n",
    "true_train_class=list(map(lambda x: str(x), true_train_class))\n",
    "true_val_class=np.argmax(Y_val, axis=1)+1\n",
    "true_val_class=list(map(lambda x: str(x), true_val_class))"
   ]
  },
  {
   "cell_type": "code",
   "execution_count": 88,
   "metadata": {},
   "outputs": [],
   "source": [
    "labels = [str(i) for i in range(1,16)]\n",
    "cm_train = confusion_matrix(true_train_class, pred_train_class , labels)\n",
    "#cm_train=cm_train.astype('float') / cm_train.sum(axis=1)[:, np.newaxis] #For normalizing\n",
    "cm_val = confusion_matrix(true_val_class, pred_val_class , labels)\n",
    "#cm_val=cm_val.astype('float') / cm_val.sum(axis=1)[:, np.newaxis] #For normalizing"
   ]
  },
  {
   "cell_type": "code",
   "execution_count": 89,
   "metadata": {},
   "outputs": [
    {
     "name": "stdout",
     "output_type": "stream",
     "text": [
      "              1     2     3     4     5     6     7     8     9    10    11    12    13    14    15 \n",
      "        1 13570.0 10591.0 3273.0 1820.0 1175.0 1389.0 362.0 288.0 801.0 353.0 222.0 252.0 132.0 120.0  43.0 \n",
      "        2 9277.0 8593.0 4212.0 2906.0 2097.0 1797.0 891.0 810.0 1362.0 506.0 485.0 616.0 468.0 323.0  31.0 \n",
      "        3 3498.0 4486.0 4706.0 4205.0 3455.0 2624.0 1960.0 1585.0 2173.0 1066.0 1372.0 1334.0 1192.0 663.0  24.0 \n",
      "        4 2026.0 3213.0 4099.0 4381.0 3307.0 2809.0 2279.0 2128.0 2794.0 1041.0 2125.0 1787.0 1767.0 625.0  11.0 \n",
      "        5 1528.0 2767.0 4179.0 4062.0 3773.0 2750.0 2629.0 1662.0 2476.0 1609.0 2633.0 1844.0 1466.0 903.0  10.0 \n",
      "        6 1738.0 2302.0 2821.0 3239.0 2663.0 4416.0 2686.0 1868.0 2952.0 1117.0 2616.0 3037.0 1664.0 1115.0  85.0 \n",
      "        7 365.0 956.0 2287.0 2900.0 2716.0 3004.0 6607.0 1255.0 1004.0 1832.0 3303.0 2296.0 4665.0 979.0 265.0 \n",
      "        8 367.0 915.0 1507.0 2196.0 1604.0 2255.0 1082.0 8105.0 5237.0 1667.0 1789.0 2621.0 551.0 1632.0 2784.0 \n",
      "        9 809.0 1274.0 2002.0 2331.0 1946.0 1690.0 751.0 3232.0 12412.0 2534.0 1343.0 2526.0 277.0 1144.0  12.0 \n",
      "       10 403.0 538.0 1026.0 1249.0 1341.0 1146.0 902.0 1064.0 4220.0 19407.0 1351.0 1428.0 154.0  49.0 103.0 \n",
      "       11 179.0 421.0 1249.0 2097.0 2059.0 2363.0 2860.0 1062.0 1870.0 1328.0 13317.0 3227.0 2079.0 157.0  14.0 \n",
      "       12 328.0 746.0 1632.0 2107.0 2008.0 3490.0 2575.0 2644.0 3139.0 1704.0 4353.0 6211.0 1857.0 1394.0 132.0 \n",
      "       13 137.0 306.0 921.0 1387.0 1364.0 1738.0 4111.0 471.0 332.0 291.0 2486.0 1329.0 15665.0 3198.0 604.0 \n",
      "       14  59.0 176.0 435.0 455.0 666.0 490.0 1049.0 1088.0 962.0 134.0 328.0 1553.0 1715.0 25070.0   2.0 \n",
      "       15  16.0  14.0   5.0  22.0   4.0 103.0  66.0 1306.0  90.0  92.0  17.0 118.0 650.0  11.0 31882.0 \n"
     ]
    }
   ],
   "source": [
    "print_cm(cm_train, labels)"
   ]
  },
  {
   "cell_type": "code",
   "execution_count": 90,
   "metadata": {},
   "outputs": [
    {
     "name": "stdout",
     "output_type": "stream",
     "text": [
      "              1     2     3     4     5     6     7     8     9    10    11    12    13    14    15 \n",
      "        1 3259.0 2695.0 814.0 449.0 292.0 352.0 109.0  67.0 214.0  69.0  55.0  70.0  42.0  33.0   9.0 \n",
      "        2 2261.0 2106.0 1093.0 717.0 549.0 460.0 199.0 210.0 321.0 124.0 121.0 169.0 123.0  80.0  13.0 \n",
      "        3 881.0 1135.0 1166.0 1071.0 871.0 637.0 493.0 369.0 546.0 248.0 374.0 356.0 271.0 153.0   6.0 \n",
      "        4 519.0 781.0 1003.0 1012.0 839.0 738.0 523.0 487.0 708.0 259.0 578.0 432.0 495.0 150.0   4.0 \n",
      "        5 388.0 731.0 1029.0 1051.0 945.0 615.0 657.0 442.0 594.0 435.0 694.0 428.0 383.0 234.0   3.0 \n",
      "        6 427.0 594.0 657.0 824.0 659.0 1084.0 676.0 468.0 773.0 256.0 680.0 779.0 420.0 284.0  20.0 \n",
      "        7  94.0 225.0 552.0 677.0 702.0 761.0 1582.0 301.0 249.0 454.0 839.0 555.0 1185.0 240.0  70.0 \n",
      "        8  85.0 222.0 426.0 515.0 357.0 558.0 258.0 2087.0 1326.0 434.0 417.0 677.0 148.0 417.0 681.0 \n",
      "        9 191.0 280.0 482.0 641.0 482.0 444.0 203.0 842.0 3078.0 613.0 350.0 672.0  86.0 269.0   4.0 \n",
      "       10  92.0 119.0 244.0 310.0 370.0 295.0 214.0 257.0 1115.0 4750.0 320.0 370.0  43.0  24.0  16.0 \n",
      "       11  49.0 114.0 334.0 551.0 543.0 578.0 757.0 279.0 456.0 358.0 3255.0 802.0 516.0  43.0   3.0 \n",
      "       12  79.0 192.0 397.0 529.0 528.0 832.0 637.0 660.0 812.0 400.0 1117.0 1600.0 482.0 305.0  30.0 \n",
      "       13  31.0  83.0 247.0 382.0 336.0 409.0 1054.0 127.0  82.0  66.0 638.0 329.0 3855.0 781.0 160.0 \n",
      "       14  24.0  51.0 115.0 108.0 194.0 121.0 238.0 308.0 268.0  26.0  83.0 354.0 447.0 6401.0   0.0 \n",
      "       15   6.0   2.0   0.0   7.0   2.0  30.0  12.0 316.0  27.0  19.0   1.0  26.0 173.0   1.0 7902.0 \n"
     ]
    }
   ],
   "source": [
    "print_cm(cm_val, labels)"
   ]
  },
  {
   "cell_type": "code",
   "execution_count": 91,
   "metadata": {},
   "outputs": [
    {
     "name": "stdout",
     "output_type": "stream",
     "text": [
      "              precision    recall  f1-score   support\n",
      "\n",
      "           1       0.39      0.38      0.39      8529\n",
      "          10       0.56      0.56      0.56      8539\n",
      "          11       0.34      0.38      0.36      8638\n",
      "          12       0.21      0.19      0.20      8600\n",
      "          13       0.44      0.45      0.45      8580\n",
      "          14       0.68      0.73      0.71      8738\n",
      "          15       0.89      0.93      0.91      8524\n",
      "           2       0.23      0.25      0.24      8546\n",
      "           3       0.14      0.14      0.14      8577\n",
      "           4       0.11      0.12      0.12      8528\n",
      "           5       0.12      0.11      0.12      8629\n",
      "           6       0.14      0.13      0.13      8601\n",
      "           7       0.21      0.19      0.20      8486\n",
      "           8       0.29      0.24      0.26      8608\n",
      "           9       0.29      0.36      0.32      8637\n",
      "\n",
      "    accuracy                           0.34    128760\n",
      "   macro avg       0.34      0.34      0.34    128760\n",
      "weighted avg       0.34      0.34      0.34    128760\n",
      "\n"
     ]
    }
   ],
   "source": [
    "#Evaluation metrics for valdation dataset\n",
    "print(metrics.classification_report(true_val_class, pred_val_class))"
   ]
  },
  {
   "cell_type": "code",
   "execution_count": null,
   "metadata": {},
   "outputs": [],
   "source": []
  },
  {
   "cell_type": "code",
   "execution_count": null,
   "metadata": {},
   "outputs": [],
   "source": []
  },
  {
   "cell_type": "code",
   "execution_count": 681,
   "metadata": {},
   "outputs": [],
   "source": [
    "x=[i for i in range(2,16)]\n",
    "y_val=[0.7236,0.7808,0.7808,0.8081,0.8259,0.8250,0.8511,0.8524,0.8562,0.8639,0.8854,0.8798,0.8858,0.9000]\n",
    "y_train=[0.5571,0.6304,0.6531,0.6910,0.7186,0.7385,0.7547,0.7604,0.7639,0.7579,0.7969,0.8145,0.8322,0.8510]"
   ]
  },
  {
   "cell_type": "code",
   "execution_count": 682,
   "metadata": {},
   "outputs": [
    {
     "data": {
      "text/plain": [
       "[<matplotlib.lines.Line2D at 0x1dbbcf2d0>]"
      ]
     },
     "execution_count": 682,
     "metadata": {},
     "output_type": "execute_result"
    },
    {
     "data": {
      "image/png": "[encoded data removed]",
      "text/plain": [
       "<Figure size 432x288 with 1 Axes>"
      ]
     },
     "metadata": {
      "needs_background": "light"
     },
     "output_type": "display_data"
    }
   ],
   "source": [
    "plt.plot(x,y_val)"
   ]
  },
  {
   "cell_type": "code",
   "execution_count": 683,
   "metadata": {},
   "outputs": [
    {
     "data": {
      "text/plain": [
       "[<matplotlib.lines.Line2D at 0x1deec2450>]"
      ]
     },
     "execution_count": 683,
     "metadata": {},
     "output_type": "execute_result"
    },
    {
     "data": {
      "image/png": "[encoded data removed]",
      "text/plain": [
       "<Figure size 432x288 with 1 Axes>"
      ]
     },
     "metadata": {
      "needs_background": "light"
     },
     "output_type": "display_data"
    }
   ],
   "source": [
    "plt.plot(x,y_train)"
   ]
  },
  {
   "cell_type": "code",
   "execution_count": null,
   "metadata": {},
   "outputs": [],
   "source": []
  },
  {
   "cell_type": "code",
   "execution_count": 96,
   "metadata": {},
   "outputs": [],
   "source": [
    "x=[i for i in range(2,16)]\n",
    "y_val=[0.6549698948860169,0.6532516360282898,0.690053653717041,0.7286988496780396,0.71748286485672,0.7268608570098877,0.6996452689170838,0.7109903573989869,0.7142420411109924,0.7197230458259583,0.701438021659851,0.7044179081916809,0.7373445868492127,0.7275037169456482]\n",
    "y_train=[0.5544182,0.65142787,0.6700228,0.69354755,0.7186462,0.7457652,0.7561568,0.76097435,0.7544968,0.7527244,0.7990016,0.8088559,0.8138507,0.8184859]"
   ]
  },
  {
   "cell_type": "code",
   "execution_count": 97,
   "metadata": {},
   "outputs": [
    {
     "data": {
      "text/plain": [
       "[<matplotlib.lines.Line2D at 0x15461aa90>]"
      ]
     },
     "execution_count": 97,
     "metadata": {},
     "output_type": "execute_result"
    },
    {
     "data": {
      "image/png": "[encoded data removed]",
      "text/plain": [
       "<Figure size 432x288 with 1 Axes>"
      ]
     },
     "metadata": {
      "needs_background": "light"
     },
     "output_type": "display_data"
    }
   ],
   "source": [
    "plt.plot(x,y_val)"
   ]
  },
  {
   "cell_type": "code",
   "execution_count": 98,
   "metadata": {},
   "outputs": [
    {
     "data": {
      "text/plain": [
       "[<matplotlib.lines.Line2D at 0x156b91d90>]"
      ]
     },
     "execution_count": 98,
     "metadata": {},
     "output_type": "execute_result"
    },
    {
     "data": {
      "image/png": "[encoded data removed]",
      "text/plain": [
       "<Figure size 432x288 with 1 Axes>"
      ]
     },
     "metadata": {
      "needs_background": "light"
     },
     "output_type": "display_data"
    }
   ],
   "source": [
    "plt.plot(x,y_train)"
   ]
  },
  {
   "cell_type": "code",
   "execution_count": null,
   "metadata": {},
   "outputs": [],
   "source": []
  },
  {
   "cell_type": "code",
   "execution_count": null,
   "metadata": {},
   "outputs": [],
   "source": []
  }
 ],
 "metadata": {
  "kernelspec": {
   "display_name": "Python 3",
   "language": "python",
   "name": "python3"
  },
  "language_info": {
   "codemirror_mode": {
    "name": "ipython",
    "version": 3
   },
   "file_extension": ".py",
   "mimetype": "text/x-python",
   "name": "python",
   "nbconvert_exporter": "python",
   "pygments_lexer": "ipython3",
   "version": "3.7.4"
  }
 },
 "nbformat": 4,
 "nbformat_minor": 2
}
