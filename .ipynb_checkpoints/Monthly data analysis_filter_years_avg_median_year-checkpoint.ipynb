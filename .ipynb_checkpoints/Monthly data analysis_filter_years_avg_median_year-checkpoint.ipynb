{
 "cells": [
  {
   "cell_type": "code",
   "execution_count": 9,
   "metadata": {},
   "outputs": [
    {
     "data": {
      "application/javascript": [
       "\n",
       "Jupyter.keyboard_manager.command_shortcuts.add_shortcut('r', {\n",
       "    help : 'run all cells',\n",
       "    help_index : 'zz',\n",
       "    handler : function (event) {\n",
       "        IPython.notebook.execute_all_cells();\n",
       "        return false;\n",
       "    }}\n",
       ");\n"
      ],
      "text/plain": [
       "<IPython.core.display.Javascript object>"
      ]
     },
     "metadata": {},
     "output_type": "display_data"
    }
   ],
   "source": [
    "%%javascript\n",
    "\n",
    "Jupyter.keyboard_manager.command_shortcuts.add_shortcut('r', {\n",
    "    help : 'run all cells',\n",
    "    help_index : 'zz',\n",
    "    handler : function (event) {\n",
    "        IPython.notebook.execute_all_cells();\n",
    "        return false;\n",
    "    }}\n",
    ");"
   ]
  },
  {
   "cell_type": "code",
   "execution_count": 10,
   "metadata": {},
   "outputs": [],
   "source": [
    "%matplotlib inline\n",
    "import pandas as pd\n",
    "import numpy as np\n",
    "import matplotlib.pyplot as plt\n",
    "#from loess.Loess import Loess\n",
    "from sklearn.neighbors.kde import KernelDensity\n",
    "import statsmodels.api as sm\n",
    "import seaborn as sns\n",
    "import loess\n",
    "import random"
   ]
  },
  {
   "cell_type": "code",
   "execution_count": 11,
   "metadata": {},
   "outputs": [],
   "source": [
    "# Defining Virus tramission temperarture range(in Fahrenheit)\n",
    "a=60\n",
    "b=95\n",
    "# Converting Fahrenheit to Kelvin\n",
    "a=(a-32)*5/9 + 273\n",
    "b=(b-32)*5/9 + 273"
   ]
  },
  {
   "cell_type": "code",
   "execution_count": 12,
   "metadata": {},
   "outputs": [],
   "source": [
    "wnv_file_path= \"/Users/sparshagarwal/Downloads/WMV_data/Arbovirus_risk_modeling_US/WNV_human_cases/WNV_NI_NNI_1999to2015_prevalence_incidence_final_20180530.csv\"\n",
    "weather_data_path=\"/Users/sparshagarwal/Downloads/WMV_data/intersections/narr_urban_county_data_masked/\""
   ]
  },
  {
   "cell_type": "code",
   "execution_count": 13,
   "metadata": {},
   "outputs": [],
   "source": [
    "variable=\"air.2m_masked\"\n",
    "#variable=\"air.sfc_masked\"\n",
    "#variable=\"apcp_masked\"\n",
    "#variable=\"rhum.2m_masked\""
   ]
  },
  {
   "cell_type": "code",
   "execution_count": 14,
   "metadata": {},
   "outputs": [],
   "source": [
    "variables= [\"air.2m\", \"air.sfc\", \"apcp\", \"rhum.2m\"]"
   ]
  },
  {
   "cell_type": "code",
   "execution_count": 15,
   "metadata": {},
   "outputs": [],
   "source": [
    "months=[\"01\", \"02\", \"03\", \"04\", \"05\", \"06\", \"07\", \"08\", \"09\", \"10\", \"11\", \"12\"]\n",
    "years=range(1999, 2016)\n",
    "summer_mon=[\"05\", \"06\", \"07\", \"08\", \"09\"]   #Summer months for WNV transmission\n",
    "months_desc={\"01\": \"Jan\", \"02\": \"Feb\", \"03\": \"Mar\", \"04\": \"Apr\", \"05\": \"May\", \"06\": \"Jun\", \"07\" :\"Jul\", \"08\": \"Aug\", \"09\": \"Sep\", \"10\": \"Oct\", \"11\" : \"Nov\", \"12\" : \"Dec\" }"
   ]
  },
  {
   "cell_type": "code",
   "execution_count": 16,
   "metadata": {},
   "outputs": [],
   "source": [
    "# Defining socio-economic zones/regions\n",
    "socio_regions={\"WA\":1, \"OR\":1, \"CA\":1, \"MT\":2, \"ID\":2, \"WY\":2, \"NV\":2, \"UT\":2, \"CO\":2, \"AZ\":2, \"NM\":2,\"ND\":3, \"SD\":3, \"MN\":3, \"NE\":3, \"IA\":3,\"KS\":3, \"MO\":3, \"OK\":4 , \"TX\":4, \"AR\":4, \"LA\":4, \"WI\":5, \"MI\":5, \"IL\":5, \"IN\":5, \"OH\":5, \"KY\":6, \"TN\":6, \"AL\":6, \"MS\":6, \"WV\":7, \"VA\":7, \"NC\":7, \"SC\":7, \"DC\":7, \"MD\":7, \"DE\":7, \"GA\":7, \"FL\":7, \"PA\":8, \"NJ\":8, \"NY\":8, \"MA\":9, \"CT\":9, \"NH\":9, \"VT\":9, \"ME\":9, \"RI\":9}\n",
    "socio_key={1:\"Pacific\", 2:\"Mountain\", 3:\"West North Central\", 4: \"West South Central\", 5: \"East North Central\", 6: \"East South Central\", 7: \"South Atlantic\", 8: \"Middle Atlantic\", 9: \"New England\"}"
   ]
  },
  {
   "cell_type": "code",
   "execution_count": 17,
   "metadata": {},
   "outputs": [],
   "source": [
    "# Defining climatic zones/regions\n",
    "weather_regions={\"WA\":1, \"OR\":1, \"ID\":1, \"NV\":2, \"CA\":2, \"MT\":3, \"WY\":3,\"ND\":3, \"SD\":3, \"NE\":3,\"UT\":4, \"CO\":4, \"AZ\":4, \"NM\":4, \"MN\":5,\"WI\":5, \"MI\":5, \"IA\":5,\"KS\":6, \"OK\":6 , \"TX\":6, \"AR\":6, \"LA\":6, \"MS\":6, \"MO\":7 , \"IL\":7, \"IN\":7, \"OH\":7, \"KY\":7, \"TN\":7, \"WV\":7, \"AL\":8, \"VA\":8, \"NC\":8, \"SC\":8, \"GA\":8, \"FL\":8, \"DE\":9, \"DC\":9, \"MD\":9, \"PA\":9, \"NJ\":9, \"NY\":9, \"MA\":9, \"CT\":9, \"NH\":9, \"VT\":9, \"ME\":9, \"RI\":9}\n",
    "weather_key={1: \"Northwest\", 2: \"West\", 3: \"West North Central\", 4: \"Southwest\", 5: \"East North Central\", 6: \"South\", 7: \"Central\", 8: \"Southeast\", 9:\"Northeast\"}"
   ]
  },
  {
   "cell_type": "code",
   "execution_count": 18,
   "metadata": {},
   "outputs": [],
   "source": [
    "# socio_zone={1: \"Pacific\", 2: \"Mountain\", 3: \"West North Central\", 4: \"West South Central\", 5: \"East North Central\", 6: \"East South Central\", 7: \"South Atlantic\", 8: \"Middle Atlantic\", 9: \"New England\"}\n",
    "# weather_zone={1: \"Northwest\", 2: \"West\", 3: \"West North Central\", 4: \"SouthWest\", 5: \"Upper Midwest\", 6: \"South\", 7: \"Ohio Valley\", 8: \"Southeast\", 9: \"Northeast\"}\n",
    "# temp=pd.DataFrame()\n",
    "# temp[\"Code\"]= socio_zone.keys()\n",
    "# temp[\"Zone\"]= socio_zone.values()"
   ]
  },
  {
   "cell_type": "code",
   "execution_count": 19,
   "metadata": {},
   "outputs": [],
   "source": [
    "#Importing WNV yearly data\n",
    "df= pd.read_csv(wnv_file_path, encoding='latin-1')\n",
    "df=df[df[\"Select_County\"]==1]\n",
    "df.rename(columns = {'GEOID10':'GEOID'}, inplace = True)\n",
    "df=df[df[\"STNAME\"]!=\"California\"]"
   ]
  },
  {
   "cell_type": "code",
   "execution_count": 20,
   "metadata": {},
   "outputs": [],
   "source": [
    "# Adding a column for incident year\n",
    "incident_year=[years[-1] for i in range(len(df))]\n",
    "for j in range(len(df)):\n",
    "    for i in years:\n",
    "        if(df.iloc[j][\"NI_IR_\" + str(i)]!=0):\n",
    "            incident_year[j]=i\n",
    "            break\n",
    "df[\"Incident_year\"]=incident_year"
   ]
  },
  {
   "cell_type": "code",
   "execution_count": 21,
   "metadata": {},
   "outputs": [],
   "source": [
    "# Adding temp, precp, and humidity data\n",
    "df_mod=df.copy()\n",
    "for i in variables:\n",
    "    for j in years:\n",
    "        for k in range(len(months)):\n",
    "            #Importing monthly Variable data\n",
    "            data= pd.read_csv(weather_data_path + i +\"_masked/\"+ str(j) + \"_\" + months[k] + \"_masked.csv\")\n",
    "            data=data[[\"GEOID\", \"mean\"]]\n",
    "            data.rename(columns = {'mean': i + '_' + str(j) + \"_\" + months[k]}, inplace = True)\n",
    "            df_mod=df_mod.join(data.set_index('GEOID'), on='GEOID')"
   ]
  },
  {
   "cell_type": "code",
   "execution_count": 22,
   "metadata": {},
   "outputs": [],
   "source": [
    "#Adding socioeconomic and weather regions classification column\n",
    "sc=[]\n",
    "we=[]\n",
    "for i in range(len(df_mod)):\n",
    "    sc.append(socio_regions[df_mod.iloc[i][\"STUSPS\"]])\n",
    "    we.append(weather_regions[df_mod.iloc[i][\"STUSPS\"]])\n",
    "df_mod[\"Socio_econ_class\"]=sc \n",
    "df_mod[\"Weather_class\"]=we"
   ]
  },
  {
   "cell_type": "code",
   "execution_count": 83,
   "metadata": {},
   "outputs": [],
   "source": [
    "median_variable=variables[2]   # Variable used to calculate median IR"
   ]
  },
  {
   "cell_type": "code",
   "execution_count": 84,
   "metadata": {},
   "outputs": [],
   "source": [
    "#Calculating average of mean summer temperature, precipitaion, humidity,  for every county and storing \n",
    "#all the corresponding attributes in different lists so that a simplified dataframe can be made.\n",
    "#Months considered with temperature lying in CDD_temp range, not just May-Sept. Only median year value is considered.\n",
    "geo_id=[]\n",
    "mean_temp_2m=[]\n",
    "mean_temp_sfc=[]\n",
    "mean_prec=[]\n",
    "mean_hum=[]\n",
    "mean_ir=[]\n",
    "w_cl=[]\n",
    "s_cl=[]\n",
    "for i in range(len(df_mod)):\n",
    "    summer_temp_2m=[]\n",
    "    summer_temp_sfc=[]    \n",
    "    summer_prec=[]\n",
    "    summer_hum=[]\n",
    "    summer_ir=[]\n",
    "    inc_year= df_mod.iloc[i][\"Incident_year\"]  # 1st year of WNV incidence\n",
    "                                     \n",
    "    for j in range(inc_year+1, years[-1]+1):\n",
    "        cdd_mon=[]\n",
    "        for k in months:\n",
    "            if(df_mod.iloc[i][variables[0]+ \"_\" + str(j) + \"_\" + k]>=a and df_mod.iloc[i][variables[0]+ \"_\" + str(j) + \"_\" + k]<=b):\n",
    "                cdd_mon.append(k)\n",
    "\n",
    "        avg_temp_2m=[]\n",
    "        avg_temp_sfc=[]    \n",
    "        avg_prec=[]\n",
    "        avg_hum=[]\n",
    "        for k in cdd_mon:\n",
    "            #Storing summer temp/prec/hum values for a certain year.\n",
    "            avg_temp_2m.append(df_mod.iloc[i][variables[0] + \"_\" + str(j) + \"_\" + k] -273)\n",
    "            avg_temp_sfc.append(df_mod.iloc[i][variables[1] + \"_\" + str(j) + \"_\" + k] -273)\n",
    "            avg_prec.append(df_mod.iloc[i][variables[2] + \"_\" + str(j) + \"_\" + k])\n",
    "            avg_hum.append(df_mod.iloc[i][variables[3] + \"_\" + str(j) + \"_\" + k])\n",
    "        #Calculating and storing the average summer temp/prec/hum value for a certain year.\n",
    "        summer_temp_2m.append(np.mean(avg_temp_2m))    \n",
    "        summer_temp_sfc.append(np.mean(avg_temp_sfc))\n",
    "        summer_prec.append(np.mean(avg_prec))\n",
    "        summer_hum.append(np.mean(avg_hum))\n",
    "        summer_ir.append(df_mod.iloc[i][\"NI_IR_\" + str(j)])\n",
    "                                   \n",
    "    if(inc_year!=years[-1]):\n",
    "        # Calculating median of variables across all the years\n",
    "        if(median_variable==variables[0]):\n",
    "            l=summer_temp_2m\n",
    "        elif(median_variable==variables[1]):\n",
    "            l=summer_temp_sfc\n",
    "        elif(median_variable==variables[2]):\n",
    "            l=summer_prec\n",
    "        elif(median_variable==variables[3]):\n",
    "            l=summer_hum\n",
    "        index=np.argsort(l)[len(l)//2]       #Index of median value\n",
    "        mean_temp_2m.append(summer_temp_2m[index])\n",
    "        mean_temp_sfc.append(summer_temp_sfc[index])\n",
    "        mean_prec.append(summer_prec[index])\n",
    "        mean_hum.append(summer_hum[index])\n",
    "        mean_ir.append(summer_ir[index])     #Median corresponding to the variable of interest\n",
    "        \n",
    "        geo_id.append(df_mod.iloc[i][\"GEOID\"])\n",
    "        w_cl.append(df_mod.iloc[i][\"Weather_class\"])\n",
    "        s_cl.append(df_mod.iloc[i][\"Socio_econ_class\"])"
   ]
  },
  {
   "cell_type": "code",
   "execution_count": 85,
   "metadata": {},
   "outputs": [],
   "source": [
    "#For the median year\n",
    "df_combined=pd.DataFrame()\n",
    "df_combined[\"GEOID\"]=geo_id\n",
    "df_combined[\"IR\"]=mean_ir\n",
    "df_combined[\"Temp_2m\"]=mean_temp_2m\n",
    "df_combined[\"Temp_sfc\"]=mean_temp_sfc\n",
    "df_combined[\"Prec\"]=mean_prec\n",
    "df_combined[\"Hum\"]=mean_hum\n",
    "df_combined[\"Weather_class\"]=w_cl\n",
    "df_combined[\"Socio_econ_class\"]=s_cl"
   ]
  },
  {
   "cell_type": "code",
   "execution_count": 86,
   "metadata": {},
   "outputs": [],
   "source": [
    "df_combined=df_combined[df_combined[\"Temp_2m\"].isnull()==False]\n",
    "df_combined=df_combined[df_combined[\"IR\"]!=0]   # Removing entries with IR=0"
   ]
  },
  {
   "cell_type": "code",
   "execution_count": 88,
   "metadata": {},
   "outputs": [],
   "source": [
    "#df_combined[\"Temp_2m\"].isnull().any()"
   ]
  },
  {
   "cell_type": "code",
   "execution_count": null,
   "metadata": {},
   "outputs": [],
   "source": [
    "#To export data\n",
    "df_combined.to_csv(r'/Users/sparshagarwal/Desktop/Dataframe.csv', index=False)"
   ]
  },
  {
   "cell_type": "code",
   "execution_count": null,
   "metadata": {},
   "outputs": [],
   "source": [
    "#df_combined=df_combined[df_combined[\"Weather_class\"]==9]\n",
    "#df_combined=df_combined[df_combined[\"Socio_econ_class\"]==9]"
   ]
  },
  {
   "cell_type": "code",
   "execution_count": 90,
   "metadata": {},
   "outputs": [],
   "source": [
    "#Variable for which the trend has to be plotted\n",
    "var='Temp_2m'\n",
    "#var='Temp_sfc'\n",
    "#var='Prec'\n",
    "#var='Hum'"
   ]
  },
  {
   "cell_type": "code",
   "execution_count": 91,
   "metadata": {},
   "outputs": [
    {
     "data": {
      "text/plain": [
       "<matplotlib.axes._subplots.AxesSubplot at 0x12c8de710>"
      ]
     },
     "execution_count": 91,
     "metadata": {},
     "output_type": "execute_result"
    },
    {
     "data": {
      "image/png": "[encoded data removed]",
      "text/plain": [
       "<Figure size 432x288 with 1 Axes>"
      ]
     },
     "metadata": {
      "needs_background": "light"
     },
     "output_type": "display_data"
    }
   ],
   "source": [
    "df_combined.plot(kind='scatter',x=var,y='IR',color=\"None\", edgecolors='red')"
   ]
  },
  {
   "cell_type": "code",
   "execution_count": null,
   "metadata": {},
   "outputs": [],
   "source": []
  }
 ],
 "metadata": {
  "kernelspec": {
   "display_name": "Python 3",
   "language": "python",
   "name": "python3"
  },
  "language_info": {
   "codemirror_mode": {
    "name": "ipython",
    "version": 3
   },
   "file_extension": ".py",
   "mimetype": "text/x-python",
   "name": "python",
   "nbconvert_exporter": "python",
   "pygments_lexer": "ipython3",
   "version": "3.7.4"
  }
 },
 "nbformat": 4,
 "nbformat_minor": 2
}
