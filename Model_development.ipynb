{
 "cells": [
  {
   "cell_type": "code",
   "execution_count": 1,
   "metadata": {},
   "outputs": [
    {
     "data": {
      "application/javascript": [
       "\n",
       "Jupyter.keyboard_manager.command_shortcuts.add_shortcut('r', {\n",
       "    help : 'run all cells',\n",
       "    help_index : 'zz',\n",
       "    handler : function (event) {\n",
       "        IPython.notebook.execute_all_cells();\n",
       "        return false;\n",
       "    }}\n",
       ");\n"
      ],
      "text/plain": [
       "<IPython.core.display.Javascript object>"
      ]
     },
     "metadata": {},
     "output_type": "display_data"
    }
   ],
   "source": [
    "%%javascript\n",
    "\n",
    "Jupyter.keyboard_manager.command_shortcuts.add_shortcut('r', {\n",
    "    help : 'run all cells',\n",
    "    help_index : 'zz',\n",
    "    handler : function (event) {\n",
    "        IPython.notebook.execute_all_cells();\n",
    "        return false;\n",
    "    }}\n",
    ");"
   ]
  },
  {
   "cell_type": "code",
   "execution_count": 84,
   "metadata": {},
   "outputs": [],
   "source": [
    "%matplotlib inline\n",
    "import pandas as pd\n",
    "import numpy as np\n",
    "import matplotlib.pyplot as plt\n",
    "from statistics import stdev\n",
    "from statistics import mean\n",
    "from sklearn.utils import shuffle\n",
    "from sklearn.model_selection import train_test_split\n",
    "from sklearn.linear_model import LinearRegression\n",
    "from sklearn import metrics\n",
    "from sklearn.ensemble import GradientBoostingRegressor"
   ]
  },
  {
   "cell_type": "code",
   "execution_count": 3,
   "metadata": {},
   "outputs": [],
   "source": [
    "# Defining Virus tramission temperarture range(in Fahrenheit)\n",
    "a=60\n",
    "b=90"
   ]
  },
  {
   "cell_type": "code",
   "execution_count": 15,
   "metadata": {},
   "outputs": [],
   "source": [
    "# For feature transformation of average summer temperature\n",
    "avg= 23.9   # In degree celcius, and obtained from Fig8 in the \"paper\". \n",
    "sigma= 1.5  #23.9+2*sigma=27. It will not change with change in temp from Celcius to Kelvin."
   ]
  },
  {
   "cell_type": "code",
   "execution_count": 16,
   "metadata": {},
   "outputs": [],
   "source": [
    "# Converting Fahrenheit to Kelvin\n",
    "a=(a-32)*5/9 + 273\n",
    "b=(b-32)*5/9 + 273\n",
    "# Converting Celciusto Kelvin\n",
    "avg+=273"
   ]
  },
  {
   "cell_type": "code",
   "execution_count": 5,
   "metadata": {},
   "outputs": [],
   "source": [
    "# Variable for importimng all the NARR data\n",
    "# variables= [\"air.2m\", \"air.sfc\", \"apcp\", \"rhum.2m\"]\n",
    "variables= [\"air.2m\", \"apcp\", \"rhum.2m\"]"
   ]
  },
  {
   "cell_type": "code",
   "execution_count": 6,
   "metadata": {},
   "outputs": [],
   "source": [
    "months=[\"01\", \"02\", \"03\", \"04\", \"05\", \"06\", \"07\", \"08\", \"09\", \"10\", \"11\", \"12\"]\n",
    "years=range(1999, 2016)"
   ]
  },
  {
   "cell_type": "code",
   "execution_count": 7,
   "metadata": {},
   "outputs": [],
   "source": [
    "# Importing WNV data\n",
    "df= pd.read_csv(\"/Users/sparshagarwal/Downloads/WMV_data/Arbovirus_risk_modeling_US/WNV_human_cases/WNV_NI_NNI_1999to2015_prevalence_incidence_final_20180530.csv\", encoding='latin-1')\n",
    "#Selecting Urban Counties\n",
    "df=df[df[\"Select_County\"]==1]\n",
    "#Removing data for California due to data anomaly\n",
    "df=df[df[\"STNAME\"]!=\"California\"]\n",
    "\n",
    "df.rename(columns = {'GEOID10':'GEOID'}, inplace = True)"
   ]
  },
  {
   "cell_type": "code",
   "execution_count": 8,
   "metadata": {},
   "outputs": [],
   "source": [
    "# Adding a column for incident year\n",
    "incident_year=[years[-1] for i in range(len(df))]\n",
    "for j in range(len(df)):\n",
    "    for i in years:\n",
    "        if(df.iloc[j][\"NI_IR_\" + str(i)]!=0):\n",
    "            incident_year[j]=i\n",
    "            break\n",
    "df[\"Incident_year\"]=incident_year"
   ]
  },
  {
   "cell_type": "code",
   "execution_count": 9,
   "metadata": {},
   "outputs": [],
   "source": [
    "# Adding temp, precp, and humidity data\n",
    "df_mod=df.copy()\n",
    "for i in variables:\n",
    "    for j in years:\n",
    "        for k in range(len(months)):\n",
    "            #Importing monthly Variable data\n",
    "            data= pd.read_csv(\"/Users/sparshagarwal/Downloads/WMV_data/intersections/narr_urban_county_data_masked/\" + i +\"_masked/\"+ str(j) + \"_\" + months[k] + \"_masked.csv\")\n",
    "            data=data[[\"GEOID\", \"mean\"]]\n",
    "            data.rename(columns = {'mean': i + '_' + str(j) + \"_\" + months[k]}, inplace = True)\n",
    "            df_mod=df_mod.join(data.set_index('GEOID'), on='GEOID')"
   ]
  },
  {
   "cell_type": "code",
   "execution_count": 10,
   "metadata": {},
   "outputs": [],
   "source": [
    "df_mod=df_mod[:10]   # Just for simplicity"
   ]
  },
  {
   "cell_type": "code",
   "execution_count": 30,
   "metadata": {},
   "outputs": [],
   "source": [
    "# For transforming temperature into normally distributed variable\n",
    "def temp_transform(temp):\n",
    "    ans= (1/(np.sqrt(2*np.pi)*sigma))*(np.exp(-((temp-avg)**2)/(2* (sigma)**2)))\n",
    "    return ans"
   ]
  },
  {
   "cell_type": "code",
   "execution_count": 11,
   "metadata": {},
   "outputs": [],
   "source": [
    "cdd=[]        #cumulative degree days  \n",
    "cp=[]         #cumulative precipitation\n",
    "temp_avg=[]   #Average temperature within replication range (mean summer temp)\n",
    "prec_avg=[]   #Average precipitation within replication range\n",
    "hum_avg=[]    #Average humidity within replication range\n",
    "temp_sd=[]    #Temperature Std.dev. within replication range\n",
    "prec_sd=[]    #Precipitation Std.dev. within replication range\n",
    "hum_sd=[]     #Humidity Std.dev. within replication range\n",
    "temp_y_sd=[]  #Temperature yearly Std.dev. within replication range\n",
    "prec_y_sd=[]  #Precipitation yearly Std.dev. within replication range\n",
    "hum_y_sd=[]   #Humidity yearly Std.dev. within replication range\n",
    "temp_o_avg=[] #Average temperature outside replication range\n",
    "prec_o_avg=[] #Average precipitation outside replication range\n",
    "hum_o_avg=[]  #Average humidity outside replication range\n",
    "ir=[]         #For storing IR of WNV\n",
    "geoid=[]      #For storing GEOIDs\n",
    "\n",
    "\n",
    "for i in range(len(df_mod)):\n",
    "\n",
    "    inc_year= df_mod.iloc[i][\"Incident_year\"]  # 1st year of WNV incidence\n",
    "    \n",
    "    for j in range(inc_year+1, years[-1]+1):    # For all years after first incident year\n",
    "        #Number of days in february\n",
    "        feb=28\n",
    "        #For leap year\n",
    "        if(j%4==0):\n",
    "            feb=29\n",
    "        #Months with number of days\n",
    "        days={\"01\":31, \"02\":feb, \"03\" :31, \"04\":30, \"05\":31, \"06\":30, \"07\":31, \"08\":31, \"09\":30, \"10\":31, \"11\":30, \"12\":31}        \n",
    "        \n",
    "        v_cdd=0\n",
    "        v_cp=0\n",
    "        v_temp_avg=[]\n",
    "        v_prec_avg=[]\n",
    "        v_hum_avg=[]\n",
    "        v_temp_y_sd=[]\n",
    "        v_prec_y_sd=[]\n",
    "        v_hum_y_sd=[]\n",
    "        v_temp_o_avg=[]\n",
    "        v_prec_o_avg=[]\n",
    "        v_hum_o_avg=[]\n",
    "        \n",
    "        for k in months:\n",
    "            v_temp_y_sd.append(df_mod.iloc[i][variables[0] + \"_\" + str(j) + \"_\" + k])\n",
    "            v_prec_y_sd.append(df_mod.iloc[i][variables[1] + \"_\" + str(j) + \"_\" + k])\n",
    "            v_hum_y_sd.append(df_mod.iloc[i][variables[2] + \"_\" + str(j) + \"_\" + k])\n",
    "            \n",
    "            if((df_mod.iloc[i][variables[0] + \"_\" + str(j) + \"_\" + k]>=a) and (df_mod.iloc[i][variables[0] + \"_\" + str(j) + \"_\" + k]<=b)):\n",
    "            #if(df_mod.iloc[i][variables[0] + \"_\" + str(j) + \"_\" + k]>=a):\n",
    "                v_cdd=v_cdd + days[k]\n",
    "                v_cp=v_cp + df_mod.iloc[i][variables[1] + \"_\" + str(j) + \"_\" + k]\n",
    "                \n",
    "                v_temp_avg.append(df_mod.iloc[i][variables[0] + \"_\" + str(j) + \"_\" + k])\n",
    "                v_prec_avg.append(df_mod.iloc[i][variables[1] + \"_\" + str(j) + \"_\" + k])\n",
    "                v_hum_avg.append(df_mod.iloc[i][variables[2] + \"_\" + str(j) + \"_\" + k])\n",
    "                \n",
    "            else:\n",
    "                v_temp_o_avg.append(df_mod.iloc[i][variables[0] + \"_\" + str(j) + \"_\" + k])\n",
    "                v_prec_o_avg.append(df_mod.iloc[i][variables[1] + \"_\" + str(j) + \"_\" + k])\n",
    "                v_hum_o_avg.append(df_mod.iloc[i][variables[2] + \"_\" + str(j) + \"_\" + k])\n",
    "                \n",
    "        \n",
    "        # Calculating and appending std. dev., mean and values of the variables.\n",
    "\n",
    "        temp_y_sd.append(np.std(np.array(v_temp_y_sd)))\n",
    "        prec_y_sd. append(np.std(np.array(v_prec_y_sd)))\n",
    "        hum_y_sd. append(np.std(np.array(v_hum_y_sd)))\n",
    "      \n",
    "        geoid.append(df_mod.iloc[i][\"GEOID\"])\n",
    "        ir.append(df_mod.iloc[i][\"NI_IR_\" + str(j)])\n",
    "        \n",
    "        cdd.append(v_cdd)\n",
    "        cp.append(v_cp)\n",
    "        \n",
    "        temp_avg.append(mean(np.array(v_temp_avg)))\n",
    "        prec_avg.append(mean(np.array(v_prec_avg)))\n",
    "        hum_avg.append(mean(np.array(v_hum_avg)))\n",
    "        \n",
    "        temp_sd.append(stdev(np.array(v_temp_avg)))\n",
    "        prec_sd.append(stdev(np.array(v_prec_avg)))\n",
    "        hum_sd.append(stdev(np.array(v_hum_avg)))\n",
    "        \n",
    "        temp_o_avg.append(mean(np.array(v_temp_o_avg)))\n",
    "        prec_o_avg.append(mean(np.array(v_prec_o_avg)))\n",
    "        hum_o_avg.append(mean(np.array(v_hum_o_avg)))"
   ]
  },
  {
   "cell_type": "code",
   "execution_count": 12,
   "metadata": {},
   "outputs": [],
   "source": [
    "final=pd.DataFrame()\n",
    "final[\"GEOID\"]=geoid\n",
    "final[\"IR\"]=ir\n",
    "final[\"CDD\"]=cdd\n",
    "final[\"CP\"]=cp\n",
    "final[\"Temp_avg\"]=temp_avg\n",
    "final[\"Prec_avg\"]=prec_avg\n",
    "final[\"Hum_avg\"]=hum_avg\n",
    "final[\"Temp_sd\"]=temp_sd\n",
    "final[\"Prec_sd\"]=prec_sd\n",
    "final[\"Hum_sd\"]=hum_sd\n",
    "final[\"Temp_y_sd\"]=temp_y_sd\n",
    "final[\"Prec_y_sd\"]=prec_y_sd\n",
    "final[\"Hum_y_sd\"]=hum_y_sd\n",
    "final[\"Temp_o_avg\"]=temp_o_avg\n",
    "final[\"Prec_o_avg\"]=prec_o_avg\n",
    "final[\"Hum_o_avg\"]=hum_o_avg"
   ]
  },
  {
   "cell_type": "code",
   "execution_count": null,
   "metadata": {},
   "outputs": [],
   "source": [
    "#Looking at correlation between variables (especially between IR and rest of the variables)\n",
    "final.corr()"
   ]
  },
  {
   "cell_type": "code",
   "execution_count": 13,
   "metadata": {},
   "outputs": [
    {
     "data": {
      "text/html": [
       "<div>\n",
       "<style scoped>\n",
       "    .dataframe tbody tr th:only-of-type {\n",
       "        vertical-align: middle;\n",
       "    }\n",
       "\n",
       "    .dataframe tbody tr th {\n",
       "        vertical-align: top;\n",
       "    }\n",
       "\n",
       "    .dataframe thead th {\n",
       "        text-align: right;\n",
       "    }\n",
       "</style>\n",
       "<table border=\"1\" class=\"dataframe\">\n",
       "  <thead>\n",
       "    <tr style=\"text-align: right;\">\n",
       "      <th></th>\n",
       "      <th>GEOID</th>\n",
       "      <th>IR</th>\n",
       "      <th>CDD</th>\n",
       "      <th>CP</th>\n",
       "      <th>Temp_avg</th>\n",
       "      <th>Prec_avg</th>\n",
       "      <th>Hum_avg</th>\n",
       "      <th>Temp_sd</th>\n",
       "      <th>Prec_sd</th>\n",
       "      <th>Hum_sd</th>\n",
       "      <th>Temp_y_sd</th>\n",
       "      <th>Prec_y_sd</th>\n",
       "      <th>Hum_y_sd</th>\n",
       "      <th>Temp_o_avg</th>\n",
       "      <th>Prec_o_avg</th>\n",
       "      <th>Hum_o_avg</th>\n",
       "    </tr>\n",
       "  </thead>\n",
       "  <tbody>\n",
       "    <tr>\n",
       "      <td>58</td>\n",
       "      <td>1051</td>\n",
       "      <td>0.000000</td>\n",
       "      <td>214</td>\n",
       "      <td>22.738397</td>\n",
       "      <td>296.570295</td>\n",
       "      <td>3.248342</td>\n",
       "      <td>74.320560</td>\n",
       "      <td>3.977348</td>\n",
       "      <td>2.093997</td>\n",
       "      <td>2.871647</td>\n",
       "      <td>8.014565</td>\n",
       "      <td>1.681764</td>\n",
       "      <td>3.448314</td>\n",
       "      <td>282.011603</td>\n",
       "      <td>3.384098</td>\n",
       "      <td>74.405022</td>\n",
       "    </tr>\n",
       "    <tr>\n",
       "      <td>16</td>\n",
       "      <td>1003</td>\n",
       "      <td>0.000000</td>\n",
       "      <td>245</td>\n",
       "      <td>26.989222</td>\n",
       "      <td>296.802467</td>\n",
       "      <td>3.373653</td>\n",
       "      <td>71.458904</td>\n",
       "      <td>4.954854</td>\n",
       "      <td>1.579714</td>\n",
       "      <td>2.692745</td>\n",
       "      <td>6.634763</td>\n",
       "      <td>1.343343</td>\n",
       "      <td>3.969985</td>\n",
       "      <td>285.460716</td>\n",
       "      <td>3.063709</td>\n",
       "      <td>76.638941</td>\n",
       "    </tr>\n",
       "    <tr>\n",
       "      <td>17</td>\n",
       "      <td>1003</td>\n",
       "      <td>0.000000</td>\n",
       "      <td>214</td>\n",
       "      <td>28.791416</td>\n",
       "      <td>296.992597</td>\n",
       "      <td>4.113059</td>\n",
       "      <td>76.307679</td>\n",
       "      <td>3.811456</td>\n",
       "      <td>1.843005</td>\n",
       "      <td>1.322877</td>\n",
       "      <td>6.562665</td>\n",
       "      <td>1.440895</td>\n",
       "      <td>2.059249</td>\n",
       "      <td>285.124390</td>\n",
       "      <td>3.286370</td>\n",
       "      <td>77.866951</td>\n",
       "    </tr>\n",
       "    <tr>\n",
       "      <td>96</td>\n",
       "      <td>1073</td>\n",
       "      <td>0.760296</td>\n",
       "      <td>245</td>\n",
       "      <td>27.882088</td>\n",
       "      <td>295.506373</td>\n",
       "      <td>3.485261</td>\n",
       "      <td>72.216269</td>\n",
       "      <td>4.405391</td>\n",
       "      <td>1.638167</td>\n",
       "      <td>1.100596</td>\n",
       "      <td>6.741919</td>\n",
       "      <td>1.544500</td>\n",
       "      <td>2.801784</td>\n",
       "      <td>283.137121</td>\n",
       "      <td>3.380152</td>\n",
       "      <td>76.299782</td>\n",
       "    </tr>\n",
       "    <tr>\n",
       "      <td>48</td>\n",
       "      <td>1045</td>\n",
       "      <td>0.000000</td>\n",
       "      <td>214</td>\n",
       "      <td>26.235750</td>\n",
       "      <td>297.342887</td>\n",
       "      <td>3.747964</td>\n",
       "      <td>74.432963</td>\n",
       "      <td>3.734961</td>\n",
       "      <td>2.551962</td>\n",
       "      <td>2.770085</td>\n",
       "      <td>7.562897</td>\n",
       "      <td>1.929531</td>\n",
       "      <td>3.194216</td>\n",
       "      <td>283.532025</td>\n",
       "      <td>3.200523</td>\n",
       "      <td>75.556740</td>\n",
       "    </tr>\n",
       "    <tr>\n",
       "      <td>...</td>\n",
       "      <td>...</td>\n",
       "      <td>...</td>\n",
       "      <td>...</td>\n",
       "      <td>...</td>\n",
       "      <td>...</td>\n",
       "      <td>...</td>\n",
       "      <td>...</td>\n",
       "      <td>...</td>\n",
       "      <td>...</td>\n",
       "      <td>...</td>\n",
       "      <td>...</td>\n",
       "      <td>...</td>\n",
       "      <td>...</td>\n",
       "      <td>...</td>\n",
       "      <td>...</td>\n",
       "      <td>...</td>\n",
       "    </tr>\n",
       "    <tr>\n",
       "      <td>9</td>\n",
       "      <td>1001</td>\n",
       "      <td>0.000000</td>\n",
       "      <td>245</td>\n",
       "      <td>27.663820</td>\n",
       "      <td>296.186375</td>\n",
       "      <td>3.457977</td>\n",
       "      <td>72.228345</td>\n",
       "      <td>4.217097</td>\n",
       "      <td>1.729158</td>\n",
       "      <td>1.357888</td>\n",
       "      <td>6.472315</td>\n",
       "      <td>1.650138</td>\n",
       "      <td>2.634239</td>\n",
       "      <td>284.298653</td>\n",
       "      <td>3.451143</td>\n",
       "      <td>76.023689</td>\n",
       "    </tr>\n",
       "    <tr>\n",
       "      <td>32</td>\n",
       "      <td>1015</td>\n",
       "      <td>0.000000</td>\n",
       "      <td>214</td>\n",
       "      <td>19.008305</td>\n",
       "      <td>296.153931</td>\n",
       "      <td>2.715472</td>\n",
       "      <td>69.739151</td>\n",
       "      <td>5.163590</td>\n",
       "      <td>1.565459</td>\n",
       "      <td>3.275725</td>\n",
       "      <td>7.977673</td>\n",
       "      <td>1.556199</td>\n",
       "      <td>3.909864</td>\n",
       "      <td>282.568274</td>\n",
       "      <td>3.758924</td>\n",
       "      <td>75.335186</td>\n",
       "    </tr>\n",
       "    <tr>\n",
       "      <td>39</td>\n",
       "      <td>1045</td>\n",
       "      <td>0.000000</td>\n",
       "      <td>214</td>\n",
       "      <td>27.305021</td>\n",
       "      <td>296.944118</td>\n",
       "      <td>3.900717</td>\n",
       "      <td>74.415750</td>\n",
       "      <td>4.477211</td>\n",
       "      <td>2.729698</td>\n",
       "      <td>2.622131</td>\n",
       "      <td>6.631999</td>\n",
       "      <td>2.125036</td>\n",
       "      <td>2.209934</td>\n",
       "      <td>285.500354</td>\n",
       "      <td>3.204750</td>\n",
       "      <td>76.043294</td>\n",
       "    </tr>\n",
       "    <tr>\n",
       "      <td>26</td>\n",
       "      <td>1015</td>\n",
       "      <td>0.000000</td>\n",
       "      <td>184</td>\n",
       "      <td>17.099725</td>\n",
       "      <td>296.649648</td>\n",
       "      <td>2.849954</td>\n",
       "      <td>74.204149</td>\n",
       "      <td>4.025323</td>\n",
       "      <td>2.361757</td>\n",
       "      <td>2.698339</td>\n",
       "      <td>7.529916</td>\n",
       "      <td>1.669574</td>\n",
       "      <td>2.392503</td>\n",
       "      <td>283.294322</td>\n",
       "      <td>3.367787</td>\n",
       "      <td>74.720056</td>\n",
       "    </tr>\n",
       "    <tr>\n",
       "      <td>15</td>\n",
       "      <td>1003</td>\n",
       "      <td>0.594810</td>\n",
       "      <td>214</td>\n",
       "      <td>19.791385</td>\n",
       "      <td>298.077737</td>\n",
       "      <td>2.827341</td>\n",
       "      <td>71.664455</td>\n",
       "      <td>3.541635</td>\n",
       "      <td>1.243366</td>\n",
       "      <td>2.944033</td>\n",
       "      <td>6.492710</td>\n",
       "      <td>1.167544</td>\n",
       "      <td>3.373085</td>\n",
       "      <td>286.058698</td>\n",
       "      <td>3.064636</td>\n",
       "      <td>76.158939</td>\n",
       "    </tr>\n",
       "  </tbody>\n",
       "</table>\n",
       "<p>103 rows × 16 columns</p>\n",
       "</div>"
      ],
      "text/plain": [
       "    GEOID        IR  CDD         CP    Temp_avg  Prec_avg    Hum_avg  \\\n",
       "58   1051  0.000000  214  22.738397  296.570295  3.248342  74.320560   \n",
       "16   1003  0.000000  245  26.989222  296.802467  3.373653  71.458904   \n",
       "17   1003  0.000000  214  28.791416  296.992597  4.113059  76.307679   \n",
       "96   1073  0.760296  245  27.882088  295.506373  3.485261  72.216269   \n",
       "48   1045  0.000000  214  26.235750  297.342887  3.747964  74.432963   \n",
       "..    ...       ...  ...        ...         ...       ...        ...   \n",
       "9    1001  0.000000  245  27.663820  296.186375  3.457977  72.228345   \n",
       "32   1015  0.000000  214  19.008305  296.153931  2.715472  69.739151   \n",
       "39   1045  0.000000  214  27.305021  296.944118  3.900717  74.415750   \n",
       "26   1015  0.000000  184  17.099725  296.649648  2.849954  74.204149   \n",
       "15   1003  0.594810  214  19.791385  298.077737  2.827341  71.664455   \n",
       "\n",
       "     Temp_sd   Prec_sd    Hum_sd  Temp_y_sd  Prec_y_sd  Hum_y_sd  Temp_o_avg  \\\n",
       "58  3.977348  2.093997  2.871647   8.014565   1.681764  3.448314  282.011603   \n",
       "16  4.954854  1.579714  2.692745   6.634763   1.343343  3.969985  285.460716   \n",
       "17  3.811456  1.843005  1.322877   6.562665   1.440895  2.059249  285.124390   \n",
       "96  4.405391  1.638167  1.100596   6.741919   1.544500  2.801784  283.137121   \n",
       "48  3.734961  2.551962  2.770085   7.562897   1.929531  3.194216  283.532025   \n",
       "..       ...       ...       ...        ...        ...       ...         ...   \n",
       "9   4.217097  1.729158  1.357888   6.472315   1.650138  2.634239  284.298653   \n",
       "32  5.163590  1.565459  3.275725   7.977673   1.556199  3.909864  282.568274   \n",
       "39  4.477211  2.729698  2.622131   6.631999   2.125036  2.209934  285.500354   \n",
       "26  4.025323  2.361757  2.698339   7.529916   1.669574  2.392503  283.294322   \n",
       "15  3.541635  1.243366  2.944033   6.492710   1.167544  3.373085  286.058698   \n",
       "\n",
       "    Prec_o_avg  Hum_o_avg  \n",
       "58    3.384098  74.405022  \n",
       "16    3.063709  76.638941  \n",
       "17    3.286370  77.866951  \n",
       "96    3.380152  76.299782  \n",
       "48    3.200523  75.556740  \n",
       "..         ...        ...  \n",
       "9     3.451143  76.023689  \n",
       "32    3.758924  75.335186  \n",
       "39    3.204750  76.043294  \n",
       "26    3.367787  74.720056  \n",
       "15    3.064636  76.158939  \n",
       "\n",
       "[103 rows x 16 columns]"
      ]
     },
     "execution_count": 13,
     "metadata": {},
     "output_type": "execute_result"
    }
   ],
   "source": [
    "data=shuffle(final)"
   ]
  },
  {
   "cell_type": "code",
   "execution_count": 72,
   "metadata": {},
   "outputs": [],
   "source": [
    "#Splitting dataset into testing and training set\n",
    "train, test= train_test_split(final, test_size=0.30)"
   ]
  },
  {
   "cell_type": "code",
   "execution_count": 73,
   "metadata": {},
   "outputs": [],
   "source": [
    "# Separating variabels and objective function values\n",
    "X_train=train.iloc[:,2:]\n",
    "Y_train=train.iloc[:,1:2]\n",
    "X_test=test.iloc[:,2:]\n",
    "Y_test=test.iloc[:,1:2]"
   ]
  },
  {
   "cell_type": "code",
   "execution_count": 75,
   "metadata": {},
   "outputs": [
    {
     "data": {
      "text/plain": [
       "LinearRegression(copy_X=True, fit_intercept=True, n_jobs=None, normalize=False)"
      ]
     },
     "execution_count": 75,
     "metadata": {},
     "output_type": "execute_result"
    }
   ],
   "source": [
    "model=LinearRegression()\n",
    "model.fit(X_train.values, Y_train.values)"
   ]
  },
  {
   "cell_type": "code",
   "execution_count": 77,
   "metadata": {},
   "outputs": [
    {
     "data": {
      "text/plain": [
       "0.3586561841887334"
      ]
     },
     "execution_count": 77,
     "metadata": {},
     "output_type": "execute_result"
    }
   ],
   "source": [
    "# Calculating coefficient of determination on training set\n",
    "model.score(X_train.values,Y_train.values )"
   ]
  },
  {
   "cell_type": "code",
   "execution_count": 81,
   "metadata": {},
   "outputs": [
    {
     "data": {
      "text/plain": [
       "-8.328799816706637"
      ]
     },
     "execution_count": 81,
     "metadata": {},
     "output_type": "execute_result"
    }
   ],
   "source": [
    "# Calculating coefficient of determination on testing set\n",
    "model.score(X_test.values,Y_test.values )"
   ]
  },
  {
   "cell_type": "code",
   "execution_count": 82,
   "metadata": {},
   "outputs": [],
   "source": [
    "#Predicting value on test dataset\n",
    "Y_pred=model.predict(X_test.values)"
   ]
  },
  {
   "cell_type": "code",
   "execution_count": 85,
   "metadata": {},
   "outputs": [
    {
     "data": {
      "text/plain": [
       "0.4931984750884528"
      ]
     },
     "execution_count": 85,
     "metadata": {},
     "output_type": "execute_result"
    }
   ],
   "source": [
    "#Calculating RMSE\n",
    "np.sqrt(metrics.mean_squared_error(Y_test, Y_pred))"
   ]
  },
  {
   "cell_type": "code",
   "execution_count": null,
   "metadata": {},
   "outputs": [],
   "source": []
  }
 ],
 "metadata": {
  "kernelspec": {
   "display_name": "Python 3",
   "language": "python",
   "name": "python3"
  },
  "language_info": {
   "codemirror_mode": {
    "name": "ipython",
    "version": 3
   },
   "file_extension": ".py",
   "mimetype": "text/x-python",
   "name": "python",
   "nbconvert_exporter": "python",
   "pygments_lexer": "ipython3",
   "version": "3.7.4"
  }
 },
 "nbformat": 4,
 "nbformat_minor": 2
}
